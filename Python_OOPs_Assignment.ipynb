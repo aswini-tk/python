{
  "cells": [
    {
      "cell_type": "markdown",
      "id": "826470a2",
      "metadata": {
        "id": "826470a2"
      },
      "source": [
        "# Python OOPs — Theory Questions"
      ]
    },
    {
      "cell_type": "markdown",
      "id": "24577e6c",
      "metadata": {
        "id": "24577e6c"
      },
      "source": [
        "**1) What is Object-Oriented Programming (OOP)?**\n",
        "\n",
        "Object oriented programming is a style of coding based on the concept of objects. Objects are real world entities represented in code ,each object has attributes and methods. Attributes describe the object and methods define what object can do. Key principles of OOPs are polymorphism, Inheritence, Encapsulation, Abstraction.   "
      ]
    },
    {
      "cell_type": "markdown",
      "id": "bbb4876b",
      "metadata": {
        "id": "bbb4876b"
      },
      "source": [
        "**2) What is a class in OOP?**\n",
        "\n",
        "A class is a blueprint for creating objects. It defines the attributes and methods common to all its instances. Example: `class Dog:` describes what all dog objects know and do."
      ]
    },
    {
      "cell_type": "markdown",
      "id": "65a9e3d4",
      "metadata": {
        "id": "65a9e3d4"
      },
      "source": [
        "**3) What is an object in OOP?**\n",
        "\n",
        "An **object** is an instance of a class. It has its own data stored in instance attributes and can use the class's methods. Example: `snoopy = Dog()` is an object of class `Dog`."
      ]
    },
    {
      "cell_type": "markdown",
      "id": "06d16090",
      "metadata": {
        "id": "06d16090"
      },
      "source": [
        "**4) What is the difference between abstraction and encapsulation?**\n",
        "\n",
        "Abstraction focuses on what an object does by exposing essential behavior and hiding internal details.Encapsulation is how we hide data and implementation inside a class, exposing only a safe public interface (getters, setters, methods)."
      ]
    },
    {
      "cell_type": "markdown",
      "id": "74a1a682",
      "metadata": {
        "id": "74a1a682"
      },
      "source": [
        "**5) What are dunder methods in Python?**\n",
        "\n",
        "Dunder (double underscore) methods are special hook methods like `__init__`, `__str__`, `__repr__`, `__len__`, `__add__`. They integrate objects with Python syntax and built-ins, enabling construction, printing, arithmetic, iteration, and more."
      ]
    },
    {
      "cell_type": "markdown",
      "id": "6bb097ce",
      "metadata": {
        "id": "6bb097ce"
      },
      "source": [
        "**6) Explain the concept of inheritance in OOP.**\n",
        "\n",
        "**Inheritance** lets a class (child) reuse and extend behavior of another class (parent). It promotes code reuse and hierarchical modeling. Child classes can override or extend parent methods."
      ]
    },
    {
      "cell_type": "markdown",
      "id": "ff0954be",
      "metadata": {
        "id": "ff0954be"
      },
      "source": [
        "**7) What is polymorphism in OOP?**\n",
        "\n",
        "Polymorphism means the same interface can work with different underlying types. In Python, it is often seen as different classes implementing the same method name and being used interchangeably."
      ]
    },
    {
      "cell_type": "markdown",
      "id": "7c3a9d84",
      "metadata": {
        "id": "7c3a9d84"
      },
      "source": [
        "**8) How is encapsulation achieved in Python?**\n",
        "\n",
        "In Python, encapsulation is achieved mainly by restricting direct access to an object’s data and controlling it through methods (getters/setters).Python doesn’t have true \"private\" variables like some other languages, but it uses naming conventions and name mangling to provide data hiding."
      ]
    },
    {
      "cell_type": "code",
      "execution_count": 1,
      "id": "WCvvI23LZMr4",
      "metadata": {
        "colab": {
          "base_uri": "https://localhost:8080/"
        },
        "id": "WCvvI23LZMr4",
        "outputId": "9348d83b-f611-4ef6-ab45-cb107c8a3605"
      },
      "outputs": [
        {
          "name": "stdout",
          "output_type": "stream",
          "text": [
            "Toyota\n",
            "Tesla\n"
          ]
        }
      ],
      "source": [
        "class Car:\n",
        "    def __init__(self, brand):\n",
        "        # private attribute\n",
        "        self.__brand = brand\n",
        "\n",
        "    def get_brand(self):\n",
        "        return self.__brand\n",
        "\n",
        "    def set_brand(self, brand):\n",
        "        self.__brand = brand\n",
        "\n",
        "car = Car(\"Toyota\")\n",
        "print(car.get_brand())\n",
        "\n",
        "car.set_brand(\"Tesla\")\n",
        "print(car.get_brand())\n"
      ]
    },
    {
      "cell_type": "markdown",
      "id": "34e5c617",
      "metadata": {
        "id": "34e5c617"
      },
      "source": [
        "**9) What is a constructor in Python?**\n",
        "\n",
        "A constructor in Python is a special method that is automatically called when a new object of a class is created.In Python, the constructor method is named __ init __. It’s used to initialize the object’s attributes when the object is created."
      ]
    },
    {
      "cell_type": "code",
      "execution_count": 4,
      "id": "nuWxTYYfcwqQ",
      "metadata": {
        "id": "nuWxTYYfcwqQ"
      },
      "outputs": [],
      "source": [
        "class Car:\n",
        "    wheels = 4\n",
        "\n",
        "    def __init__(self, brand):\n",
        "        self.brand = brand"
      ]
    },
    {
      "cell_type": "markdown",
      "id": "3fde0e01",
      "metadata": {
        "id": "3fde0e01"
      },
      "source": [
        "**10) What are class and static methods in Python?**\n",
        "\n",
        "Class methods are defined using the @classmethod decorator.The first parameter is cls. It can access and modify class variables, but not instance variables.It can be called using the class name or an object."
      ]
    },
    {
      "cell_type": "code",
      "execution_count": 2,
      "id": "lwzOqyMycIUn",
      "metadata": {
        "colab": {
          "base_uri": "https://localhost:8080/"
        },
        "id": "lwzOqyMycIUn",
        "outputId": "18e9230d-08fd-4549-8b06-861eec4a35a1"
      },
      "outputs": [
        {
          "name": "stdout",
          "output_type": "stream",
          "text": [
            "6\n"
          ]
        }
      ],
      "source": [
        "class Car:\n",
        "    wheels = 4\n",
        "\n",
        "    def __init__(self, brand):\n",
        "        self.brand = brand\n",
        "\n",
        "    @classmethod\n",
        "    def change_wheels(cls, count):\n",
        "        cls.wheels = count\n",
        "\n",
        "# Calling class method\n",
        "Car.change_wheels(6)\n",
        "print(Car.wheels)"
      ]
    },
    {
      "cell_type": "markdown",
      "id": "_MwwyAIlcNSU",
      "metadata": {
        "id": "_MwwyAIlcNSU"
      },
      "source": [
        "Static methods are defined using the @staticmethod decorator. There is no self or cls parameter. It cannot access or modify class or instance variables.It is used for utility/helper functions related to the class."
      ]
    },
    {
      "cell_type": "code",
      "execution_count": 3,
      "id": "IZsrZy6gcpu-",
      "metadata": {
        "colab": {
          "base_uri": "https://localhost:8080/"
        },
        "id": "IZsrZy6gcpu-",
        "outputId": "692f84c5-2cc7-4e56-a484-03b625ea3134"
      },
      "outputs": [
        {
          "name": "stdout",
          "output_type": "stream",
          "text": [
            "8\n"
          ]
        }
      ],
      "source": [
        "class MathUtils:\n",
        "    @staticmethod\n",
        "    def add(a, b):\n",
        "        return a + b\n",
        "\n",
        "print(MathUtils.add(5, 3))"
      ]
    },
    {
      "cell_type": "markdown",
      "id": "9b0dab18",
      "metadata": {
        "id": "9b0dab18"
      },
      "source": [
        "**11) What is method overloading in Python?**\n",
        "\n",
        "Method overloading means having multiple methods with the same name but different parameters. but Python does not support traditional method overloading. Instead, if you define multiple methods with the same name, the latest definition overwrites the previous one. Since Python does not have built-in method overloading, we achieve similar behavior using default arguments, Variable-length arguments (*args, **kwargs),"
      ]
    },
    {
      "cell_type": "markdown",
      "id": "10b2535b",
      "metadata": {
        "id": "10b2535b"
      },
      "source": [
        "**12) What is method overriding in OOP?**\n",
        "\n",
        "Method overriding in Object-Oriented Programming (OOP) happens when a child class provides its own version of a method that already exists in its parent class. The method name, parameters, and return type must be the same as in the parent class. The child class’s version replaces (or \"overrides\") the parent’s version when called from an object of the child class."
      ]
    },
    {
      "cell_type": "markdown",
      "id": "da27110f",
      "metadata": {
        "id": "da27110f"
      },
      "source": [
        "**13) What is a property decorator in Python?**\n",
        "\n",
        "The @property decorator in Python is used to turn a class method into a read-only attribute.It lets you access a method like an attribute without using parentheses, while still allowing you to control how the value is calculated or retrieved."
      ]
    },
    {
      "cell_type": "code",
      "execution_count": 5,
      "id": "h-JETeVVf9zq",
      "metadata": {
        "colab": {
          "base_uri": "https://localhost:8080/"
        },
        "id": "h-JETeVVf9zq",
        "outputId": "142bc752-29fb-4431-e64e-1ad231dc94c8"
      },
      "outputs": [
        {
          "name": "stdout",
          "output_type": "stream",
          "text": [
            "78.5\n"
          ]
        }
      ],
      "source": [
        "class Circle:\n",
        "    def __init__(self, radius):\n",
        "        self._radius = radius  # protected attribute\n",
        "\n",
        "    @property\n",
        "    def area(self):\n",
        "        return 3.14 * self._radius ** 2  # computed property\n",
        "\n",
        "circle = Circle(5)\n",
        "print(circle.area)"
      ]
    },
    {
      "cell_type": "markdown",
      "id": "0bdba2cc",
      "metadata": {
        "id": "0bdba2cc"
      },
      "source": [
        "**14) Why is polymorphism important in OOP?**\n",
        "\n",
        "Polymorphism is important in OOP because it makes code more flexible, reusable, and easier to maintain by allowing the same method name to work with different types of objects. You can add new classes without changing existing code, as long as they follow the same method interface."
      ]
    },
    {
      "cell_type": "code",
      "execution_count": 6,
      "id": "3yX5ndpdhFV6",
      "metadata": {
        "colab": {
          "base_uri": "https://localhost:8080/"
        },
        "id": "3yX5ndpdhFV6",
        "outputId": "5b8cb41b-8f23-4371-b9fd-cf5a18e18282"
      },
      "outputs": [
        {
          "name": "stdout",
          "output_type": "stream",
          "text": [
            "Woof!\n",
            "Meow!\n"
          ]
        }
      ],
      "source": [
        "class Dog:\n",
        "    def speak(self):\n",
        "        return \"Woof!\"\n",
        "\n",
        "class Cat:\n",
        "    def speak(self):\n",
        "        return \"Meow!\"\n",
        "\n",
        "def animal_sound(animal):\n",
        "    print(animal.speak())\n",
        "\n",
        "animal_sound(Dog())\n",
        "animal_sound(Cat())"
      ]
    },
    {
      "cell_type": "markdown",
      "id": "87be6a6f",
      "metadata": {
        "id": "87be6a6f"
      },
      "source": [
        "**15) What is an abstract class in Python?**\n",
        "\n",
        "An abstract class in Python is a blueprint for other classes.It can define abstract methods (methods without implementation) that must be implemented by any child class that inherits from it.You use it when you want to enforce a certain structure in all subclasses.An abstract class (via `abc.ABC`) can define abstract methods with `@abstractmethod` that must be implemented by subclasses. It provides a shared interface and partial implementation."
      ]
    },
    {
      "cell_type": "markdown",
      "id": "a1cbddb2",
      "metadata": {
        "id": "a1cbddb2"
      },
      "source": [
        "**16) What are the advantages of OOP?**\n",
        "\n",
        "Modularity, reusability, maintainability, easier testing, natural real-world modeling, and clear separation of concerns through classes and objects."
      ]
    },
    {
      "cell_type": "markdown",
      "id": "582d2af8",
      "metadata": {
        "id": "582d2af8"
      },
      "source": [
        "**17) What is the difference between a class variable and an instance variable?**\n",
        "\n",
        "Class variable areshared across all instances. Defined at class level.  \n",
        "Instance variable are unique to each object. Usually set in `__init__` using `self.attr`."
      ]
    },
    {
      "cell_type": "markdown",
      "id": "420c2750",
      "metadata": {
        "id": "420c2750"
      },
      "source": [
        "**18) What is multiple inheritance in Python?**\n",
        "\n",
        "A class can inherit from multiple parent classes, for example `class C(A, B)`. Python uses **MRO** (method resolution order) to determine lookup order, following C3 linearization."
      ]
    },
    {
      "cell_type": "markdown",
      "id": "d57575d1",
      "metadata": {
        "id": "d57575d1"
      },
      "source": [
        "**19) Explain the purpose of `__str__` and `__repr__` methods in Python.**\n",
        "\n",
        "`__str__` returns a readable, user-friendly string. `__repr__` returns an unambiguous string aimed at developers, ideally a valid expression to recreate the object. Fallback: if `__str__` is missing, Python uses `__repr__`."
      ]
    },
    {
      "cell_type": "markdown",
      "id": "3810e73e",
      "metadata": {
        "id": "3810e73e"
      },
      "source": [
        "**20) What is the significance of the `super()` function in Python?**\n",
        "\n",
        "`super()` gives access to parent class methods and helps cooperative multiple inheritance work correctly with the MRO. Commonly used inside `__init__` and overridden methods."
      ]
    },
    {
      "cell_type": "markdown",
      "id": "35b0a678",
      "metadata": {
        "id": "35b0a678"
      },
      "source": [
        "**21) What is the significance of the `__del__` method in Python?**\n",
        "\n",
        "`__del__` is a finalizer called by the garbage collector when an object is about to be destroyed. It is rarely needed and can be tricky due to uncertain timing. Prefer context managers or `with` for resource cleanup."
      ]
    },
    {
      "cell_type": "markdown",
      "id": "760d4c9e",
      "metadata": {
        "id": "760d4c9e"
      },
      "source": [
        "**22) What is the difference between `@staticmethod` and `@classmethod` in Python?**\n",
        "\n",
        "- @staticmethod: no automatic first argument; behaves like a plain function inside the class namespace.  \n",
        "- @classmethod: first argument is the class; useful for alternative constructors or class-scoped operations."
      ]
    },
    {
      "cell_type": "markdown",
      "id": "d0f48fc6",
      "metadata": {
        "id": "d0f48fc6"
      },
      "source": [
        "**23) How does polymorphism work in Python with inheritance?**\n",
        "\n",
        "Child classes override methods of the parent. When a method is called on a parent-typed reference, Python dispatches to the child’s implementation at runtime. This is dynamic dispatch."
      ]
    },
    {
      "cell_type": "markdown",
      "id": "2c568761",
      "metadata": {
        "id": "2c568761"
      },
      "source": [
        "**24) What is method chaining in Python OOP?**\n",
        "\n",
        "Method chaining in Python OOP is a technique where you call multiple methods on the same object in a single line, one after another, because each method returns the object itself (self).It’s common in fluent interfaces and helps make code more concise and readable."
      ]
    },
    {
      "cell_type": "code",
      "execution_count": 7,
      "id": "6VYLfH1y04ku",
      "metadata": {
        "colab": {
          "base_uri": "https://localhost:8080/"
        },
        "id": "6VYLfH1y04ku",
        "outputId": "32261590-48b9-4c1c-a600-01cbbc6a5df4"
      },
      "outputs": [
        {
          "name": "stdout",
          "output_type": "stream",
          "text": [
            "Name: Alice, Hobbies: ['Reading', 'Swimming']\n"
          ]
        },
        {
          "data": {
            "text/plain": [
              "<__main__.Person at 0x7ffb2bb63250>"
            ]
          },
          "execution_count": 7,
          "metadata": {},
          "output_type": "execute_result"
        }
      ],
      "source": [
        "class Person:\n",
        "    def __init__(self, name):\n",
        "        self.name = name\n",
        "        self.hobbies = []\n",
        "\n",
        "    def set_name(self, name):\n",
        "        self.name = name\n",
        "        return self\n",
        "\n",
        "    def add_hobby(self, hobby):\n",
        "        self.hobbies.append(hobby)\n",
        "        return self\n",
        "\n",
        "    def show_info(self):\n",
        "        print(f\"Name: {self.name}, Hobbies: {self.hobbies}\")\n",
        "        return self\n",
        "\n",
        "\n",
        "person = Person(\"John\")\n",
        "person.set_name(\"Alice\").add_hobby(\"Reading\").add_hobby(\"Swimming\").show_info()\n"
      ]
    },
    {
      "cell_type": "markdown",
      "id": "c2e141e0",
      "metadata": {
        "id": "c2e141e0"
      },
      "source": [
        "**25) What is the purpose of the `__call__` method in Python?**\n",
        "\n",
        "Defining `__call__` makes an instance **callable** like a function. It is useful for configurable function-objects, validators, formatters, or model prediction wrappers."
      ]
    },
    {
      "cell_type": "markdown",
      "id": "e8ff7fac",
      "metadata": {
        "id": "e8ff7fac"
      },
      "source": [
        "## Part B — Practical Questions"
      ]
    },
    {
      "cell_type": "markdown",
      "id": "4b666617",
      "metadata": {
        "id": "4b666617"
      },
      "source": [
        "\n",
        "###  1. Create a parent class Animal with a method speak() that prints a generic message. Create a child class Dog that overrides the speak() method to print \"Bark!\".\n",
        "\n"
      ]
    },
    {
      "cell_type": "code",
      "execution_count": null,
      "id": "d_WcAC0J1EYf",
      "metadata": {
        "colab": {
          "base_uri": "https://localhost:8080/"
        },
        "id": "d_WcAC0J1EYf",
        "outputId": "42639386-2542-4333-e061-5d563b33b4bd"
      },
      "outputs": [
        {
          "name": "stdout",
          "output_type": "stream",
          "text": [
            "The animal makes a sound.\n",
            "Bark!\n"
          ]
        }
      ],
      "source": [
        "class Animal:\n",
        "    def speak(self):\n",
        "        print(\"The animal makes a sound.\")\n",
        "\n",
        "class Dog(Animal):\n",
        "    def speak(self):\n",
        "        print(\"Bark!\")\n",
        "\n",
        "a = Animal()\n",
        "d = Dog()\n",
        "a.speak()\n",
        "d.speak()"
      ]
    },
    {
      "cell_type": "markdown",
      "id": "4e4fd47f",
      "metadata": {
        "id": "4e4fd47f"
      },
      "source": [
        "\n",
        "###  2. Write a program to create an abstract class Shape with a method area(). Derive classes Circle and Rectangle from it and implement the area() method in both.\n"
      ]
    },
    {
      "cell_type": "code",
      "execution_count": 9,
      "id": "fNlZnnr61OTA",
      "metadata": {
        "colab": {
          "base_uri": "https://localhost:8080/"
        },
        "id": "fNlZnnr61OTA",
        "outputId": "924f22ff-94a3-4ba4-e052-24842e13d395"
      },
      "outputs": [
        {
          "name": "stdout",
          "output_type": "stream",
          "text": [
            "Circle area: 28.274333882308138\n",
            "Rectangle area: 20\n"
          ]
        }
      ],
      "source": [
        "from abc import ABC, abstractmethod\n",
        "import math\n",
        "\n",
        "class Shape(ABC):\n",
        "    @abstractmethod\n",
        "    def area(self):\n",
        "        pass\n",
        "\n",
        "class Circle(Shape):\n",
        "    def __init__(self, r):\n",
        "        self.r = r\n",
        "    def area(self):\n",
        "        return math.pi * self.r * self.r\n",
        "\n",
        "class Rectangle(Shape):\n",
        "    def __init__(self, w, h):\n",
        "        self.w = w\n",
        "        self.h = h\n",
        "    def area(self):\n",
        "        return self.w * self.h\n",
        "\n",
        "print(\"Circle area:\", Circle(3).area())\n",
        "print(\"Rectangle area:\", Rectangle(4, 5).area())"
      ]
    },
    {
      "cell_type": "code",
      "execution_count": null,
      "id": "fMiUIMG53WxL",
      "metadata": {
        "id": "fMiUIMG53WxL"
      },
      "outputs": [],
      "source": []
    },
    {
      "cell_type": "markdown",
      "id": "d1abefb9",
      "metadata": {
        "id": "d1abefb9"
      },
      "source": [
        "\n",
        "###  3. Implement a multi-level inheritance scenario where a class Vehicle has an attribute type. Derive a class Car and further derive a class ElectricCar that adds a battery attribute.\n",
        "\n"
      ]
    },
    {
      "cell_type": "code",
      "execution_count": 25,
      "id": "d4MS6kIX3Ocg",
      "metadata": {
        "colab": {
          "base_uri": "https://localhost:8080/"
        },
        "id": "d4MS6kIX3Ocg",
        "outputId": "aa3b38af-442c-48c9-dcc6-eb46484aae1e"
      },
      "outputs": [
        {
          "name": "stdout",
          "output_type": "stream",
          "text": [
            "Car Tesla Model 3 57\n"
          ]
        }
      ],
      "source": [
        "class Vehicle:\n",
        "    def __init__(self, vtype):\n",
        "        self.type = vtype\n",
        "\n",
        "class Car(Vehicle):\n",
        "    def __init__(self, brand, model):\n",
        "        super().__init__(\"Car\")\n",
        "        self.brand = brand\n",
        "        self.model = model\n",
        "\n",
        "class ElectricCar(Car):\n",
        "    def __init__(self, brand, model, battery_kwh):\n",
        "        super().__init__(brand, model)\n",
        "        self.battery_kwh = battery_kwh\n",
        "\n",
        "e = ElectricCar(\"Tesla\", \"Model 3\", 57)\n",
        "print(e.type, e.brand, e.model, e.battery_kwh)"
      ]
    },
    {
      "cell_type": "markdown",
      "id": "6632e748",
      "metadata": {
        "id": "6632e748"
      },
      "source": [
        "\n",
        "### 4. Demonstrate polymorphism by creating a base class Bird with a method fly(). Create two derived classes Sparrow and Penguin that override the fly() method.\n"
      ]
    },
    {
      "cell_type": "code",
      "execution_count": 24,
      "id": "xrE5ZmMK3Htd",
      "metadata": {
        "colab": {
          "base_uri": "https://localhost:8080/"
        },
        "id": "xrE5ZmMK3Htd",
        "outputId": "618891ae-25b7-4601-defa-0aeec50797d7"
      },
      "outputs": [
        {
          "name": "stdout",
          "output_type": "stream",
          "text": [
            "Bird is flying.\n",
            "Sparrow flies swiftly.\n",
            "Penguins cannot fly. They waddle.\n"
          ]
        }
      ],
      "source": [
        "class Bird:\n",
        "    def fly(self):\n",
        "        print(\"Bird is flying.\")\n",
        "\n",
        "class Sparrow(Bird):\n",
        "    def fly(self):\n",
        "        print(\"Sparrow flies swiftly.\")\n",
        "\n",
        "class Penguin(Bird):\n",
        "    def fly(self):\n",
        "        print(\"Penguins cannot fly. They waddle.\")\n",
        "\n",
        "for b in [Bird(), Sparrow(), Penguin()]:\n",
        "    b.fly()"
      ]
    },
    {
      "cell_type": "markdown",
      "id": "2eebac12",
      "metadata": {
        "id": "2eebac12"
      },
      "source": [
        "\n",
        "### 5. Write a program to demonstrate encapsulation by creating a class BankAccount with private attributes balance and methods to deposit, withdraw, and check balance.\n"
      ]
    },
    {
      "cell_type": "code",
      "execution_count": null,
      "id": "X8qZwKrv3AK4",
      "metadata": {
        "colab": {
          "base_uri": "https://localhost:8080/"
        },
        "id": "X8qZwKrv3AK4",
        "outputId": "95c32405-2c76-4e71-88de-ad24f3458514"
      },
      "outputs": [
        {
          "name": "stdout",
          "output_type": "stream",
          "text": [
            "Balance: 950.0\n"
          ]
        }
      ],
      "source": [
        "class BankAccount:\n",
        "    def __init__(self, balance=0.0):\n",
        "        self.__balance = float(balance)\n",
        "\n",
        "    def deposit(self, amount):\n",
        "        if amount <= 0:\n",
        "            raise ValueError(\"Deposit must be positive.\")\n",
        "        self.__balance += amount\n",
        "\n",
        "    def withdraw(self, amount):\n",
        "        if amount <= 0:\n",
        "            raise ValueError(\"Withdraw must be positive.\")\n",
        "        if amount > self.__balance:\n",
        "            raise ValueError(\"Insufficient funds.\")\n",
        "        self.__balance -= amount\n",
        "\n",
        "    def get_balance(self):\n",
        "        return self.__balance\n",
        "\n",
        "acct = BankAccount(1000)\n",
        "acct.deposit(250)\n",
        "acct.withdraw(300)\n",
        "print(\"Balance:\", acct.get_balance())"
      ]
    },
    {
      "cell_type": "markdown",
      "id": "3de2437c",
      "metadata": {
        "id": "3de2437c"
      },
      "source": [
        "\n",
        "###  6. Demonstrate runtime polymorphism using a method play() in a base class Instrument. Derive classes Guitar and Piano that implement their own version of play().\n"
      ]
    },
    {
      "cell_type": "code",
      "execution_count": 22,
      "id": "MX_fdIdD23UW",
      "metadata": {
        "colab": {
          "base_uri": "https://localhost:8080/"
        },
        "id": "MX_fdIdD23UW",
        "outputId": "4d322b7e-45fb-4f5e-a93c-3cfa65bf75e9"
      },
      "outputs": [
        {
          "name": "stdout",
          "output_type": "stream",
          "text": [
            "Playing an instrument.\n",
            "Strumming the guitar.\n",
            "Playing the piano keys.\n"
          ]
        }
      ],
      "source": [
        "class Instrument:\n",
        "    def play(self):\n",
        "        print(\"Playing an instrument.\")\n",
        "\n",
        "class Guitar(Instrument):\n",
        "    def play(self):\n",
        "        print(\"Strumming the guitar.\")\n",
        "\n",
        "class Piano(Instrument):\n",
        "    def play(self):\n",
        "        print(\"Playing the piano keys.\")\n",
        "\n",
        "def start_show(instrument: Instrument):\n",
        "    instrument.play()\n",
        "\n",
        "for inst in [Instrument(), Guitar(), Piano()]:\n",
        "    start_show(inst)"
      ]
    },
    {
      "cell_type": "markdown",
      "id": "eb59085c",
      "metadata": {
        "id": "eb59085c"
      },
      "source": [
        "\n",
        "###  7. Create a class MathOperations with a class method add_numbers() to add two numbers and a static method subtract_numbers() to subtract two numbers."
      ]
    },
    {
      "cell_type": "code",
      "execution_count": 21,
      "id": "7wxBtyTi2xBJ",
      "metadata": {
        "colab": {
          "base_uri": "https://localhost:8080/"
        },
        "id": "7wxBtyTi2xBJ",
        "outputId": "17f6f402-a31a-4e1d-a897-d54445f94fb0"
      },
      "outputs": [
        {
          "name": "stdout",
          "output_type": "stream",
          "text": [
            "8\n",
            "6\n"
          ]
        }
      ],
      "source": [
        "class MathOperations:\n",
        "    @classmethod\n",
        "    def add_numbers(cls, a, b):\n",
        "        return a + b\n",
        "\n",
        "    @staticmethod\n",
        "    def subtract_numbers(a, b):\n",
        "        return a - b\n",
        "\n",
        "print(MathOperations.add_numbers(3, 5))\n",
        "print(MathOperations.subtract_numbers(10, 4))"
      ]
    },
    {
      "cell_type": "markdown",
      "id": "8c83a785",
      "metadata": {
        "id": "8c83a785"
      },
      "source": [
        "\n",
        "###  8. Implement a class Person with a class method to count the total number of persons created.\n"
      ]
    },
    {
      "cell_type": "code",
      "execution_count": 20,
      "id": "0QfBagdq2pgs",
      "metadata": {
        "colab": {
          "base_uri": "https://localhost:8080/"
        },
        "id": "0QfBagdq2pgs",
        "outputId": "7a0568e8-1eb9-42b6-9db6-374543226c0f"
      },
      "outputs": [
        {
          "name": "stdout",
          "output_type": "stream",
          "text": [
            "Total persons: 2\n"
          ]
        }
      ],
      "source": [
        "class Person:\n",
        "    count = 0\n",
        "\n",
        "    def __init__(self, name):\n",
        "        self.name = name\n",
        "        Person.count += 1\n",
        "\n",
        "    @classmethod\n",
        "    def total(cls):\n",
        "        return cls.count\n",
        "\n",
        "p1 = Person(\"A\")\n",
        "p2 = Person(\"B\")\n",
        "print(\"Total persons:\", Person.total())"
      ]
    },
    {
      "cell_type": "markdown",
      "id": "72cfb68f",
      "metadata": {
        "id": "72cfb68f"
      },
      "source": [
        "\n",
        "###  9. Write a class Fraction with attributes numerator and denominator. Override the str method to display the fraction as \"numerator/denominator\"\n",
        "\n"
      ]
    },
    {
      "cell_type": "code",
      "execution_count": 19,
      "id": "6Pryjm5Y2hAT",
      "metadata": {
        "colab": {
          "base_uri": "https://localhost:8080/"
        },
        "id": "6Pryjm5Y2hAT",
        "outputId": "246f3133-0ffd-4974-d51c-d4b99cc0ba19"
      },
      "outputs": [
        {
          "name": "stdout",
          "output_type": "stream",
          "text": [
            "3/4\n"
          ]
        }
      ],
      "source": [
        "class Fraction:\n",
        "    def __init__(self, numerator, denominator):\n",
        "        if denominator == 0:\n",
        "            raise ValueError(\"Denominator cannot be zero.\")\n",
        "        self.numerator = numerator\n",
        "        self.denominator = denominator\n",
        "\n",
        "    def __str__(self):\n",
        "        return f\"{self.numerator}/{self.denominator}\"\n",
        "\n",
        "print(str(Fraction(3, 4)))"
      ]
    },
    {
      "cell_type": "markdown",
      "id": "5e5e813b",
      "metadata": {
        "id": "5e5e813b"
      },
      "source": [
        "\n",
        "###  10. Demonstrate operator overloading by creating a class Vector and overriding the add method to add two vectors.\n"
      ]
    },
    {
      "cell_type": "code",
      "execution_count": 18,
      "id": "PGsbcABR2aP6",
      "metadata": {
        "colab": {
          "base_uri": "https://localhost:8080/"
        },
        "id": "PGsbcABR2aP6",
        "outputId": "51c191d5-ac9f-4247-a817-6c7ef58fd587"
      },
      "outputs": [
        {
          "name": "stdout",
          "output_type": "stream",
          "text": [
            "Vector(5, 7, 9)\n"
          ]
        }
      ],
      "source": [
        "class Vector:\n",
        "    def __init__(self, x, y, z=0):\n",
        "        self.x, self.y, self.z = x, y, z\n",
        "\n",
        "    def __add__(self, other):\n",
        "        if not isinstance(other, Vector):\n",
        "            return NotImplemented\n",
        "        return Vector(self.x + other.x, self.y + other.y, self.z + other.z)\n",
        "\n",
        "    def __repr__(self):\n",
        "        return f\"Vector({self.x}, {self.y}, {self.z})\"\n",
        "\n",
        "v1 = Vector(1, 2, 3)\n",
        "v2 = Vector(4, 5, 6)\n",
        "print(v1 + v2)"
      ]
    },
    {
      "cell_type": "markdown",
      "id": "cb7eb95a",
      "metadata": {
        "id": "cb7eb95a"
      },
      "source": [
        "\n",
        "### 11. Create a class Person with attributes name and age. Add a method greet() that prints \"Hello, my name is {name} and I am {age} years old.\"\n",
        "\n"
      ]
    },
    {
      "cell_type": "code",
      "execution_count": 17,
      "id": "PhGWFC7U2P_D",
      "metadata": {
        "colab": {
          "base_uri": "https://localhost:8080/"
        },
        "id": "PhGWFC7U2P_D",
        "outputId": "f6062062-6022-4e7a-af5b-eb4f06e7717a"
      },
      "outputs": [
        {
          "name": "stdout",
          "output_type": "stream",
          "text": [
            "Hello, my name is Riya and I am 29 years old.\n"
          ]
        }
      ],
      "source": [
        "class Person2:\n",
        "    def __init__(self, name, age):\n",
        "        self.name = name\n",
        "        self.age = age\n",
        "\n",
        "    def greet(self):\n",
        "        print(f\"Hello, my name is {self.name} and I am {self.age} years old.\")\n",
        "\n",
        "Person2(\"Riya\", 29).greet()"
      ]
    },
    {
      "cell_type": "markdown",
      "id": "16278915",
      "metadata": {
        "id": "16278915"
      },
      "source": [
        "\n",
        "###  12. Implement a class Student with attributes name and grades. Create a method average_grade() to compute the average of the grades.\n"
      ]
    },
    {
      "cell_type": "code",
      "execution_count": 16,
      "id": "JSwcmztg2GvP",
      "metadata": {
        "colab": {
          "base_uri": "https://localhost:8080/"
        },
        "id": "JSwcmztg2GvP",
        "outputId": "f566e2a4-f8fe-4657-b2f7-8f1a046a5476"
      },
      "outputs": [
        {
          "name": "stdout",
          "output_type": "stream",
          "text": [
            "90.0\n"
          ]
        }
      ],
      "source": [
        "class Student:\n",
        "    def __init__(self, name, grades):\n",
        "        self.name = name\n",
        "        self.grades = list(grades)\n",
        "\n",
        "    def average_grade(self):\n",
        "        return sum(self.grades) / len(self.grades) if self.grades else 0.0\n",
        "\n",
        "print(Student(\"Dev\", [90, 85, 95]).average_grade())"
      ]
    },
    {
      "cell_type": "markdown",
      "id": "ad054330",
      "metadata": {
        "id": "ad054330"
      },
      "source": [
        "\n",
        "###  13. Create a class Rectangle with methods set_dimensions() to set the dimensions and area() to calculate the area\n"
      ]
    },
    {
      "cell_type": "code",
      "execution_count": 15,
      "id": "V76WgzVv19_k",
      "metadata": {
        "colab": {
          "base_uri": "https://localhost:8080/"
        },
        "id": "V76WgzVv19_k",
        "outputId": "8bcd68be-c8b5-4465-abbb-6d377113b57d"
      },
      "outputs": [
        {
          "name": "stdout",
          "output_type": "stream",
          "text": [
            "Area: 35\n"
          ]
        }
      ],
      "source": [
        "class Rectangle2:\n",
        "    def set_dimensions(self, width, height):\n",
        "        self.width = width\n",
        "        self.height = height\n",
        "\n",
        "    def area(self):\n",
        "        return self.width * self.height\n",
        "\n",
        "r = Rectangle2()\n",
        "r.set_dimensions(5, 7)\n",
        "print(\"Area:\", r.area())"
      ]
    },
    {
      "cell_type": "markdown",
      "id": "c369c6d4",
      "metadata": {
        "id": "c369c6d4"
      },
      "source": [
        "\n",
        "### 14. Create a class Employee with a method calculate_salary() that computes the salary based on hours worked and hourly rate. Create a derived class Manager that adds a bonus to the salary.\n"
      ]
    },
    {
      "cell_type": "code",
      "execution_count": 14,
      "id": "-jFkw0hz1suy",
      "metadata": {
        "colab": {
          "base_uri": "https://localhost:8080/"
        },
        "id": "-jFkw0hz1suy",
        "outputId": "f4f3f959-a2b5-486d-8510-dded3912049b"
      },
      "outputs": [
        {
          "name": "stdout",
          "output_type": "stream",
          "text": [
            "Employee salary: 4000\n",
            "Manager salary: 9400\n"
          ]
        }
      ],
      "source": [
        "class Employee:\n",
        "    def __init__(self, hourly_rate):\n",
        "        self.hourly_rate = hourly_rate\n",
        "\n",
        "    def calculate_salary(self, hours_worked):\n",
        "        return self.hourly_rate * hours_worked\n",
        "\n",
        "class Manager(Employee):\n",
        "    def __init__(self, hourly_rate, bonus):\n",
        "        super().__init__(hourly_rate)\n",
        "        self.bonus = bonus\n",
        "\n",
        "    def calculate_salary(self, hours_worked):\n",
        "        return super().calculate_salary(hours_worked) + self.bonus\n",
        "\n",
        "print(\"Employee salary:\", Employee(500).calculate_salary(8))\n",
        "print(\"Manager salary:\", Manager(800, 3000).calculate_salary(8))"
      ]
    },
    {
      "cell_type": "markdown",
      "id": "25d83f22",
      "metadata": {
        "id": "25d83f22"
      },
      "source": [
        "\n",
        "### 15) `Product.total_price()`"
      ]
    },
    {
      "cell_type": "code",
      "execution_count": 13,
      "id": "0vZQMwE61ohm",
      "metadata": {
        "colab": {
          "base_uri": "https://localhost:8080/"
        },
        "id": "0vZQMwE61ohm",
        "outputId": "0903670c-b519-4bae-9350-23e59dc1df0f"
      },
      "outputs": [
        {
          "name": "stdout",
          "output_type": "stream",
          "text": [
            "Total price: 148.5\n"
          ]
        }
      ],
      "source": [
        "class Product:\n",
        "    def __init__(self, name, price, quantity):\n",
        "        self.name = name\n",
        "        self.price = float(price)\n",
        "        self.quantity = int(quantity)\n",
        "\n",
        "    def total_price(self):\n",
        "        return self.price * self.quantity\n",
        "\n",
        "p = Product(\"Notebook\", 49.5, 3)\n",
        "print(\"Total price:\", p.total_price())"
      ]
    },
    {
      "cell_type": "markdown",
      "id": "388ac686",
      "metadata": {
        "id": "388ac686"
      },
      "source": [
        "\n",
        "### 16) Abstract `Animal.sound()` with `Cow` and `Sheep`\n"
      ]
    },
    {
      "cell_type": "code",
      "execution_count": 12,
      "id": "XYewGl5C1jVt",
      "metadata": {
        "colab": {
          "base_uri": "https://localhost:8080/"
        },
        "id": "XYewGl5C1jVt",
        "outputId": "fc86bb90-37e0-4ad0-ff8c-ff5b0611b523"
      },
      "outputs": [
        {
          "name": "stdout",
          "output_type": "stream",
          "text": [
            "Moo\n",
            "Baa\n"
          ]
        }
      ],
      "source": [
        "from abc import ABC, abstractmethod\n",
        "\n",
        "class Animal2(ABC):\n",
        "    @abstractmethod\n",
        "    def sound(self):\n",
        "        pass\n",
        "\n",
        "class Cow(Animal2):\n",
        "    def sound(self):\n",
        "        return \"Moo\"\n",
        "\n",
        "class Sheep(Animal2):\n",
        "    def sound(self):\n",
        "        return \"Baa\"\n",
        "\n",
        "for a in [Cow(), Sheep()]:\n",
        "    print(a.sound())"
      ]
    },
    {
      "cell_type": "markdown",
      "id": "6489c831",
      "metadata": {
        "id": "6489c831"
      },
      "source": [
        "\n",
        "### 17) `Book.get_book_info()`\n"
      ]
    },
    {
      "cell_type": "code",
      "execution_count": 11,
      "id": "r7bdw-RS1dV6",
      "metadata": {
        "colab": {
          "base_uri": "https://localhost:8080/"
        },
        "id": "r7bdw-RS1dV6",
        "outputId": "e1938581-5509-4896-c97d-30737e844305"
      },
      "outputs": [
        {
          "name": "stdout",
          "output_type": "stream",
          "text": [
            "Clean Code by Robert C. Martin (2008)\n"
          ]
        }
      ],
      "source": [
        "class Book:\n",
        "    def __init__(self, title, author, year_published):\n",
        "        self.title = title\n",
        "        self.author = author\n",
        "        self.year_published = year_published\n",
        "\n",
        "    def get_book_info(self):\n",
        "        return f\"{self.title} by {self.author} ({self.year_published})\"\n",
        "\n",
        "print(Book(\"Clean Code\", \"Robert C. Martin\", 2008).get_book_info())"
      ]
    },
    {
      "cell_type": "markdown",
      "id": "6d7d51e6",
      "metadata": {
        "id": "6d7d51e6"
      },
      "source": [
        "\n",
        "### 18) `House` and derived `Mansion` with `number_of_rooms`"
      ]
    },
    {
      "cell_type": "code",
      "execution_count": 10,
      "id": "6MvbJC0C1Wgq",
      "metadata": {
        "colab": {
          "base_uri": "https://localhost:8080/"
        },
        "id": "6MvbJC0C1Wgq",
        "outputId": "e3328e59-c8a6-4a52-951f-af1d2573f4e5"
      },
      "outputs": [
        {
          "name": "stdout",
          "output_type": "stream",
          "text": [
            "1 Luxury Lane 12000000 12\n"
          ]
        }
      ],
      "source": [
        "class House:\n",
        "    def __init__(self, address, price):\n",
        "        self.address = address\n",
        "        self.price = price\n",
        "\n",
        "class Mansion(House):\n",
        "    def __init__(self, address, price, number_of_rooms):\n",
        "        super().__init__(address, price)\n",
        "        self.number_of_rooms = number_of_rooms\n",
        "\n",
        "m = Mansion(\"1 Luxury Lane\", 12_000_000, 12)\n",
        "print(m.address, m.price, m.number_of_rooms)"
      ]
    },
    {
      "cell_type": "code",
      "execution_count": null,
      "id": "pIBZduiH1cWH",
      "metadata": {
        "id": "pIBZduiH1cWH"
      },
      "outputs": [],
      "source": []
    }
  ],
  "metadata": {
    "colab": {
      "provenance": []
    },
    "kernelspec": {
      "display_name": "Python 3",
      "name": "python3"
    },
    "language_info": {
      "name": "python"
    }
  },
  "nbformat": 4,
  "nbformat_minor": 5
}
