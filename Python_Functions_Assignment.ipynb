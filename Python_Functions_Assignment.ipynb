{
 "cells": [
  {
   "cell_type": "markdown",
   "id": "b2d5e5f5",
   "metadata": {},
   "source": [
    "## Theory Questions"
   ]
  },
  {
   "cell_type": "markdown",
   "id": "327fef11",
   "metadata": {},
   "source": [
    "### 1. What is the difference between a function and a method in Python?"
   ]
  },
  {
   "cell_type": "markdown",
   "id": "b36d18ff",
   "metadata": {},
   "source": [
    "A function is defined using the def keyword and is not associated with any object.It can exist independently and be called using its name. A method is a function that is associated with an object. It is called using the dot (.) operator on an object. The first parameter is usually self ,referring to the object itself."
   ]
  },
  {
   "cell_type": "markdown",
   "id": "c0614e0d",
   "metadata": {},
   "source": [
    "### 2. Explain the concept of function arguments and parameters in Python."
   ]
  },
  {
   "cell_type": "markdown",
   "id": "e8967993",
   "metadata": {},
   "source": [
    "Parameters are variables listed in a function definition. They act as placeholders for values that will be passed to the function. Arguments are the actual values passed to the function when it is called."
   ]
  },
  {
   "cell_type": "markdown",
   "id": "953071eb",
   "metadata": {},
   "source": [
    "### 3. What are the different ways to define and call a function in Python?"
   ]
  },
  {
   "cell_type": "markdown",
   "id": "89bc217c",
   "metadata": {},
   "source": [
    "In Python, functions can be defined and called in several ways depending on the use case. "
   ]
  },
  {
   "cell_type": "markdown",
   "id": "9272d902",
   "metadata": {},
   "source": [
    "1. Standard function"
   ]
  },
  {
   "cell_type": "code",
   "execution_count": 7,
   "id": "d9df0498",
   "metadata": {},
   "outputs": [],
   "source": [
    "def greet(name):\n",
    "    return f\"Hello, {name}!\""
   ]
  },
  {
   "cell_type": "code",
   "execution_count": 8,
   "id": "8e40c5bb",
   "metadata": {},
   "outputs": [
    {
     "name": "stdout",
     "output_type": "stream",
     "text": [
      "Hello, Eve!\n"
     ]
    }
   ],
   "source": [
    "func = greet\n",
    "print(func(\"Eve\")) "
   ]
  },
  {
   "cell_type": "markdown",
   "id": "884a56e5",
   "metadata": {},
   "source": [
    "2. Anonymous Function"
   ]
  },
  {
   "cell_type": "code",
   "execution_count": 9,
   "id": "d9e0f0b7",
   "metadata": {},
   "outputs": [],
   "source": [
    "greet = lambda name: f\"Hello, {name}!\""
   ]
  },
  {
   "cell_type": "code",
   "execution_count": 10,
   "id": "eb828744",
   "metadata": {},
   "outputs": [
    {
     "name": "stdout",
     "output_type": "stream",
     "text": [
      "Hello, Alice!\n"
     ]
    }
   ],
   "source": [
    "message = greet(\"Alice\")\n",
    "print(message)"
   ]
  },
  {
   "cell_type": "markdown",
   "id": "2ded7e3c",
   "metadata": {},
   "source": [
    "3. Function with Default Arguments"
   ]
  },
  {
   "cell_type": "code",
   "execution_count": 11,
   "id": "fdf8fbb3",
   "metadata": {},
   "outputs": [],
   "source": [
    "def greet(name=\"Aswini\"):\n",
    "    return f\"Hello, {name}!\""
   ]
  },
  {
   "cell_type": "code",
   "execution_count": 12,
   "id": "8826ca4b",
   "metadata": {},
   "outputs": [
    {
     "data": {
      "text/plain": [
       "'Hello, Aswini!'"
      ]
     },
     "execution_count": 12,
     "metadata": {},
     "output_type": "execute_result"
    }
   ],
   "source": [
    "greet()"
   ]
  },
  {
   "cell_type": "markdown",
   "id": "6649b5ff",
   "metadata": {},
   "source": [
    "4. Function with Variable-Length Arguments"
   ]
  },
  {
   "cell_type": "code",
   "execution_count": 13,
   "id": "366c29cf",
   "metadata": {},
   "outputs": [],
   "source": [
    "def add(*args):\n",
    "    return sum(args)"
   ]
  },
  {
   "cell_type": "code",
   "execution_count": 14,
   "id": "8139526f",
   "metadata": {},
   "outputs": [
    {
     "name": "stdout",
     "output_type": "stream",
     "text": [
      "6\n"
     ]
    }
   ],
   "source": [
    "print(add(1, 2, 3))"
   ]
  },
  {
   "cell_type": "code",
   "execution_count": 15,
   "id": "5f9ba214",
   "metadata": {},
   "outputs": [],
   "source": [
    "def show_info(**kwargs):\n",
    "    for key, value in kwargs.items():\n",
    "        print(key, \":\", value)"
   ]
  },
  {
   "cell_type": "code",
   "execution_count": 16,
   "id": "e10389cb",
   "metadata": {},
   "outputs": [
    {
     "name": "stdout",
     "output_type": "stream",
     "text": [
      "name : Alice\n",
      "age : 25\n"
     ]
    }
   ],
   "source": [
    "show_info(name=\"Alice\", age=25)"
   ]
  },
  {
   "cell_type": "markdown",
   "id": "c1617d8d",
   "metadata": {},
   "source": [
    "### 4. What is the purpose of the `return` statement in a Python function?"
   ]
  },
  {
   "cell_type": "markdown",
   "id": "dc50553a",
   "metadata": {},
   "source": [
    "The return statement in Python is used to Exit a function immediately, send a result back to the caller of the function."
   ]
  },
  {
   "cell_type": "code",
   "execution_count": 17,
   "id": "27728ddd",
   "metadata": {},
   "outputs": [
    {
     "name": "stdout",
     "output_type": "stream",
     "text": [
      "8\n"
     ]
    }
   ],
   "source": [
    "def add(a, b):\n",
    "    return a + b\n",
    "\n",
    "result = add(3, 5)\n",
    "print(result)  # Output: 8\n"
   ]
  },
  {
   "cell_type": "markdown",
   "id": "b0c3b33d",
   "metadata": {},
   "source": [
    "### 5. What are iterators in Python and how do they differ from iterables?"
   ]
  },
  {
   "cell_type": "markdown",
   "id": "24c8b679",
   "metadata": {},
   "source": [
    "An iterator is an object in Python that allows traversing through a sequence one element at a time using the built-in next() function. To qualify as an iterator, an object must implement two methods:__iter__() returns the iterator object itself, __next__() returns the next item or raises StopIteration when done. An iterable is any object capable of returning its members one at a time using an iterator. It must implement the __iter__() method. Common examples of iterables are Lists, Tuples, Strings, Sets, Ditionary."
   ]
  },
  {
   "cell_type": "markdown",
   "id": "16cca764",
   "metadata": {},
   "source": [
    "### 6. Explain the concept of generators in Python and how they are defined."
   ]
  },
  {
   "cell_type": "markdown",
   "id": "a26ac8a8",
   "metadata": {},
   "source": [
    "Generators are a special type of iterable in Python that yield values one at a time, on demand, using the yield keyword instead of return. They are used to produce sequences efficiently, especially when dealing with large datasets or streams of data. "
   ]
  },
  {
   "cell_type": "markdown",
   "id": "c8aba246",
   "metadata": {},
   "source": [
    "Generator functions are defined like a normal function but use yield instead of return. Each time yield is called, the function pauses its state and resumes from the same point the next time it's called."
   ]
  },
  {
   "cell_type": "code",
   "execution_count": 18,
   "id": "ef28b4a0",
   "metadata": {},
   "outputs": [
    {
     "name": "stdout",
     "output_type": "stream",
     "text": [
      "1\n"
     ]
    }
   ],
   "source": [
    "def count_up_to(n):\n",
    "    i = 1\n",
    "    while i <= n:\n",
    "        yield i\n",
    "        i += 1\n",
    "\n",
    "gen = count_up_to(3)\n",
    "print(next(gen))  "
   ]
  },
  {
   "cell_type": "markdown",
   "id": "0c911499",
   "metadata": {},
   "source": [
    "Generator Expressions are defined similar to list comprehensions, but use parentheses instead of square brackets."
   ]
  },
  {
   "cell_type": "code",
   "execution_count": 19,
   "id": "856740b9",
   "metadata": {},
   "outputs": [],
   "source": [
    "squares = (x*x for x in range(5))"
   ]
  },
  {
   "cell_type": "code",
   "execution_count": 20,
   "id": "9f25fc85",
   "metadata": {},
   "outputs": [
    {
     "name": "stdout",
     "output_type": "stream",
     "text": [
      "0\n"
     ]
    }
   ],
   "source": [
    "print(next(squares))"
   ]
  },
  {
   "cell_type": "markdown",
   "id": "225f1e1d",
   "metadata": {},
   "source": [
    "### 7. What are the advantages of using generators over regular functions?"
   ]
  },
  {
   "cell_type": "markdown",
   "id": "a8d05d6a",
   "metadata": {},
   "source": [
    "Generators are a special type of function that yield values one at a time using the yield keyword, instead of returning all values at once like regular functions. Its memory efficient and useful when dealing with large datasets or infinite sequences.Generators produce values only when needed, not all at once.This improves performance and startup time, especially when not all results are needed."
   ]
  },
  {
   "cell_type": "code",
   "execution_count": 21,
   "id": "74df020d",
   "metadata": {},
   "outputs": [],
   "source": [
    "def gen_nums():\n",
    "    for i in range(10):\n",
    "        yield i\n",
    "\n",
    "def square(nums):\n",
    "    for n in nums:\n",
    "        yield n * n\n",
    "\n",
    "result = square(gen_nums())"
   ]
  },
  {
   "cell_type": "markdown",
   "id": "5dccd4d2",
   "metadata": {},
   "source": [
    "### 8. What is a lambda function in Python and when is it typically used?"
   ]
  },
  {
   "cell_type": "markdown",
   "id": "06e7f288",
   "metadata": {},
   "source": [
    "A lambda function in Python is a small, anonymous function defined using the lambda keyword instead of def. It is generally used for creating throwaway functions. "
   ]
  },
  {
   "cell_type": "code",
   "execution_count": 22,
   "id": "f5863490",
   "metadata": {},
   "outputs": [
    {
     "name": "stdout",
     "output_type": "stream",
     "text": [
      "8\n"
     ]
    }
   ],
   "source": [
    "add = lambda x, y: x + y\n",
    "print(add(3, 5))"
   ]
  },
  {
   "cell_type": "markdown",
   "id": "177d25ea",
   "metadata": {},
   "source": [
    "### 9. Explain the purpose and usage of the `map()` function in Python."
   ]
  },
  {
   "cell_type": "markdown",
   "id": "72971106",
   "metadata": {},
   "source": [
    "The map() function is used to apply a specific function to each item in an iterable (like a list, tuple, etc.) and returns a new iterable (map object) with the results."
   ]
  },
  {
   "cell_type": "code",
   "execution_count": 23,
   "id": "60e6a0f5",
   "metadata": {},
   "outputs": [
    {
     "name": "stdout",
     "output_type": "stream",
     "text": [
      "[1, 4, 9, 16]\n"
     ]
    }
   ],
   "source": [
    "numbers = [1, 2, 3, 4]\n",
    "squares = map(lambda x: x ** 2, numbers)\n",
    "print(list(squares))"
   ]
  },
  {
   "cell_type": "markdown",
   "id": "47ffe768",
   "metadata": {},
   "source": [
    "### 10. What is the difference between `map()`, `reduce()`, and `filter()` functions in Python?"
   ]
  },
  {
   "cell_type": "markdown",
   "id": "dd7ffcc8",
   "metadata": {},
   "source": [
    "map() applies a function to each element of an iterable.filter() filters elements of an iterable based on a Boolean condition. reduce() applies a function cumulatively to the elements of an iterable, reducing it to a single value. reduce() returns a single value."
   ]
  },
  {
   "cell_type": "markdown",
   "id": "8ab2ba01",
   "metadata": {},
   "source": [
    "### 11. Using pen & Paper write the internal mechanism for sum operation using reduce function on this given list: [47,11,42,13]"
   ]
  },
  {
   "cell_type": "code",
   "execution_count": 24,
   "id": "f0c2ea8e",
   "metadata": {},
   "outputs": [
    {
     "name": "stdout",
     "output_type": "stream",
     "text": [
      "113\n"
     ]
    }
   ],
   "source": [
    "from functools import reduce\n",
    "\n",
    "numbers = [47,11,42,13]\n",
    "result = reduce(lambda x,y:x+y, numbers)\n",
    "print(result)"
   ]
  },
  {
   "cell_type": "markdown",
   "id": "ae4425e9",
   "metadata": {},
   "source": [
    "First call -> x = 47 ,y = 11 -> x+y = 58 , \n",
    "second call -> x = 58, y = 42 -> x+y = 100 , \n",
    "Third call -> x=100, y= 13 -> x+y = 113"
   ]
  },
  {
   "cell_type": "markdown",
   "id": "a5bb7345",
   "metadata": {},
   "source": [
    "## Practical Questions:"
   ]
  },
  {
   "cell_type": "markdown",
   "id": "db9f0eb6",
   "metadata": {},
   "source": [
    "### 1. Write a Python function that takes a list of numbers as input and returns the sum of all even numbers in the list."
   ]
  },
  {
   "cell_type": "code",
   "execution_count": 25,
   "id": "1ac21ed8",
   "metadata": {},
   "outputs": [],
   "source": [
    "def sum_even_numbers(numbers):\n",
    "    even_sum = 0\n",
    "    for num in numbers:\n",
    "        if num % 2 == 0:\n",
    "            even_sum += num\n",
    "    return even_sum\n"
   ]
  },
  {
   "cell_type": "code",
   "execution_count": 26,
   "id": "8f7ab2b0",
   "metadata": {},
   "outputs": [
    {
     "name": "stdout",
     "output_type": "stream",
     "text": [
      "Sum of even numbers: 12\n"
     ]
    }
   ],
   "source": [
    "my_list = [1, 2, 3, 4, 5, 6]\n",
    "result = sum_even_numbers(my_list)\n",
    "print(\"Sum of even numbers:\", result)  # Output: 12\n"
   ]
  },
  {
   "cell_type": "markdown",
   "id": "184bd017",
   "metadata": {},
   "source": [
    "### 2. Create a Python function that accepts a string and returns the reverse of that string."
   ]
  },
  {
   "cell_type": "code",
   "execution_count": 27,
   "id": "30b12100",
   "metadata": {},
   "outputs": [],
   "source": [
    "def reverse_string(text):\n",
    "    return text[::-1]"
   ]
  },
  {
   "cell_type": "code",
   "execution_count": 28,
   "id": "d5a79d36",
   "metadata": {},
   "outputs": [
    {
     "name": "stdout",
     "output_type": "stream",
     "text": [
      "!dlroW ,olleH\n"
     ]
    }
   ],
   "source": [
    "input_text = \"Hello, World!\"\n",
    "reversed_text = reverse_string(input_text)\n",
    "print(reversed_text)"
   ]
  },
  {
   "cell_type": "markdown",
   "id": "6dedd52f",
   "metadata": {},
   "source": [
    "### 3. Implement a Python function that takes a list of integers and returns a new list containing the squares of each number."
   ]
  },
  {
   "cell_type": "code",
   "execution_count": 29,
   "id": "f111984a",
   "metadata": {},
   "outputs": [],
   "source": [
    "def square_numbers(numbers):\n",
    "    return [num ** 2 for num in numbers]"
   ]
  },
  {
   "cell_type": "code",
   "execution_count": 30,
   "id": "bea13758",
   "metadata": {},
   "outputs": [
    {
     "name": "stdout",
     "output_type": "stream",
     "text": [
      "[1, 4, 9, 16, 25]\n"
     ]
    }
   ],
   "source": [
    "input_list = [1, 2, 3, 4, 5]\n",
    "squared_list = square_numbers(input_list)\n",
    "print(squared_list)"
   ]
  },
  {
   "cell_type": "markdown",
   "id": "dced760f",
   "metadata": {},
   "source": [
    "### 4. Write a Python function that checks if a given number is prime or not from 1 to 200."
   ]
  },
  {
   "cell_type": "code",
   "execution_count": 31,
   "id": "eeabd434",
   "metadata": {},
   "outputs": [],
   "source": [
    "def is_prime(n):\n",
    "    if n < 2 or n > 200:\n",
    "        return False  # Not in the valid range\n",
    "    for i in range(2, int(n**0.5) + 1):\n",
    "        if n % i == 0:\n",
    "            return False\n",
    "    return True"
   ]
  },
  {
   "cell_type": "code",
   "execution_count": 32,
   "id": "9643e646",
   "metadata": {},
   "outputs": [
    {
     "name": "stdout",
     "output_type": "stream",
     "text": [
      "2 is a prime number\n",
      "3 is a prime number\n",
      "5 is a prime number\n",
      "7 is a prime number\n",
      "11 is a prime number\n",
      "13 is a prime number\n",
      "17 is a prime number\n",
      "19 is a prime number\n",
      "23 is a prime number\n",
      "29 is a prime number\n",
      "31 is a prime number\n",
      "37 is a prime number\n",
      "41 is a prime number\n",
      "43 is a prime number\n",
      "47 is a prime number\n",
      "53 is a prime number\n",
      "59 is a prime number\n",
      "61 is a prime number\n",
      "67 is a prime number\n",
      "71 is a prime number\n",
      "73 is a prime number\n",
      "79 is a prime number\n",
      "83 is a prime number\n",
      "89 is a prime number\n",
      "97 is a prime number\n",
      "101 is a prime number\n",
      "103 is a prime number\n",
      "107 is a prime number\n",
      "109 is a prime number\n",
      "113 is a prime number\n",
      "127 is a prime number\n",
      "131 is a prime number\n",
      "137 is a prime number\n",
      "139 is a prime number\n",
      "149 is a prime number\n",
      "151 is a prime number\n",
      "157 is a prime number\n",
      "163 is a prime number\n",
      "167 is a prime number\n",
      "173 is a prime number\n",
      "179 is a prime number\n",
      "181 is a prime number\n",
      "191 is a prime number\n",
      "193 is a prime number\n",
      "197 is a prime number\n",
      "199 is a prime number\n"
     ]
    }
   ],
   "source": [
    "for num in range(1, 201):\n",
    "    if is_prime(num):\n",
    "        print(f\"{num} is a prime number\")"
   ]
  },
  {
   "cell_type": "markdown",
   "id": "cb511032",
   "metadata": {},
   "source": [
    "### 5. Create an iterator class in Python that generates the Fibonacci sequence up to a specified number of terms."
   ]
  },
  {
   "cell_type": "code",
   "execution_count": 33,
   "id": "0e75fba7",
   "metadata": {},
   "outputs": [],
   "source": [
    "class Fibonacci:\n",
    "    def __init__(self, n):\n",
    "        self.n = n               \n",
    "        self.count = 0           \n",
    "        self.a, self.b = 0, 1    \n",
    "\n",
    "    def __iter__(self):\n",
    "        return self              \n",
    "\n",
    "    def __next__(self):\n",
    "        if self.count >= self.n:\n",
    "            raise StopIteration  \n",
    "        if self.count == 0:\n",
    "            self.count += 1\n",
    "            return 0\n",
    "        elif self.count == 1:\n",
    "            self.count += 1\n",
    "            return 1\n",
    "        else:\n",
    "            fib = self.a + self.b\n",
    "            self.a, self.b = self.b, fib\n",
    "            self.count += 1\n",
    "            return fib\n"
   ]
  },
  {
   "cell_type": "code",
   "execution_count": 34,
   "id": "4d2bbe77",
   "metadata": {},
   "outputs": [
    {
     "name": "stdout",
     "output_type": "stream",
     "text": [
      "0\n",
      "1\n",
      "1\n",
      "2\n",
      "3\n",
      "5\n",
      "8\n",
      "13\n",
      "21\n",
      "34\n"
     ]
    }
   ],
   "source": [
    "fib = Fibonacci(10)\n",
    "for num in fib:\n",
    "    print(num)"
   ]
  },
  {
   "cell_type": "markdown",
   "id": "031d7742",
   "metadata": {},
   "source": [
    "### 6. Write a generator function in Python that yields the powers of 2 up to a given exponent."
   ]
  },
  {
   "cell_type": "code",
   "execution_count": 35,
   "id": "941a1786",
   "metadata": {},
   "outputs": [],
   "source": [
    "def powers_of_two(max_exponent):\n",
    "    for exp in range(max_exponent + 1):\n",
    "        yield 2 ** exp"
   ]
  },
  {
   "cell_type": "code",
   "execution_count": 36,
   "id": "92785d00",
   "metadata": {},
   "outputs": [
    {
     "name": "stdout",
     "output_type": "stream",
     "text": [
      "1\n",
      "2\n",
      "4\n",
      "8\n",
      "16\n",
      "32\n"
     ]
    }
   ],
   "source": [
    "for num in powers_of_two(5):\n",
    "    print(num)"
   ]
  },
  {
   "cell_type": "markdown",
   "id": "43c96d09",
   "metadata": {},
   "source": [
    "### 7. Implement a generator function that reads a file line by line and yields each line as a string."
   ]
  },
  {
   "cell_type": "code",
   "execution_count": 37,
   "id": "c87702fa",
   "metadata": {},
   "outputs": [],
   "source": [
    "def read_file_lines(file_path):\n",
    "    with open(file_path, 'r') as file:\n",
    "        for line in file:\n",
    "            yield line.rstrip('\\n') "
   ]
  },
  {
   "cell_type": "code",
   "execution_count": 38,
   "id": "4639cb1a",
   "metadata": {},
   "outputs": [
    {
     "name": "stdout",
     "output_type": "stream",
     "text": [
      "Hello, World!\n",
      "This is a test file.\n",
      "It contains multiple lines.\n",
      "Each line will be read and printed.\n"
     ]
    }
   ],
   "source": [
    "for line in read_file_lines(r\"C:\\Users\\atkco\\Documents\\PW\\sample1.txt.txt\"):\n",
    "    print(line)"
   ]
  },
  {
   "cell_type": "markdown",
   "id": "7ffc072e",
   "metadata": {},
   "source": [
    "### 8. Use a lambda function in Python to sort a list of tuples based on the second element of each tuple."
   ]
  },
  {
   "cell_type": "code",
   "execution_count": 39,
   "id": "09d487dd",
   "metadata": {},
   "outputs": [
    {
     "name": "stdout",
     "output_type": "stream",
     "text": [
      "[(3, 1), (5, 2), (2, 3), (1, 4)]\n"
     ]
    }
   ],
   "source": [
    "data = [(1, 4), (3, 1), (5, 2), (2, 3)]\n",
    "sorted_data = sorted(data, key=lambda x: x[1])\n",
    "\n",
    "print(sorted_data)"
   ]
  },
  {
   "cell_type": "markdown",
   "id": "771f5823",
   "metadata": {},
   "source": [
    "### 9. Write a Python program that uses `map()` to convert a list of temperatures from Celsius to Fahrenheit."
   ]
  },
  {
   "cell_type": "code",
   "execution_count": 40,
   "id": "7c78ff00",
   "metadata": {},
   "outputs": [
    {
     "name": "stdout",
     "output_type": "stream",
     "text": [
      "Celsius: [0, 20, 37, 100]\n",
      "Fahrenheit: [32.0, 68.0, 98.6, 212.0]\n"
     ]
    }
   ],
   "source": [
    "celsius = [0, 20, 37, 100]\n",
    "\n",
    "fahrenheit = list(map(lambda c: (c * 9/5) + 32, celsius))\n",
    "\n",
    "print(\"Celsius:\", celsius)\n",
    "print(\"Fahrenheit:\", fahrenheit)\n"
   ]
  },
  {
   "cell_type": "markdown",
   "id": "79df5e15",
   "metadata": {},
   "source": [
    "### 10. Create a Python program that uses `filter()` to remove all the vowels from a given string."
   ]
  },
  {
   "cell_type": "code",
   "execution_count": 41,
   "id": "484fcbf1",
   "metadata": {},
   "outputs": [
    {
     "name": "stdout",
     "output_type": "stream",
     "text": [
      "Original: Hello, World!\n",
      "Without vowels: Hll, Wrld!\n"
     ]
    }
   ],
   "source": [
    "def remove_vowels(input_str):\n",
    "    vowels = 'aeiouAEIOU'\n",
    "    return ''.join(filter(lambda char: char not in vowels, input_str))\n",
    "\n",
    "text = \"Hello, World!\"\n",
    "result = remove_vowels(text)\n",
    "print(\"Original:\", text)\n",
    "print(\"Without vowels:\", result)"
   ]
  },
  {
   "cell_type": "markdown",
   "id": "c36e7795",
   "metadata": {},
   "source": [
    "### 11. Imagine an accounting routine used in a book shop. It works on a list with sublists. Write a Python program, which returns a list with 2-tuples. Each tuple consists of the order number and the product of the price per item and the quantity. The product should be increased by 10,- € if the value of the order is smaller than 100,00 €. Write a Python program using lambda and map."
   ]
  },
  {
   "cell_type": "code",
   "execution_count": 42,
   "id": "82af84be",
   "metadata": {},
   "outputs": [
    {
     "name": "stdout",
     "output_type": "stream",
     "text": [
      "[(34587, 163.8), (98762, 100.0), (77226, 50.0), (88112, 55.0)]\n"
     ]
    }
   ],
   "source": [
    "orders = [\n",
    "    [34587, 4, 40.95],\n",
    "    [98762, 1, 100.00],\n",
    "    [77226, 5, 8.00],\n",
    "    [88112, 3, 15.00]\n",
    "]\n",
    "\n",
    "# Using map and lambda\n",
    "final_orders = list(map(\n",
    "    lambda order: (order[0], order[1] * order[2] if order[1] * order[2] >= 100 else order[1] * order[2] + 10),\n",
    "    orders\n",
    "))\n",
    "\n",
    "print(final_orders)\n"
   ]
  },
  {
   "cell_type": "code",
   "execution_count": null,
   "id": "4b5cf5ab",
   "metadata": {},
   "outputs": [],
   "source": []
  }
 ],
 "metadata": {
  "kernelspec": {
   "display_name": "base",
   "language": "python",
   "name": "python3"
  },
  "language_info": {
   "codemirror_mode": {
    "name": "ipython",
    "version": 3
   },
   "file_extension": ".py",
   "mimetype": "text/x-python",
   "name": "python",
   "nbconvert_exporter": "python",
   "pygments_lexer": "ipython3",
   "version": "3.12.4"
  }
 },
 "nbformat": 4,
 "nbformat_minor": 5
}
