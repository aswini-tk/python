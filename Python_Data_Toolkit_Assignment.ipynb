{
 "cells": [
  {
   "cell_type": "markdown",
   "id": "23e0b512",
   "metadata": {},
   "source": [
    "# Python Data Toolkit"
   ]
  },
  {
   "cell_type": "markdown",
   "id": "3d24d4a7",
   "metadata": {},
   "source": [
    "## Conceptual Questions"
   ]
  },
  {
   "cell_type": "markdown",
   "id": "89740c24",
   "metadata": {},
   "source": [
    "### 1) What is NumPy, and why is it widely used in Python?\n",
    "NumPy is a powerful open-source library in Python used for numerical computing.NumPy is the fundamental array programming library for Python. It provides fast, efficient tools for handling large, multi-dimensional arrays and matrices, along with a collection of high-level mathematical functions to operate on these data structures.It's widely used because it is fast, memory‑efficient, and integrates smoothly with Pandas, SciPy, scikit‑learn,and PyTorch."
   ]
  },
  {
   "cell_type": "markdown",
   "id": "64b1c102",
   "metadata": {},
   "source": [
    "### 2) How does broadcasting work in NumPy?\n",
    "Broadcasting in NumPy is a mechanism that allows arrays of different shapes and sizes to be used together in arithmetic operations without explicitly reshaping or looping through elements.\n",
    "It works by stretching the smaller array along the larger array’s dimensions so that their shapes match — without actually copying the data, making it efficient and memory-friendly."
   ]
  },
  {
   "cell_type": "markdown",
   "id": "f2d7b2e9",
   "metadata": {},
   "source": [
    "### 3) What is a Pandas DataFrame?\n",
    "A Pandas DataFrame is a two-dimensional, tabular data structure in Python provided by the Pandas library.It has rows and columns, where each column can store different types of data (integers, strings, floats, etc.), making it perfect for data analysis and manipulation."
   ]
  },
  {
   "cell_type": "markdown",
   "id": "61d58e43",
   "metadata": {},
   "source": [
    "### 4) Explain the use of the groupby() method in Pandas.\n",
    "\n",
    "The groupby() method in Pandas is used to split data into groups, apply operations like aggregation, transformation, or filtering, and then combine the results into a new DataFrame or Series.It’s often used for data analysis and summarization, especially when you need to analyze subsets of data based on one or more columns."
   ]
  },
  {
   "cell_type": "markdown",
   "id": "5c5fcaaa",
   "metadata": {},
   "source": [
    "### 5) Why is Seaborn preferred for statistical visualizations?\n",
    "Seaborn is a Python library for data visualization built on top of Matplotlib. It is preferred for statistical visualizations because it simplifies complex plots and integrates statistical analysis with attractive, informative graphics — making it a go-to library for data analysts, scientists, and statisticians.Seaborn provides simple functions to create complex plots with minimal code. It comes with modern, clean, and visually appealing themes by default.It automatically integrates with Pandas DataFrames. Seaborn can create advanced visualizations like Pair plots for multivariate relationships, Heatmaps for correlations, Cat plots, strip plots, and swarm plots for categorical data.Works directly with DataFrames and Series.Built-in support for color palettes. Quickly explore trends, distributions, and relationships in data and it saves time during the data exploration phase of projects."
   ]
  },
  {
   "cell_type": "markdown",
   "id": "d76e4298",
   "metadata": {},
   "source": [
    "### 6) What are the differences between NumPy arrays and Python lists?\n",
    "NumPy stores elements in a contiguous block of memory, making it memory-efficient. It is much faster for numerical operations due to optimized C backend. Python Lists stores references to objects, leading to higher memory usage. It is slower, especially for large datasets or mathematical operations."
   ]
  },
  {
   "cell_type": "markdown",
   "id": "150080f6",
   "metadata": {},
   "source": [
    "### 7) What is a heatmap, and when should it be used?\n",
    "A heatmap is a data visualization technique that uses colors to represent values in a matrix or table format. It helps you quickly identify patterns, correlations, and outliers within data by visually encoding numerical values with a color scale. It displays data intensity using color gradients. It represents two-dimensional data and easy to interpret distribution, trends, and relationships at a glance. It is used to visualize relationships between variables in a dataset.It is useful for geographic or temporal data to show intensity or frequency.It helps to identify patterns of missing values in datasets. Its perfect for summarizing and visualizing pivoted data, like sales by region and month. Its ideal for spotting clusters, trends, or anomalies that might not be obvious in raw data tables."
   ]
  },
  {
   "cell_type": "markdown",
   "id": "1b755961",
   "metadata": {},
   "source": [
    "### 8) What does the term “vectorized operation” mean in NumPy?\n",
    "In NumPy, a vectorized operation means performing an operation on entire arrays or large blocks of data at once rather than processing elements one by one using explicit Python loops.This is possible because NumPy is built on optimized C code, so operations happen at the low-level (C speed) while you write simple, clean Python code.Operations like addition, subtraction, multiplication, and division apply to each element automatically."
   ]
  },
  {
   "cell_type": "markdown",
   "id": "d2d1ff43",
   "metadata": {},
   "source": [
    "### 9) How does Matplotlib differ from Plotly?\n",
    "Matplotlib is best for creating static, publication-ready visualizations with deep customization and faster performance for large datasets.\n",
    "Plotly, on the other hand, is ideal for interactive, web-ready charts and dashboards with cleaner syntax and built-in interactivity."
   ]
  },
  {
   "cell_type": "markdown",
   "id": "2e8d2257",
   "metadata": {},
   "source": [
    "### 10) What is the significance of hierarchical indexing in Pandas?\n",
    "Hierarchical indexing in Pandas allows you to have multiple levels of indexes in a single DataFrame or Series.It is significant because it makes it easier to work with higher-dimensional data in a two-dimensional structure, enabling advanced operations like grouping, slicing, reshaping, and cross-section analysis efficiently."
   ]
  },
  {
   "cell_type": "markdown",
   "id": "45af57a4",
   "metadata": {},
   "source": [
    "### 11) What is the role of Seaborn’s pairplot() function?\n",
    "Seaborn’s pairplot() function is used to visualize pairwise relationships between multiple numerical variables in a dataset.It generates a grid of scatterplots for every variable combination and histograms or KDE plots on the diagonal, making it ideal for exploratory data analysis (EDA) to detect patterns, correlations, or outliers in the data."
   ]
  },
  {
   "cell_type": "markdown",
   "id": "8faa9c40",
   "metadata": {},
   "source": [
    "### 12) What is the purpose of the describe() function in Pandas?\n",
    "\n",
    "The describe() function in Pandas is used to generate summary statistics of a DataFrame or Series.It provides key insights like count, mean, standard deviation, minimum, maximum, and quartiles (25%, 50%, 75%), helping you quickly understand the distribution and spread of your data."
   ]
  },
  {
   "cell_type": "markdown",
   "id": "846ba6b0",
   "metadata": {},
   "source": [
    "### 13) Why is handling missing data important in Pandas?\n",
    "\n",
    "Handling missing data in Pandas is important because unaddressed gaps can lead to inaccurate analysis, biased results, or errors in calculations and machine learning models.By properly handling missing values — through techniques like dropping, filling, or imputing — you ensure the dataset remains clean, reliable, and ready for accurate analysis or modeling."
   ]
  },
  {
   "cell_type": "markdown",
   "id": "3cb136e7",
   "metadata": {},
   "source": [
    "### 14) What are the benefits of using Plotly for data visualization?\n",
    "\n",
    "The main benefits of using Plotly for data visualization are: Interactivity – Built-in zoom, hover, and click features for better data exploration.Ease of use – Simple, clean syntax that integrates smoothly with Pandas.Web-ready visuals – Ideal for dashboards and apps, especially with Plotly Dash.Aesthetic and modern – Attractive default styles without much customization.Supports many chart types – From basic line and bar charts to advanced 3D, geographic, and time-series plots."
   ]
  },
  {
   "cell_type": "markdown",
   "id": "a9f6edd3",
   "metadata": {},
   "source": [
    "### 15) How does NumPy handle multidimensional arrays?\n",
    "\n",
    "NumPy handles multidimensional arrays using its core data structure called ndarray, which allows efficient storage and operations on arrays of any dimension. It uses the .shape attribute to store dimensions, supports advanced indexing for easy access to rows, columns, or sub-arrays, performs fast element-wise computations across all dimensions without loops, aligns arrays of different shapes for operations across multiple dimensions."
   ]
  },
  {
   "cell_type": "markdown",
   "id": "88414ad2",
   "metadata": {},
   "source": [
    "### 16) What is the role of Bokeh in data visualization?\n",
    "\n",
    "Bokeh is a Python library for interactive data visualization, designed to create engaging, web-ready plots and dashboards that can be easily embedded in web applications. Its role is to create interactive visualizations like zoomable plots, hover tools, and linked charts.It handle large datasets efficiently, even with streaming or real-time data. It integrate seamlessly with web frameworks like Flask or Django for dynamic dashboards.It support multiple output formats, such as HTML, notebooks, or standalone apps, making it versatile for data analysis and presentations."
   ]
  },
  {
   "cell_type": "markdown",
   "id": "d6acdbb2",
   "metadata": {},
   "source": [
    "### 17) Explain the difference between apply() and map() in Pandas.\n",
    "\n",
    "map() works on series only. It applies a function, dictionary, or Series to each element of a Series.Its best used for element-wise transformations. apply() works on both Series and DataFrames.It applies a function along rows or columns for DataFrames or element-wise for Series.Its best used for Row-wise, column-wise, or complex operations."
   ]
  },
  {
   "cell_type": "markdown",
   "id": "df7076bb",
   "metadata": {},
   "source": [
    "### 18) What are some advanced features of NumPy?\n",
    "\n",
    "Numpy allows operations on arrays of different shapes without explicit looping. It performs fast, element-wise operations without Python loops, making computations highly efficient.It supports boolean indexing, fancy indexing, and conditional selections.It has built-in linear algebra functions like matrix multiplication, inversion, eigenvalues, etc. The numpy.random module provides random number generation, probability distributions, and sampling. It uses views instead of copies when slicing arrays, saving memory and improving performance. It supports operations across axes with functions like sum, mean, max, etc.It acts as the foundation for libraries like Pandas, SciPy, Scikit-learn, TensorFlow, and PyTorch, enabling seamless workflows in data science and machine learning."
   ]
  },
  {
   "cell_type": "markdown",
   "id": "f439c0eb",
   "metadata": {},
   "source": [
    "### 19) How does Pandas simplify time series analysis?\n",
    "\n",
    "Pandas simplifies time series analysis by providing specialized data structures, functions, and indexing capabilities to handle dates, times, and time-indexed data efficiently.We can set a column as a DateTime index to make slicing and querying easier.It converts strings into datetime objects using pd.to_datetime(). It allows resampling data to different time intervals like daily, monthly, or yearly.It simplifies moving averages, rolling sums, or other window-based computations.It can be used to easily shift data forward or backward for lag analysis. It supports conversion and localization of time zones for global datasets.It supports custom offsets like business days (BDay), month ends (M), or year ends (Y)."
   ]
  },
  {
   "cell_type": "markdown",
   "id": "5767fde5",
   "metadata": {},
   "source": [
    "### 20) What is the role of a pivot table in Pandas?\n",
    "\n",
    "In Pandas, a pivot table is used to summarize, aggregate, and restructure data in a tabular format for easier analysis.It allows you to group data by one or more keys (columns) and apply aggregations like sum, mean, count, or custom functions to analyze trends or patterns efficiently."
   ]
  },
  {
   "cell_type": "markdown",
   "id": "e6c13ada",
   "metadata": {},
   "source": [
    "### 21) Why is NumPy’s array slicing faster than Python’s list slicing?\n",
    "\n",
    "NumPy’s array slicing is faster than Python’s list slicing mainly because of how data is stored and accessed in memory. It Stores data in a single, contiguous memory block, making slicing operations just views (references) of the original data without creating a copy.NumPy slicing is implemented in optimized C code, eliminating Python-level overhead.In Numpy slicing usually returns a view — no duplication of data. Python lists store elements as pointers to objects, so slicing often requires creating a new list and copying references, which is slower. Python list slicing runs through slower interpreted Python code. Lists always return a new list, requiring additional memory and processing."
   ]
  },
  {
   "cell_type": "markdown",
   "id": "6e2fd34a",
   "metadata": {},
   "source": [
    "### 22) What are some common use cases for Seaborn?\n",
    "\n",
    "Some common use cases for Seaborn are to understand the spread, skewness, and outliers in data,to analyze relationships between two or more variables,to compare categories or groups visually,to visualize correlation matrices or pivoted data,to plot trends over time with confidence intervals,to analyze multiple variable combinations simultaneously,to create regression plots, joint distributions, or faceted grids for deeper statistical analysis,to visualize subsets of data with small multiples."
   ]
  },
  {
   "cell_type": "markdown",
   "id": "23b842cc",
   "metadata": {},
   "source": [
    "## Practical Questions"
   ]
  },
  {
   "cell_type": "code",
   "execution_count": 2,
   "id": "99b51869",
   "metadata": {},
   "outputs": [],
   "source": [
    "import numpy as np\n",
    "import pandas as pd\n",
    "import matplotlib.pyplot as plt\n",
    "import seaborn as sns\n",
    "import plotly.express as px\n",
    "from plotly.graph_objs import Scatter3d, Figure"
   ]
  },
  {
   "cell_type": "markdown",
   "id": "2ea6396f",
   "metadata": {},
   "source": [
    "### 1) How do you create a 2D NumPy array and calculate the sum of each row"
   ]
  },
  {
   "cell_type": "code",
   "execution_count": 3,
   "id": "d31ad079",
   "metadata": {},
   "outputs": [
    {
     "name": "stdout",
     "output_type": "stream",
     "text": [
      "Array:\n",
      " [[1 2 3]\n",
      " [4 5 6]\n",
      " [7 8 9]]\n",
      "Row sums: [ 6 15 24]\n"
     ]
    }
   ],
   "source": [
    "import numpy as np\n",
    "A = np.array([[1, 2, 3],\n",
    "              [4, 5, 6],\n",
    "              [7, 8, 9]])\n",
    "row_sums = A.sum(axis=1)\n",
    "print(\"Array:\\n\", A)\n",
    "print(\"Row sums:\", row_sums)"
   ]
  },
  {
   "cell_type": "markdown",
   "id": "796f9024",
   "metadata": {},
   "source": [
    "### 2) Write a Pandas script to find the mean of a specific column in a DataFrame"
   ]
  },
  {
   "cell_type": "code",
   "execution_count": 4,
   "id": "104c2c89",
   "metadata": {},
   "outputs": [
    {
     "name": "stdout",
     "output_type": "stream",
     "text": [
      "    A    B\n",
      "0  10  1.2\n",
      "1  20  3.4\n",
      "2  30  5.6\n",
      "Mean of column B: 3.4\n"
     ]
    }
   ],
   "source": [
    "import pandas as pd\n",
    "df = pd.DataFrame({'A':[10, 20, 30], 'B':[1.2, 3.4, 5.6]})\n",
    "mean_B = df['B'].mean()\n",
    "print(df)\n",
    "print(\"Mean of column B:\", mean_B)"
   ]
  },
  {
   "cell_type": "markdown",
   "id": "03e47eef",
   "metadata": {},
   "source": [
    "### 3) Create a scatter plot using Matplotlib"
   ]
  },
  {
   "cell_type": "code",
   "execution_count": 5,
   "id": "5bf03c5d",
   "metadata": {},
   "outputs": [
    {
     "data": {
      "image/png": "[encoded data removed]",
      "text/plain": [
       "<Figure size 640x480 with 1 Axes>"
      ]
     },
     "metadata": {},
     "output_type": "display_data"
    }
   ],
   "source": [
    "import numpy as np\n",
    "import matplotlib.pyplot as plt\n",
    "\n",
    "x = np.linspace(0, 10, 50)\n",
    "y = np.sin(x)\n",
    "plt.figure()\n",
    "plt.scatter(x, y)\n",
    "plt.title(\"Matplotlib Scatter: y = sin(x)\")\n",
    "plt.xlabel(\"x\")\n",
    "plt.ylabel(\"sin(x)\")\n",
    "plt.show()"
   ]
  },
  {
   "cell_type": "markdown",
   "id": "deaad984",
   "metadata": {},
   "source": [
    "### 4)  How do you calculate the correlation matrix using Seaborn and visualize it with a heatmap"
   ]
  },
  {
   "cell_type": "code",
   "execution_count": 6,
   "id": "05c3c482",
   "metadata": {},
   "outputs": [
    {
     "name": "stdout",
     "output_type": "stream",
     "text": [
      "          A         B         C         D\n",
      "A  1.000000  0.055840  0.083003 -0.048429\n",
      "B  0.055840  1.000000 -0.053360  0.113466\n",
      "C  0.083003 -0.053360  1.000000 -0.078150\n",
      "D -0.048429  0.113466 -0.078150  1.000000\n"
     ]
    },
    {
     "data": {
      "image/png": "[encoded data removed]",
      "text/plain": [
       "<Figure size 640x480 with 2 Axes>"
      ]
     },
     "metadata": {},
     "output_type": "display_data"
    }
   ],
   "source": [
    "import numpy as np, pandas as pd, seaborn as sns, matplotlib.pyplot as plt\n",
    "\n",
    "df = pd.DataFrame(np.random.randn(100, 4), columns=list('ABCD'))\n",
    "corr = df.corr(numeric_only=True)\n",
    "print(corr)\n",
    "\n",
    "plt.figure()\n",
    "sns.heatmap(corr, annot=True, fmt=\".2f\")\n",
    "plt.title(\"Correlation Heatmap (Seaborn)\")\n",
    "plt.show()"
   ]
  },
  {
   "cell_type": "markdown",
   "id": "d4152937",
   "metadata": {},
   "source": [
    "### 5) Generate a bar plot using Plotly"
   ]
  },
  {
   "cell_type": "code",
   "execution_count": 7,
   "id": "140ab901",
   "metadata": {},
   "outputs": [
    {
     "data": {
      "application/vnd.plotly.v1+json": {
       "config": {
        "plotlyServerURL": "https://plot.ly"
       },
       "data": [
        {
         "alignmentgroup": "True",
         "hovertemplate": "Fruit=%{x}<br>Qty=%{y}<extra></extra>",
         "legendgroup": "",
         "marker": {
          "color": "#636efa",
          "pattern": {
           "shape": ""
          }
         },
         "name": "",
         "offsetgroup": "",
         "orientation": "v",
         "showlegend": false,
         "textposition": "auto",
         "type": "bar",
         "x": [
          "Apple",
          "Banana",
          "Cherry"
         ],
         "xaxis": "x",
         "y": [
          10,
          22,
          13
         ],
         "yaxis": "y"
        }
       ],
       "layout": {
        "barmode": "relative",
        "legend": {
         "tracegroupgap": 0
        },
        "template": {
         "data": {
          "bar": [
           {
            "error_x": {
             "color": "#2a3f5f"
            },
            "error_y": {
             "color": "#2a3f5f"
            },
            "marker": {
             "line": {
              "color": "#E5ECF6",
              "width": 0.5
             },
             "pattern": {
              "fillmode": "overlay",
              "size": 10,
              "solidity": 0.2
             }
            },
            "type": "bar"
           }
          ],
          "barpolar": [
           {
            "marker": {
             "line": {
              "color": "#E5ECF6",
              "width": 0.5
             },
             "pattern": {
              "fillmode": "overlay",
              "size": 10,
              "solidity": 0.2
             }
            },
            "type": "barpolar"
           }
          ],
          "carpet": [
           {
            "aaxis": {
             "endlinecolor": "#2a3f5f",
             "gridcolor": "white",
             "linecolor": "white",
             "minorgridcolor": "white",
             "startlinecolor": "#2a3f5f"
            },
            "baxis": {
             "endlinecolor": "#2a3f5f",
             "gridcolor": "white",
             "linecolor": "white",
             "minorgridcolor": "white",
             "startlinecolor": "#2a3f5f"
            },
            "type": "carpet"
           }
          ],
          "choropleth": [
           {
            "colorbar": {
             "outlinewidth": 0,
             "ticks": ""
            },
            "type": "choropleth"
           }
          ],
          "contour": [
           {
            "colorbar": {
             "outlinewidth": 0,
             "ticks": ""
            },
            "colorscale": [
             [
              0,
              "#0d0887"
             ],
             [
              0.1111111111111111,
              "#46039f"
             ],
             [
              0.2222222222222222,
              "#7201a8"
             ],
             [
              0.3333333333333333,
              "#9c179e"
             ],
             [
              0.4444444444444444,
              "#bd3786"
             ],
             [
              0.5555555555555556,
              "#d8576b"
             ],
             [
              0.6666666666666666,
              "#ed7953"
             ],
             [
              0.7777777777777778,
              "#fb9f3a"
             ],
             [
              0.8888888888888888,
              "#fdca26"
             ],
             [
              1,
              "#f0f921"
             ]
            ],
            "type": "contour"
           }
          ],
          "contourcarpet": [
           {
            "colorbar": {
             "outlinewidth": 0,
             "ticks": ""
            },
            "type": "contourcarpet"
           }
          ],
          "heatmap": [
           {
            "colorbar": {
             "outlinewidth": 0,
             "ticks": ""
            },
            "colorscale": [
             [
              0,
              "#0d0887"
             ],
             [
              0.1111111111111111,
              "#46039f"
             ],
             [
              0.2222222222222222,
              "#7201a8"
             ],
             [
              0.3333333333333333,
              "#9c179e"
             ],
             [
              0.4444444444444444,
              "#bd3786"
             ],
             [
              0.5555555555555556,
              "#d8576b"
             ],
             [
              0.6666666666666666,
              "#ed7953"
             ],
             [
              0.7777777777777778,
              "#fb9f3a"
             ],
             [
              0.8888888888888888,
              "#fdca26"
             ],
             [
              1,
              "#f0f921"
             ]
            ],
            "type": "heatmap"
           }
          ],
          "heatmapgl": [
           {
            "colorbar": {
             "outlinewidth": 0,
             "ticks": ""
            },
            "colorscale": [
             [
              0,
              "#0d0887"
             ],
             [
              0.1111111111111111,
              "#46039f"
             ],
             [
              0.2222222222222222,
              "#7201a8"
             ],
             [
              0.3333333333333333,
              "#9c179e"
             ],
             [
              0.4444444444444444,
              "#bd3786"
             ],
             [
              0.5555555555555556,
              "#d8576b"
             ],
             [
              0.6666666666666666,
              "#ed7953"
             ],
             [
              0.7777777777777778,
              "#fb9f3a"
             ],
             [
              0.8888888888888888,
              "#fdca26"
             ],
             [
              1,
              "#f0f921"
             ]
            ],
            "type": "heatmapgl"
           }
          ],
          "histogram": [
           {
            "marker": {
             "pattern": {
              "fillmode": "overlay",
              "size": 10,
              "solidity": 0.2
             }
            },
            "type": "histogram"
           }
          ],
          "histogram2d": [
           {
            "colorbar": {
             "outlinewidth": 0,
             "ticks": ""
            },
            "colorscale": [
             [
              0,
              "#0d0887"
             ],
             [
              0.1111111111111111,
              "#46039f"
             ],
             [
              0.2222222222222222,
              "#7201a8"
             ],
             [
              0.3333333333333333,
              "#9c179e"
             ],
             [
              0.4444444444444444,
              "#bd3786"
             ],
             [
              0.5555555555555556,
              "#d8576b"
             ],
             [
              0.6666666666666666,
              "#ed7953"
             ],
             [
              0.7777777777777778,
              "#fb9f3a"
             ],
             [
              0.8888888888888888,
              "#fdca26"
             ],
             [
              1,
              "#f0f921"
             ]
            ],
            "type": "histogram2d"
           }
          ],
          "histogram2dcontour": [
           {
            "colorbar": {
             "outlinewidth": 0,
             "ticks": ""
            },
            "colorscale": [
             [
              0,
              "#0d0887"
             ],
             [
              0.1111111111111111,
              "#46039f"
             ],
             [
              0.2222222222222222,
              "#7201a8"
             ],
             [
              0.3333333333333333,
              "#9c179e"
             ],
             [
              0.4444444444444444,
              "#bd3786"
             ],
             [
              0.5555555555555556,
              "#d8576b"
             ],
             [
              0.6666666666666666,
              "#ed7953"
             ],
             [
              0.7777777777777778,
              "#fb9f3a"
             ],
             [
              0.8888888888888888,
              "#fdca26"
             ],
             [
              1,
              "#f0f921"
             ]
            ],
            "type": "histogram2dcontour"
           }
          ],
          "mesh3d": [
           {
            "colorbar": {
             "outlinewidth": 0,
             "ticks": ""
            },
            "type": "mesh3d"
           }
          ],
          "parcoords": [
           {
            "line": {
             "colorbar": {
              "outlinewidth": 0,
              "ticks": ""
             }
            },
            "type": "parcoords"
           }
          ],
          "pie": [
           {
            "automargin": true,
            "type": "pie"
           }
          ],
          "scatter": [
           {
            "fillpattern": {
             "fillmode": "overlay",
             "size": 10,
             "solidity": 0.2
            },
            "type": "scatter"
           }
          ],
          "scatter3d": [
           {
            "line": {
             "colorbar": {
              "outlinewidth": 0,
              "ticks": ""
             }
            },
            "marker": {
             "colorbar": {
              "outlinewidth": 0,
              "ticks": ""
             }
            },
            "type": "scatter3d"
           }
          ],
          "scattercarpet": [
           {
            "marker": {
             "colorbar": {
              "outlinewidth": 0,
              "ticks": ""
             }
            },
            "type": "scattercarpet"
           }
          ],
          "scattergeo": [
           {
            "marker": {
             "colorbar": {
              "outlinewidth": 0,
              "ticks": ""
             }
            },
            "type": "scattergeo"
           }
          ],
          "scattergl": [
           {
            "marker": {
             "colorbar": {
              "outlinewidth": 0,
              "ticks": ""
             }
            },
            "type": "scattergl"
           }
          ],
          "scattermapbox": [
           {
            "marker": {
             "colorbar": {
              "outlinewidth": 0,
              "ticks": ""
             }
            },
            "type": "scattermapbox"
           }
          ],
          "scatterpolar": [
           {
            "marker": {
             "colorbar": {
              "outlinewidth": 0,
              "ticks": ""
             }
            },
            "type": "scatterpolar"
           }
          ],
          "scatterpolargl": [
           {
            "marker": {
             "colorbar": {
              "outlinewidth": 0,
              "ticks": ""
             }
            },
            "type": "scatterpolargl"
           }
          ],
          "scatterternary": [
           {
            "marker": {
             "colorbar": {
              "outlinewidth": 0,
              "ticks": ""
             }
            },
            "type": "scatterternary"
           }
          ],
          "surface": [
           {
            "colorbar": {
             "outlinewidth": 0,
             "ticks": ""
            },
            "colorscale": [
             [
              0,
              "#0d0887"
             ],
             [
              0.1111111111111111,
              "#46039f"
             ],
             [
              0.2222222222222222,
              "#7201a8"
             ],
             [
              0.3333333333333333,
              "#9c179e"
             ],
             [
              0.4444444444444444,
              "#bd3786"
             ],
             [
              0.5555555555555556,
              "#d8576b"
             ],
             [
              0.6666666666666666,
              "#ed7953"
             ],
             [
              0.7777777777777778,
              "#fb9f3a"
             ],
             [
              0.8888888888888888,
              "#fdca26"
             ],
             [
              1,
              "#f0f921"
             ]
            ],
            "type": "surface"
           }
          ],
          "table": [
           {
            "cells": {
             "fill": {
              "color": "#EBF0F8"
             },
             "line": {
              "color": "white"
             }
            },
            "header": {
             "fill": {
              "color": "#C8D4E3"
             },
             "line": {
              "color": "white"
             }
            },
            "type": "table"
           }
          ]
         },
         "layout": {
          "annotationdefaults": {
           "arrowcolor": "#2a3f5f",
           "arrowhead": 0,
           "arrowwidth": 1
          },
          "autotypenumbers": "strict",
          "coloraxis": {
           "colorbar": {
            "outlinewidth": 0,
            "ticks": ""
           }
          },
          "colorscale": {
           "diverging": [
            [
             0,
             "#8e0152"
            ],
            [
             0.1,
             "#c51b7d"
            ],
            [
             0.2,
             "#de77ae"
            ],
            [
             0.3,
             "#f1b6da"
            ],
            [
             0.4,
             "#fde0ef"
            ],
            [
             0.5,
             "#f7f7f7"
            ],
            [
             0.6,
             "#e6f5d0"
            ],
            [
             0.7,
             "#b8e186"
            ],
            [
             0.8,
             "#7fbc41"
            ],
            [
             0.9,
             "#4d9221"
            ],
            [
             1,
             "#276419"
            ]
           ],
           "sequential": [
            [
             0,
             "#0d0887"
            ],
            [
             0.1111111111111111,
             "#46039f"
            ],
            [
             0.2222222222222222,
             "#7201a8"
            ],
            [
             0.3333333333333333,
             "#9c179e"
            ],
            [
             0.4444444444444444,
             "#bd3786"
            ],
            [
             0.5555555555555556,
             "#d8576b"
            ],
            [
             0.6666666666666666,
             "#ed7953"
            ],
            [
             0.7777777777777778,
             "#fb9f3a"
            ],
            [
             0.8888888888888888,
             "#fdca26"
            ],
            [
             1,
             "#f0f921"
            ]
           ],
           "sequentialminus": [
            [
             0,
             "#0d0887"
            ],
            [
             0.1111111111111111,
             "#46039f"
            ],
            [
             0.2222222222222222,
             "#7201a8"
            ],
            [
             0.3333333333333333,
             "#9c179e"
            ],
            [
             0.4444444444444444,
             "#bd3786"
            ],
            [
             0.5555555555555556,
             "#d8576b"
            ],
            [
             0.6666666666666666,
             "#ed7953"
            ],
            [
             0.7777777777777778,
             "#fb9f3a"
            ],
            [
             0.8888888888888888,
             "#fdca26"
            ],
            [
             1,
             "#f0f921"
            ]
           ]
          },
          "colorway": [
           "#636efa",
           "#EF553B",
           "#00cc96",
           "#ab63fa",
           "#FFA15A",
           "#19d3f3",
           "#FF6692",
           "#B6E880",
           "#FF97FF",
           "#FECB52"
          ],
          "font": {
           "color": "#2a3f5f"
          },
          "geo": {
           "bgcolor": "white",
           "lakecolor": "white",
           "landcolor": "#E5ECF6",
           "showlakes": true,
           "showland": true,
           "subunitcolor": "white"
          },
          "hoverlabel": {
           "align": "left"
          },
          "hovermode": "closest",
          "mapbox": {
           "style": "light"
          },
          "paper_bgcolor": "white",
          "plot_bgcolor": "#E5ECF6",
          "polar": {
           "angularaxis": {
            "gridcolor": "white",
            "linecolor": "white",
            "ticks": ""
           },
           "bgcolor": "#E5ECF6",
           "radialaxis": {
            "gridcolor": "white",
            "linecolor": "white",
            "ticks": ""
           }
          },
          "scene": {
           "xaxis": {
            "backgroundcolor": "#E5ECF6",
            "gridcolor": "white",
            "gridwidth": 2,
            "linecolor": "white",
            "showbackground": true,
            "ticks": "",
            "zerolinecolor": "white"
           },
           "yaxis": {
            "backgroundcolor": "#E5ECF6",
            "gridcolor": "white",
            "gridwidth": 2,
            "linecolor": "white",
            "showbackground": true,
            "ticks": "",
            "zerolinecolor": "white"
           },
           "zaxis": {
            "backgroundcolor": "#E5ECF6",
            "gridcolor": "white",
            "gridwidth": 2,
            "linecolor": "white",
            "showbackground": true,
            "ticks": "",
            "zerolinecolor": "white"
           }
          },
          "shapedefaults": {
           "line": {
            "color": "#2a3f5f"
           }
          },
          "ternary": {
           "aaxis": {
            "gridcolor": "white",
            "linecolor": "white",
            "ticks": ""
           },
           "baxis": {
            "gridcolor": "white",
            "linecolor": "white",
            "ticks": ""
           },
           "bgcolor": "#E5ECF6",
           "caxis": {
            "gridcolor": "white",
            "linecolor": "white",
            "ticks": ""
           }
          },
          "title": {
           "x": 0.05
          },
          "xaxis": {
           "automargin": true,
           "gridcolor": "white",
           "linecolor": "white",
           "ticks": "",
           "title": {
            "standoff": 15
           },
           "zerolinecolor": "white",
           "zerolinewidth": 2
          },
          "yaxis": {
           "automargin": true,
           "gridcolor": "white",
           "linecolor": "white",
           "ticks": "",
           "title": {
            "standoff": 15
           },
           "zerolinecolor": "white",
           "zerolinewidth": 2
          }
         }
        },
        "title": {
         "text": "Plotly Bar Plot"
        },
        "xaxis": {
         "anchor": "y",
         "domain": [
          0,
          1
         ],
         "title": {
          "text": "Fruit"
         }
        },
        "yaxis": {
         "anchor": "x",
         "domain": [
          0,
          1
         ],
         "title": {
          "text": "Qty"
         }
        }
       }
      }
     },
     "metadata": {},
     "output_type": "display_data"
    }
   ],
   "source": [
    "import pandas as pd\n",
    "import plotly.express as px\n",
    "\n",
    "df = pd.DataFrame({'Fruit':['Apple','Banana','Cherry'], 'Qty':[10, 22, 13]})\n",
    "fig = px.bar(df, x='Fruit', y='Qty', title='Plotly Bar Plot')\n",
    "fig.show()  "
   ]
  },
  {
   "cell_type": "markdown",
   "id": "e1e1f267",
   "metadata": {},
   "source": [
    "### 6) Create a DataFrame and add a new column based on an existing column"
   ]
  },
  {
   "cell_type": "code",
   "execution_count": 8,
   "id": "3e1ac706",
   "metadata": {},
   "outputs": [
    {
     "name": "stdout",
     "output_type": "stream",
     "text": [
      "   price  price_with_tax\n",
      "0    100           118.0\n",
      "1    250           295.0\n",
      "2    400           472.0\n"
     ]
    }
   ],
   "source": [
    "import pandas as pd\n",
    "df = pd.DataFrame({'price':[100, 250, 400]})\n",
    "df['price_with_tax'] = df['price'] * 1.18  \n",
    "print(df)"
   ]
  },
  {
   "cell_type": "markdown",
   "id": "8c0d57ea",
   "metadata": {},
   "source": [
    "### 7) Write a program to perform element-wise multiplication of two NumPy arrays"
   ]
  },
  {
   "cell_type": "code",
   "execution_count": 9,
   "id": "4d110b03",
   "metadata": {},
   "outputs": [
    {
     "name": "stdout",
     "output_type": "stream",
     "text": [
      "a: [1 2 3] b: [4 5 6] a*b: [ 4 10 18]\n"
     ]
    }
   ],
   "source": [
    "import numpy as np\n",
    "a = np.array([1, 2, 3])\n",
    "b = np.array([4, 5, 6])\n",
    "c = a * b  \n",
    "print(\"a:\", a, \"b:\", b, \"a*b:\", c)"
   ]
  },
  {
   "cell_type": "markdown",
   "id": "ba9af77f",
   "metadata": {},
   "source": [
    "### 8) Create a line plot with multiple lines using Matplotlib"
   ]
  },
  {
   "cell_type": "code",
   "execution_count": 10,
   "id": "8f0d964b",
   "metadata": {},
   "outputs": [
    {
     "data": {
      "image/png": "[encoded data removed]",
      "text/plain": [
       "<Figure size 640x480 with 1 Axes>"
      ]
     },
     "metadata": {},
     "output_type": "display_data"
    }
   ],
   "source": [
    "import numpy as np, matplotlib.pyplot as plt\n",
    "\n",
    "x = np.linspace(0, 2*np.pi, 200)\n",
    "plt.figure()\n",
    "plt.plot(x, np.sin(x), label='sin')\n",
    "plt.plot(x, np.cos(x), label='cos')\n",
    "plt.title(\"Multiple Lines\")\n",
    "plt.xlabel(\"x\")\n",
    "plt.ylabel(\"value\")\n",
    "plt.legend()\n",
    "plt.show()"
   ]
  },
  {
   "cell_type": "markdown",
   "id": "f8a87572",
   "metadata": {},
   "source": [
    "### 9) Generate a Pandas DataFrame and filter rows where a column value is greater than a threshold"
   ]
  },
  {
   "cell_type": "code",
   "execution_count": 11,
   "id": "c32ec436",
   "metadata": {},
   "outputs": [
    {
     "name": "stdout",
     "output_type": "stream",
     "text": [
      "Original:\n",
      "   name  score\n",
      "0    A     55\n",
      "1    B     72\n",
      "2    C     90\n",
      "3    D     64\n",
      "\n",
      "Filtered (>70):\n",
      "   name  score\n",
      "1    B     72\n",
      "2    C     90\n"
     ]
    }
   ],
   "source": [
    "import pandas as pd\n",
    "df = pd.DataFrame({'name':['A','B','C','D'], 'score':[55, 72, 90, 64]})\n",
    "filtered = df[df['score'] > 70]\n",
    "print(\"Original:\\n\", df)\n",
    "print(\"\\nFiltered (>70):\\n\", filtered)"
   ]
  },
  {
   "cell_type": "markdown",
   "id": "bb9d81e6",
   "metadata": {},
   "source": [
    "### 10) Create a histogram using Seaborn to visualize a distribution"
   ]
  },
  {
   "cell_type": "code",
   "execution_count": 12,
   "id": "527078bd",
   "metadata": {},
   "outputs": [
    {
     "data": {
      "image/png": "[encoded data removed]",
      "text/plain": [
       "<Figure size 640x480 with 1 Axes>"
      ]
     },
     "metadata": {},
     "output_type": "display_data"
    }
   ],
   "source": [
    "import numpy as np, pandas as pd, seaborn as sns, matplotlib.pyplot as plt\n",
    "\n",
    "data = np.random.normal(loc=0, scale=1, size=500)\n",
    "plt.figure()\n",
    "sns.histplot(data, bins=30, kde=True)\n",
    "plt.title(\"Seaborn Histogram with KDE\")\n",
    "plt.show()"
   ]
  },
  {
   "cell_type": "markdown",
   "id": "01feac54",
   "metadata": {},
   "source": [
    "### 11) Perform matrix multiplication using NumPy"
   ]
  },
  {
   "cell_type": "code",
   "execution_count": 13,
   "id": "2556ed60",
   "metadata": {},
   "outputs": [
    {
     "name": "stdout",
     "output_type": "stream",
     "text": [
      "A:\n",
      " [[1 2]\n",
      " [3 4]\n",
      " [5 6]]\n",
      "B:\n",
      " [[ 7  8  9]\n",
      " [10 11 12]]\n",
      "A @ B:\n",
      " [[ 27  30  33]\n",
      " [ 61  68  75]\n",
      " [ 95 106 117]]\n"
     ]
    }
   ],
   "source": [
    "import numpy as np\n",
    "A = np.array([[1, 2],\n",
    "              [3, 4],\n",
    "              [5, 6]])\n",
    "B = np.array([[7, 8, 9],\n",
    "              [10,11,12]])\n",
    "C = A @ B  \n",
    "print(\"A:\\n\", A)\n",
    "print(\"B:\\n\", B)\n",
    "print(\"A @ B:\\n\", C)"
   ]
  },
  {
   "cell_type": "markdown",
   "id": "b0dc7383",
   "metadata": {},
   "source": [
    "### 12) Use Pandas to load a CSV file and display its first 5 rows"
   ]
  },
  {
   "cell_type": "code",
   "execution_count": 14,
   "id": "dc67fe9a",
   "metadata": {},
   "outputs": [
    {
     "name": "stdout",
     "output_type": "stream",
     "text": [
      "   x   y\n",
      "0  1  10\n",
      "1  2  20\n",
      "2  3  30\n"
     ]
    }
   ],
   "source": [
    "import pandas as pd\n",
    "\n",
    "csv_path = \"April.csv\"\n",
    "pd.DataFrame({'x':[1,2,3],'y':[10,20,30]}).to_csv(csv_path, index=False)\n",
    "\n",
    "df = pd.read_csv(csv_path)\n",
    "print(df.head())"
   ]
  },
  {
   "cell_type": "markdown",
   "id": "7058056c",
   "metadata": {},
   "source": [
    "### 13) Create a 3D scatter plot using Plotly"
   ]
  },
  {
   "cell_type": "code",
   "execution_count": 15,
   "id": "c237bbbb",
   "metadata": {},
   "outputs": [
    {
     "data": {
      "application/vnd.plotly.v1+json": {
       "config": {
        "plotlyServerURL": "https://plot.ly"
       },
       "data": [
        {
         "mode": "markers",
         "type": "scatter3d",
         "x": [
          1.764052345967664,
          0.4001572083672233,
          0.9787379841057392,
          2.240893199201458,
          1.8675579901499675,
          -0.977277879876411,
          0.9500884175255894,
          -0.1513572082976979,
          -0.10321885179355784,
          0.41059850193837233,
          0.144043571160878,
          1.454273506962975,
          0.7610377251469934,
          0.12167501649282841,
          0.44386323274542566,
          0.33367432737426683,
          1.4940790731576061,
          -0.20515826376580087,
          0.31306770165090136,
          -0.8540957393017248,
          -2.5529898158340787,
          0.6536185954403606,
          0.8644361988595057,
          -0.7421650204064419,
          2.2697546239876076,
          -1.4543656745987648,
          0.04575851730144607,
          -0.1871838500258336,
          1.5327792143584575,
          1.469358769900285,
          0.1549474256969163,
          0.37816251960217356,
          -0.8877857476301128,
          -1.980796468223927,
          -0.3479121493261526,
          0.15634896910398005,
          1.2302906807277207,
          1.2023798487844113,
          -0.3873268174079523,
          -0.30230275057533557,
          -1.0485529650670926,
          -1.4200179371789752,
          -1.7062701906250126,
          1.9507753952317897,
          -0.5096521817516535,
          -0.4380743016111864,
          -1.2527953600499262,
          0.7774903558319101,
          -1.6138978475579515,
          -0.2127402802139687,
          -0.8954665611936756,
          0.386902497859262,
          -0.510805137568873,
          -1.180632184122412,
          -0.028182228338654868,
          0.42833187053041766,
          0.06651722238316789,
          0.3024718977397814,
          -0.6343220936809636,
          -0.3627411659871381,
          -0.672460447775951,
          -0.3595531615405413,
          -0.813146282044454,
          -1.7262826023316769,
          0.17742614225375283,
          -0.4017809362082619,
          -1.6301983469660446,
          0.4627822555257742,
          -0.9072983643832422,
          0.05194539579613895,
          0.7290905621775369,
          0.12898291075741067,
          1.1394006845433007,
          -1.2348258203536526,
          0.402341641177549,
          -0.6848100909403132,
          -0.8707971491818818,
          -0.5788496647644155,
          -0.31155253212737266,
          0.05616534222974544,
          -1.1651498407833565,
          0.9008264869541871,
          0.46566243973045984,
          -1.5362436862772237,
          1.4882521937955997,
          1.8958891760305832,
          1.1787795711596507,
          -0.17992483581235091,
          -1.0707526215105425,
          1.0544517269311366,
          -0.40317694697317963,
          1.2224450703824274,
          0.2082749780768603,
          0.9766390364837128,
          0.3563663971744019,
          0.7065731681919482,
          0.010500020720820478,
          1.7858704939058352,
          0.12691209270361992,
          0.40198936344470165
         ],
         "y": [
          1.8831506970562544,
          -1.3477590611424464,
          -1.2704849984857336,
          0.9693967081580112,
          -1.17312340511416,
          1.9436211856492926,
          -0.41361898075974735,
          -0.7474548114407578,
          1.9229420264803847,
          1.4805147914344243,
          1.8675589604265699,
          0.9060446582753853,
          -0.8612256850547025,
          1.9100649530990337,
          -0.2680033709513804,
          0.8024563957963952,
          0.947251967773748,
          -0.1550100930908342,
          0.6140793703460803,
          0.9222066715665268,
          0.37642553115562943,
          -1.0994007905841945,
          0.298238174206056,
          1.3263858966870303,
          -0.6945678597313655,
          -0.14963454032767076,
          -0.43515355172163744,
          1.8492637284793418,
          0.6722947570124355,
          0.40746183624111043,
          -0.7699160744453164,
          0.5392491912918173,
          -0.6743326606573761,
          0.03183055827435118,
          -0.635846078378881,
          0.6764332949464997,
          0.5765908166149409,
          -0.20829875557799488,
          0.3960067126616453,
          -1.0930615087305058,
          -1.4912575927056055,
          0.4393917012645369,
          0.16667349537252904,
          0.6350314368921064,
          2.383144774863942,
          0.9444794869904138,
          -0.9128222254441586,
          1.117016288095853,
          -1.3159074105115212,
          -0.461584604814709,
          -0.06824160532463124,
          1.7133427216493666,
          -0.7447548220484399,
          -0.8264385386590144,
          -0.0984525244254323,
          -0.6634782863621074,
          1.126635922106507,
          -1.0799315083634233,
          -1.1474686524111024,
          -0.43782004474443403,
          -0.4980324506923049,
          1.9295320538169858,
          0.9494208069257608,
          0.0875512413851909,
          -1.225435518830168,
          0.8443629764015471,
          -1.0002153473895647,
          -1.5447710967776116,
          1.1880297923523018,
          0.3169426119248496,
          0.920858823780819,
          0.3187276529430212,
          0.8568306119026912,
          -0.6510255933001469,
          -1.0342428417844647,
          0.681594518281627,
          -0.8034096641738411,
          -0.6895497777502005,
          -0.45553250351734315,
          0.01747915902505673,
          -0.35399391125348395,
          -1.3749512934180188,
          -0.6436184028328905,
          -2.2234031522244266,
          0.6252314510271875,
          -1.6020576556067476,
          -1.1043833394284506,
          0.052165079260974405,
          -0.7395629963913133,
          1.5430145954067358,
          -1.2928569097234486,
          0.26705086934918293,
          -0.0392828182274956,
          -1.1680934977411974,
          0.5232766605317537,
          -0.1715463312222481,
          0.7717905512136674,
          0.8235041539637314,
          2.16323594928069,
          1.336527949436392
         ],
         "z": [
          -0.3691818379424436,
          -0.2393791775759264,
          1.0996595958871132,
          0.6552637307225978,
          0.640131526097592,
          -1.6169560443108344,
          -0.024326124398935636,
          -0.7380309092056887,
          0.27992459904323824,
          -0.09815038964295794,
          0.9101789080925919,
          0.31721821519130206,
          0.7863279621089762,
          -0.46641909673594306,
          -0.9444462559182504,
          -0.41004969320254847,
          -0.017020413861440594,
          0.3791517355550818,
          2.259308950690852,
          -0.04225715166064269,
          -0.955945000492777,
          -0.34598177569938643,
          -0.4635959746460942,
          0.4814814737734622,
          -1.5407970144446248,
          0.06326199420033171,
          0.1565065379653756,
          0.23218103620027578,
          -0.5973160689653627,
          -0.237921729736007,
          -1.4240609089825316,
          -0.49331988336219407,
          -0.5428614760167177,
          0.4160500462614255,
          -1.1561824318219127,
          0.7811981017099934,
          1.4944845444913688,
          -2.0699850250135325,
          0.42625873077810095,
          0.6769080350302455,
          -0.637437025552229,
          -0.39727181432879766,
          -0.13288057758695562,
          -0.2977908794017283,
          -0.3090129690471222,
          -1.6760038063299767,
          1.15233156478312,
          1.079618592036821,
          -0.8133642592042029,
          -1.466424327802514,
          0.5210648764527586,
          -0.5757879698130661,
          0.14195316332077967,
          -0.3193284171450952,
          0.6915387510701866,
          0.6947491436560059,
          -0.7255973784635843,
          -1.3833639553950554,
          -1.582938397335082,
          0.6103793791072052,
          -1.188859257784029,
          -0.5068163542986875,
          -0.5963140384505081,
          -0.05256729626954629,
          -1.936279805846507,
          0.18877859679382855,
          0.5238910238342056,
          0.08842208704466141,
          -0.3108861716984717,
          0.09740016626878341,
          0.3990463456401302,
          -2.77259275642665,
          1.9559123082506942,
          0.39009332268792646,
          -0.65240858238702,
          -0.3909533751876011,
          0.49374177734918845,
          -0.11610393903436653,
          -2.0306844677814944,
          2.0644928613593194,
          -0.11054065723247261,
          1.0201727117157997,
          -0.6920498477843912,
          1.5363770542457977,
          0.28634368889227957,
          0.6088438344754508,
          -1.0452533661469547,
          1.2111452896827009,
          0.6898181645347884,
          1.3018462295649984,
          -0.6280875596415789,
          -0.4810271184607877,
          2.303916697683942,
          -1.0600158227215473,
          -0.13594970067832082,
          1.1368913626026953,
          0.0977249677148556,
          0.5829536797532936,
          -0.3994490292628752,
          0.37005588784751875
         ]
        }
       ],
       "layout": {
        "template": {
         "data": {
          "bar": [
           {
            "error_x": {
             "color": "#2a3f5f"
            },
            "error_y": {
             "color": "#2a3f5f"
            },
            "marker": {
             "line": {
              "color": "#E5ECF6",
              "width": 0.5
             },
             "pattern": {
              "fillmode": "overlay",
              "size": 10,
              "solidity": 0.2
             }
            },
            "type": "bar"
           }
          ],
          "barpolar": [
           {
            "marker": {
             "line": {
              "color": "#E5ECF6",
              "width": 0.5
             },
             "pattern": {
              "fillmode": "overlay",
              "size": 10,
              "solidity": 0.2
             }
            },
            "type": "barpolar"
           }
          ],
          "carpet": [
           {
            "aaxis": {
             "endlinecolor": "#2a3f5f",
             "gridcolor": "white",
             "linecolor": "white",
             "minorgridcolor": "white",
             "startlinecolor": "#2a3f5f"
            },
            "baxis": {
             "endlinecolor": "#2a3f5f",
             "gridcolor": "white",
             "linecolor": "white",
             "minorgridcolor": "white",
             "startlinecolor": "#2a3f5f"
            },
            "type": "carpet"
           }
          ],
          "choropleth": [
           {
            "colorbar": {
             "outlinewidth": 0,
             "ticks": ""
            },
            "type": "choropleth"
           }
          ],
          "contour": [
           {
            "colorbar": {
             "outlinewidth": 0,
             "ticks": ""
            },
            "colorscale": [
             [
              0,
              "#0d0887"
             ],
             [
              0.1111111111111111,
              "#46039f"
             ],
             [
              0.2222222222222222,
              "#7201a8"
             ],
             [
              0.3333333333333333,
              "#9c179e"
             ],
             [
              0.4444444444444444,
              "#bd3786"
             ],
             [
              0.5555555555555556,
              "#d8576b"
             ],
             [
              0.6666666666666666,
              "#ed7953"
             ],
             [
              0.7777777777777778,
              "#fb9f3a"
             ],
             [
              0.8888888888888888,
              "#fdca26"
             ],
             [
              1,
              "#f0f921"
             ]
            ],
            "type": "contour"
           }
          ],
          "contourcarpet": [
           {
            "colorbar": {
             "outlinewidth": 0,
             "ticks": ""
            },
            "type": "contourcarpet"
           }
          ],
          "heatmap": [
           {
            "colorbar": {
             "outlinewidth": 0,
             "ticks": ""
            },
            "colorscale": [
             [
              0,
              "#0d0887"
             ],
             [
              0.1111111111111111,
              "#46039f"
             ],
             [
              0.2222222222222222,
              "#7201a8"
             ],
             [
              0.3333333333333333,
              "#9c179e"
             ],
             [
              0.4444444444444444,
              "#bd3786"
             ],
             [
              0.5555555555555556,
              "#d8576b"
             ],
             [
              0.6666666666666666,
              "#ed7953"
             ],
             [
              0.7777777777777778,
              "#fb9f3a"
             ],
             [
              0.8888888888888888,
              "#fdca26"
             ],
             [
              1,
              "#f0f921"
             ]
            ],
            "type": "heatmap"
           }
          ],
          "heatmapgl": [
           {
            "colorbar": {
             "outlinewidth": 0,
             "ticks": ""
            },
            "colorscale": [
             [
              0,
              "#0d0887"
             ],
             [
              0.1111111111111111,
              "#46039f"
             ],
             [
              0.2222222222222222,
              "#7201a8"
             ],
             [
              0.3333333333333333,
              "#9c179e"
             ],
             [
              0.4444444444444444,
              "#bd3786"
             ],
             [
              0.5555555555555556,
              "#d8576b"
             ],
             [
              0.6666666666666666,
              "#ed7953"
             ],
             [
              0.7777777777777778,
              "#fb9f3a"
             ],
             [
              0.8888888888888888,
              "#fdca26"
             ],
             [
              1,
              "#f0f921"
             ]
            ],
            "type": "heatmapgl"
           }
          ],
          "histogram": [
           {
            "marker": {
             "pattern": {
              "fillmode": "overlay",
              "size": 10,
              "solidity": 0.2
             }
            },
            "type": "histogram"
           }
          ],
          "histogram2d": [
           {
            "colorbar": {
             "outlinewidth": 0,
             "ticks": ""
            },
            "colorscale": [
             [
              0,
              "#0d0887"
             ],
             [
              0.1111111111111111,
              "#46039f"
             ],
             [
              0.2222222222222222,
              "#7201a8"
             ],
             [
              0.3333333333333333,
              "#9c179e"
             ],
             [
              0.4444444444444444,
              "#bd3786"
             ],
             [
              0.5555555555555556,
              "#d8576b"
             ],
             [
              0.6666666666666666,
              "#ed7953"
             ],
             [
              0.7777777777777778,
              "#fb9f3a"
             ],
             [
              0.8888888888888888,
              "#fdca26"
             ],
             [
              1,
              "#f0f921"
             ]
            ],
            "type": "histogram2d"
           }
          ],
          "histogram2dcontour": [
           {
            "colorbar": {
             "outlinewidth": 0,
             "ticks": ""
            },
            "colorscale": [
             [
              0,
              "#0d0887"
             ],
             [
              0.1111111111111111,
              "#46039f"
             ],
             [
              0.2222222222222222,
              "#7201a8"
             ],
             [
              0.3333333333333333,
              "#9c179e"
             ],
             [
              0.4444444444444444,
              "#bd3786"
             ],
             [
              0.5555555555555556,
              "#d8576b"
             ],
             [
              0.6666666666666666,
              "#ed7953"
             ],
             [
              0.7777777777777778,
              "#fb9f3a"
             ],
             [
              0.8888888888888888,
              "#fdca26"
             ],
             [
              1,
              "#f0f921"
             ]
            ],
            "type": "histogram2dcontour"
           }
          ],
          "mesh3d": [
           {
            "colorbar": {
             "outlinewidth": 0,
             "ticks": ""
            },
            "type": "mesh3d"
           }
          ],
          "parcoords": [
           {
            "line": {
             "colorbar": {
              "outlinewidth": 0,
              "ticks": ""
             }
            },
            "type": "parcoords"
           }
          ],
          "pie": [
           {
            "automargin": true,
            "type": "pie"
           }
          ],
          "scatter": [
           {
            "fillpattern": {
             "fillmode": "overlay",
             "size": 10,
             "solidity": 0.2
            },
            "type": "scatter"
           }
          ],
          "scatter3d": [
           {
            "line": {
             "colorbar": {
              "outlinewidth": 0,
              "ticks": ""
             }
            },
            "marker": {
             "colorbar": {
              "outlinewidth": 0,
              "ticks": ""
             }
            },
            "type": "scatter3d"
           }
          ],
          "scattercarpet": [
           {
            "marker": {
             "colorbar": {
              "outlinewidth": 0,
              "ticks": ""
             }
            },
            "type": "scattercarpet"
           }
          ],
          "scattergeo": [
           {
            "marker": {
             "colorbar": {
              "outlinewidth": 0,
              "ticks": ""
             }
            },
            "type": "scattergeo"
           }
          ],
          "scattergl": [
           {
            "marker": {
             "colorbar": {
              "outlinewidth": 0,
              "ticks": ""
             }
            },
            "type": "scattergl"
           }
          ],
          "scattermapbox": [
           {
            "marker": {
             "colorbar": {
              "outlinewidth": 0,
              "ticks": ""
             }
            },
            "type": "scattermapbox"
           }
          ],
          "scatterpolar": [
           {
            "marker": {
             "colorbar": {
              "outlinewidth": 0,
              "ticks": ""
             }
            },
            "type": "scatterpolar"
           }
          ],
          "scatterpolargl": [
           {
            "marker": {
             "colorbar": {
              "outlinewidth": 0,
              "ticks": ""
             }
            },
            "type": "scatterpolargl"
           }
          ],
          "scatterternary": [
           {
            "marker": {
             "colorbar": {
              "outlinewidth": 0,
              "ticks": ""
             }
            },
            "type": "scatterternary"
           }
          ],
          "surface": [
           {
            "colorbar": {
             "outlinewidth": 0,
             "ticks": ""
            },
            "colorscale": [
             [
              0,
              "#0d0887"
             ],
             [
              0.1111111111111111,
              "#46039f"
             ],
             [
              0.2222222222222222,
              "#7201a8"
             ],
             [
              0.3333333333333333,
              "#9c179e"
             ],
             [
              0.4444444444444444,
              "#bd3786"
             ],
             [
              0.5555555555555556,
              "#d8576b"
             ],
             [
              0.6666666666666666,
              "#ed7953"
             ],
             [
              0.7777777777777778,
              "#fb9f3a"
             ],
             [
              0.8888888888888888,
              "#fdca26"
             ],
             [
              1,
              "#f0f921"
             ]
            ],
            "type": "surface"
           }
          ],
          "table": [
           {
            "cells": {
             "fill": {
              "color": "#EBF0F8"
             },
             "line": {
              "color": "white"
             }
            },
            "header": {
             "fill": {
              "color": "#C8D4E3"
             },
             "line": {
              "color": "white"
             }
            },
            "type": "table"
           }
          ]
         },
         "layout": {
          "annotationdefaults": {
           "arrowcolor": "#2a3f5f",
           "arrowhead": 0,
           "arrowwidth": 1
          },
          "autotypenumbers": "strict",
          "coloraxis": {
           "colorbar": {
            "outlinewidth": 0,
            "ticks": ""
           }
          },
          "colorscale": {
           "diverging": [
            [
             0,
             "#8e0152"
            ],
            [
             0.1,
             "#c51b7d"
            ],
            [
             0.2,
             "#de77ae"
            ],
            [
             0.3,
             "#f1b6da"
            ],
            [
             0.4,
             "#fde0ef"
            ],
            [
             0.5,
             "#f7f7f7"
            ],
            [
             0.6,
             "#e6f5d0"
            ],
            [
             0.7,
             "#b8e186"
            ],
            [
             0.8,
             "#7fbc41"
            ],
            [
             0.9,
             "#4d9221"
            ],
            [
             1,
             "#276419"
            ]
           ],
           "sequential": [
            [
             0,
             "#0d0887"
            ],
            [
             0.1111111111111111,
             "#46039f"
            ],
            [
             0.2222222222222222,
             "#7201a8"
            ],
            [
             0.3333333333333333,
             "#9c179e"
            ],
            [
             0.4444444444444444,
             "#bd3786"
            ],
            [
             0.5555555555555556,
             "#d8576b"
            ],
            [
             0.6666666666666666,
             "#ed7953"
            ],
            [
             0.7777777777777778,
             "#fb9f3a"
            ],
            [
             0.8888888888888888,
             "#fdca26"
            ],
            [
             1,
             "#f0f921"
            ]
           ],
           "sequentialminus": [
            [
             0,
             "#0d0887"
            ],
            [
             0.1111111111111111,
             "#46039f"
            ],
            [
             0.2222222222222222,
             "#7201a8"
            ],
            [
             0.3333333333333333,
             "#9c179e"
            ],
            [
             0.4444444444444444,
             "#bd3786"
            ],
            [
             0.5555555555555556,
             "#d8576b"
            ],
            [
             0.6666666666666666,
             "#ed7953"
            ],
            [
             0.7777777777777778,
             "#fb9f3a"
            ],
            [
             0.8888888888888888,
             "#fdca26"
            ],
            [
             1,
             "#f0f921"
            ]
           ]
          },
          "colorway": [
           "#636efa",
           "#EF553B",
           "#00cc96",
           "#ab63fa",
           "#FFA15A",
           "#19d3f3",
           "#FF6692",
           "#B6E880",
           "#FF97FF",
           "#FECB52"
          ],
          "font": {
           "color": "#2a3f5f"
          },
          "geo": {
           "bgcolor": "white",
           "lakecolor": "white",
           "landcolor": "#E5ECF6",
           "showlakes": true,
           "showland": true,
           "subunitcolor": "white"
          },
          "hoverlabel": {
           "align": "left"
          },
          "hovermode": "closest",
          "mapbox": {
           "style": "light"
          },
          "paper_bgcolor": "white",
          "plot_bgcolor": "#E5ECF6",
          "polar": {
           "angularaxis": {
            "gridcolor": "white",
            "linecolor": "white",
            "ticks": ""
           },
           "bgcolor": "#E5ECF6",
           "radialaxis": {
            "gridcolor": "white",
            "linecolor": "white",
            "ticks": ""
           }
          },
          "scene": {
           "xaxis": {
            "backgroundcolor": "#E5ECF6",
            "gridcolor": "white",
            "gridwidth": 2,
            "linecolor": "white",
            "showbackground": true,
            "ticks": "",
            "zerolinecolor": "white"
           },
           "yaxis": {
            "backgroundcolor": "#E5ECF6",
            "gridcolor": "white",
            "gridwidth": 2,
            "linecolor": "white",
            "showbackground": true,
            "ticks": "",
            "zerolinecolor": "white"
           },
           "zaxis": {
            "backgroundcolor": "#E5ECF6",
            "gridcolor": "white",
            "gridwidth": 2,
            "linecolor": "white",
            "showbackground": true,
            "ticks": "",
            "zerolinecolor": "white"
           }
          },
          "shapedefaults": {
           "line": {
            "color": "#2a3f5f"
           }
          },
          "ternary": {
           "aaxis": {
            "gridcolor": "white",
            "linecolor": "white",
            "ticks": ""
           },
           "baxis": {
            "gridcolor": "white",
            "linecolor": "white",
            "ticks": ""
           },
           "bgcolor": "#E5ECF6",
           "caxis": {
            "gridcolor": "white",
            "linecolor": "white",
            "ticks": ""
           }
          },
          "title": {
           "x": 0.05
          },
          "xaxis": {
           "automargin": true,
           "gridcolor": "white",
           "linecolor": "white",
           "ticks": "",
           "title": {
            "standoff": 15
           },
           "zerolinecolor": "white",
           "zerolinewidth": 2
          },
          "yaxis": {
           "automargin": true,
           "gridcolor": "white",
           "linecolor": "white",
           "ticks": "",
           "title": {
            "standoff": 15
           },
           "zerolinecolor": "white",
           "zerolinewidth": 2
          }
         }
        },
        "title": {
         "text": "3D Scatter (Plotly)"
        }
       }
      }
     },
     "metadata": {},
     "output_type": "display_data"
    }
   ],
   "source": [
    "import numpy as np\n",
    "from plotly.graph_objs import Scatter3d, Figure\n",
    "\n",
    "np.random.seed(0)\n",
    "x = np.random.randn(100)\n",
    "y = np.random.randn(100)\n",
    "z = np.random.randn(100)\n",
    "\n",
    "trace = Scatter3d(x=x, y=y, z=z, mode='markers')\n",
    "fig = Figure(data=[trace])\n",
    "fig.update_layout(title=\"3D Scatter (Plotly)\")\n",
    "fig.show()"
   ]
  }
 ],
 "metadata": {
  "kernelspec": {
   "display_name": "base",
   "language": "python",
   "name": "python3"
  },
  "language_info": {
   "codemirror_mode": {
    "name": "ipython",
    "version": 3
   },
   "file_extension": ".py",
   "mimetype": "text/x-python",
   "name": "python",
   "nbconvert_exporter": "python",
   "pygments_lexer": "ipython3",
   "version": "3.12.4"
  },
  "title": "Python Data Toolkit – Answers & Code"
 },
 "nbformat": 4,
 "nbformat_minor": 5
}
