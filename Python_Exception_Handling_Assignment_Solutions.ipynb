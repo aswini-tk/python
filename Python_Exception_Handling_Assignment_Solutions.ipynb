{
 "cells": [
  {
   "cell_type": "markdown",
   "id": "8452abd5",
   "metadata": {},
   "source": [
    "## Conceptual Questions"
   ]
  },
  {
   "cell_type": "markdown",
   "id": "2f2ed323",
   "metadata": {},
   "source": [
    "### 1) What is the difference between interpreted and compiled languages?\n",
    "\n",
    "Compiled languages translate the entire source code into machine code using a compiler before execution. This machine code is then run directly by the computer’s processor, which makes compiled programs generally faster and more efficient. Since errors are caught during compilation, they must be fixed before the program can run. Examples of compiled languages include C, C++, and Go, which are often chosen for performance-critical applications.\n",
    "\n",
    "Interpreted languages, on the other hand, are executed line by line by an interpreter at runtime, without a separate compilation step. This makes them easier to debug and more flexible, but typically slower than compiled languages because translation happens during execution. Python, JavaScript, and Ruby are popular interpreted languages, often used for scripting, rapid development, and applications where portability and ease of use matter more than raw performance."
   ]
  },
  {
   "cell_type": "markdown",
   "id": "90ae8be3",
   "metadata": {},
   "source": [
    "### 2) What is exception handling in Python?\n",
    "\n",
    "Exception handling in Python is a way to manage errors that occur while a program is running, so the program doesn’t crash unexpectedly. When something goes wrong (like dividing by zero, accessing a missing list index, or opening a non-existent file), Python raises an exception. By using try, except, else, and finally blocks, you can catch these exceptions and decide how your program should respond — for example, by showing a user-friendly error message, retrying an operation, or logging the error.\n",
    "\n",
    "This mechanism helps write robust and fault-tolerant programs. Instead of stopping execution when an error occurs, you can control the flow and recover gracefully. For example:"
   ]
  },
  {
   "cell_type": "code",
   "execution_count": 3,
   "id": "3e00b955",
   "metadata": {},
   "outputs": [
    {
     "name": "stdout",
     "output_type": "stream",
     "text": [
      "You can’t divide by zero!\n"
     ]
    }
   ],
   "source": [
    "try:\n",
    "    result = 10 / 0\n",
    "except ZeroDivisionError:\n",
    "    print(\"You can’t divide by zero!\")"
   ]
  },
  {
   "cell_type": "markdown",
   "id": "bac94d30",
   "metadata": {},
   "source": [
    "### 3) What is the purpose of the `finally` block in exception handling?\n",
    "\n",
    "The finally block in Python exception handling is used to define code that should run no matter what happens in the try block — whether an exception occurs, is handled, or no exception happens at all. Its main purpose is to ensure that important cleanup actions (like closing a file, releasing a database connection, or freeing up resources) are always executed."
   ]
  },
  {
   "cell_type": "code",
   "execution_count": 4,
   "id": "b1610d7c",
   "metadata": {},
   "outputs": [
    {
     "name": "stdout",
     "output_type": "stream",
     "text": [
      "Closing file...\n"
     ]
    }
   ],
   "source": [
    "try:\n",
    "    f = open(\"numbers.txt\", \"r\")\n",
    "    data = f.read()\n",
    "except FileNotFoundError:\n",
    "    print(\"File not found!\")\n",
    "finally:\n",
    "    print(\"Closing file...\")\n",
    "    f.close()"
   ]
  },
  {
   "cell_type": "markdown",
   "id": "da9cb872",
   "metadata": {},
   "source": [
    "### 4) What is logging in Python?\n",
    "\n",
    "Logging in Python is the process of recording information about a program’s execution so you can monitor, debug, and analyze it. Instead of using simple print() statements, the logging module provides a flexible framework for capturing events, errors, warnings, and informational messages with different levels of importance (DEBUG, INFO, WARNING, ERROR, CRITICAL)."
   ]
  },
  {
   "cell_type": "markdown",
   "id": "0a85b4cc",
   "metadata": {},
   "source": [
    "### 5) What is the significance of the `__del__` method in Python?\n",
    "\n",
    "The __del__ method in Python is a destructor—a special method that is called when an object is about to be destroyed. Its main purpose is to give you a chance to free resources that the object was holding, such as closing files, releasing network connections, or cleaning up temporary data before the object is removed from memory."
   ]
  },
  {
   "cell_type": "markdown",
   "id": "a61133c7",
   "metadata": {},
   "source": [
    "### 6) What is the difference between `import` and `from ... import` in Python?\n",
    "\n",
    "When you use plain import, you bring in the whole module as a namespace.You then access its functions, classes, or variables with the module name as a prefix.\n",
    "from ... import imports specific items directly into your current namespace.You don’t need the module name prefix anymore."
   ]
  },
  {
   "cell_type": "markdown",
   "id": "85158740",
   "metadata": {},
   "source": [
    "### 7) How can you handle multiple exceptions in Python?"
   ]
  },
  {
   "cell_type": "code",
   "execution_count": 5,
   "id": "05557e03",
   "metadata": {},
   "outputs": [
    {
     "name": "stdout",
     "output_type": "stream",
     "text": [
      "Handled: IndexError\n"
     ]
    }
   ],
   "source": [
    "try:\n",
    "    x = [1, 2][5]       \n",
    "    y = int(\"hello\")    \n",
    "except (IndexError, ValueError) as e:\n",
    "    print(\"Handled:\", type(e).__name__)\n"
   ]
  },
  {
   "cell_type": "code",
   "execution_count": 6,
   "id": "bae6ff74",
   "metadata": {},
   "outputs": [
    {
     "name": "stdout",
     "output_type": "stream",
     "text": [
      "Invalid conversion to int\n"
     ]
    }
   ],
   "source": [
    "try:\n",
    "    num = int(\"hello\")   \n",
    "    result = 10 / 0      \n",
    "except ValueError:\n",
    "    print(\"Invalid conversion to int\")\n",
    "except ZeroDivisionError:\n",
    "    print(\"Cannot divide by zero\")"
   ]
  },
  {
   "cell_type": "code",
   "execution_count": 7,
   "id": "23553ae8",
   "metadata": {},
   "outputs": [
    {
     "name": "stdout",
     "output_type": "stream",
     "text": [
      "Caught unexpected error: NameError name 'risky_code' is not defined\n"
     ]
    }
   ],
   "source": [
    "try:\n",
    "    risky_code()\n",
    "except Exception as e:\n",
    "    print(\"Caught unexpected error:\", type(e).__name__, e)\n"
   ]
  },
  {
   "cell_type": "markdown",
   "id": "2612e514",
   "metadata": {},
   "source": [
    "### 8) What is the purpose of the `with` statement when handling files in Python?\n",
    "\n",
    "The with statement in Python is used to simplify resource management — especially when working with files. Its main purpose is to ensure that a file (or any resource) is automatically cleaned up after use, even if an error occurs inside the block.When you open a file using with open(...) as f:, Python takes care of calling f.close() for you once the block finishes, so you don’t have to remember to close it manually. This prevents resource leaks, file locks, or data not being written properly."
   ]
  },
  {
   "cell_type": "code",
   "execution_count": 8,
   "id": "8e1bfc29",
   "metadata": {},
   "outputs": [],
   "source": [
    "# Without 'with'\n",
    "f = open(\"numbers.txt\", \"r\")\n",
    "try:\n",
    "    content = f.read()\n",
    "finally:\n",
    "    f.close()   # must be done manually"
   ]
  },
  {
   "cell_type": "code",
   "execution_count": 9,
   "id": "9c0c2d00",
   "metadata": {},
   "outputs": [],
   "source": [
    "#using 'with'\n",
    "\n",
    "with open(\"numbers.txt\", \"r\", encoding=\"utf-8\") as f:\n",
    "    content = f.read()"
   ]
  },
  {
   "cell_type": "markdown",
   "id": "5db82a0e",
   "metadata": {},
   "source": [
    "### 9) What is the difference between multithreading and multiprocessing?\n",
    "\n",
    "Multithreading allows multiple threads to run within the same process, sharing the same memory space. This makes it lightweight and efficient for tasks that spend a lot of time waiting, such as file operations, database queries, or network communication. In Python, however, multithreading is limited by the Global Interpreter Lock (GIL), which prevents multiple threads from executing Python bytecode at the same time. As a result, multithreading is best suited for I/O-bound tasks rather than CPU-heavy computations.\n",
    "\n",
    "Multiprocessing, on the other hand, uses separate processes, each with its own Python interpreter and memory space. This avoids the GIL issue and allows true parallelism, making it ideal for CPU-bound tasks like mathematical computations, data processing, or image rendering. While it provides better performance for heavy workloads by fully utilizing multiple CPU cores, it also comes with more overhead since processes do not share memory directly and require communication mechanisms such as pipes or queues."
   ]
  },
  {
   "cell_type": "markdown",
   "id": "c2c5fc5c",
   "metadata": {},
   "source": [
    "### 10) What are the advantages of using logging in a program?\n",
    "\n",
    "Logging allows you to capture detailed information about what your program is doing, including errors, warnings, and normal execution flow. This makes it easier to understand issues during development and monitor the program’s behavior in production.\n",
    "With logging, you can categorize messages as DEBUG, INFO, WARNING, ERROR, or CRITICAL. This helps filter out unimportant details and focus only on the relevant events depending on the situation.\n",
    "Unlike print(), logging can run silently in the background, capturing important events without interrupting the user. It can also be easily scaled for large applications where structured error tracking is essential."
   ]
  },
  {
   "cell_type": "markdown",
   "id": "7c4cc687",
   "metadata": {},
   "source": [
    "### 11) What is memory management in Python?\n",
    "\n",
    "Memory management in Python refers to how the interpreter handles the allocation and release of memory during program execution. Python uses a private heap space to store objects and data structures, and this memory is managed automatically by the Python memory manager. Developers don’t need to manually allocate or free memory like in languages such as C or C++; instead, Python handles it in the background, making development simpler and less error-prone."
   ]
  },
  {
   "cell_type": "markdown",
   "id": "476601af",
   "metadata": {},
   "source": [
    "### 12) What are the basic steps involved in exception handling in Python?\n",
    "\n",
    "1. Wrap risky code in `try`.  \n",
    "2. Catch expected errors with `except`.  \n",
    "3. (Optional) Run success-only code in `else`.  \n",
    "4. (Always) Clean up in `finally`."
   ]
  },
  {
   "cell_type": "markdown",
   "id": "3b946ab4",
   "metadata": {},
   "source": [
    "### 13) Why is memory management important in Python?\n",
    "\n",
    "Prevents leaks, avoids excessive memory usage, improves performance/stability, and ensures resources like files/sockets are released promptly."
   ]
  },
  {
   "cell_type": "markdown",
   "id": "c90d2edc",
   "metadata": {},
   "source": [
    "### 14) What is the role of `try` and `except` in exception handling?\n",
    "\n",
    "`try` encloses code that may fail; `except` **catches** and **handles** exceptions, keeping the program from crashing and allowing recovery or fallback logic."
   ]
  },
  {
   "cell_type": "markdown",
   "id": "8bc9df75",
   "metadata": {},
   "source": [
    "### 15) How does Python's garbage collection system work?\n",
    "\n",
    "A key part of Python’s memory management is its garbage collector, which reclaims memory from objects that are no longer in use. Python primarily uses reference counting to track how many variables point to an object, and when the count drops to zero, the memory is released. For cases like circular references, Python’s garbage collector can detect and clean them up. Additionally, features like dynamic typing and automatic memory allocation make Python flexible, though they can sometimes lead to higher memory usage compared to lower-level languages."
   ]
  },
  {
   "cell_type": "markdown",
   "id": "8b96e631",
   "metadata": {},
   "source": [
    "### 16) What is the purpose of the `else` block in exception handling?\n",
    "\n",
    "`else` runs **only if no exception** occurred in `try`. Put success-path code there to keep `try` minimal and make intent clearer."
   ]
  },
  {
   "cell_type": "markdown",
   "id": "4e9ff9b7",
   "metadata": {},
   "source": [
    "### 17) What are the common logging levels in Python?\n",
    "\n",
    "\n",
    " `DEBUG < INFO < WARNING < ERROR < CRITICAL`."
   ]
  },
  {
   "cell_type": "markdown",
   "id": "2ac63c12",
   "metadata": {},
   "source": [
    "### 18) What is the difference between `os.fork()` and `multiprocessing` in Python?\n",
    " \n",
    "- `os.fork()` directly creates a new child process by duplicating the current process (only available on Unix-like systems such as Linux and macOS).After a fork(), you have two processes: the parent and the child, each with its own copy of the memory space. The child process starts execution from the point of the fork.\n",
    "- `multiprocessing` is a higher-level module that creates new processes in a platform-independent way. Each process runs its own Python interpreter with separate memory. The module provides built-in tools for inter-process communication (queues, pipes), synchronization, and pooling."
   ]
  },
  {
   "cell_type": "markdown",
   "id": "475a411d",
   "metadata": {},
   "source": [
    "### 19) What is the importance of closing a file in Python?\n",
    "\n",
    " Frees OS resources, flushes buffers so data is safely written, avoids file descriptor leaks and file contention. `with` handles this automatically."
   ]
  },
  {
   "cell_type": "markdown",
   "id": "9db7c24d",
   "metadata": {},
   "source": [
    "### 20) What is the difference between `file.read()` and `file.readline()` in Python?\n",
    "\n",
    "- `read()` returns the entire file.  \n",
    "- `readline()` returns the next line (ending with `\\n` unless last line)."
   ]
  },
  {
   "cell_type": "markdown",
   "id": "7337adbe",
   "metadata": {},
   "source": [
    "### 21) What is the logging module in Python used for?\n",
    "\n",
    "The logging module in Python is used for recording (logging) messages from your program. It helps you track events that happen while your code runs, making it easier to debug, monitor, and maintain your applications."
   ]
  },
  {
   "cell_type": "markdown",
   "id": "769837aa",
   "metadata": {},
   "source": [
    "### 22) What is the `os` module in Python used for in file handling?\n",
    "\n",
    "Interacting with the operating system: path ops via `os`/`os.path`, permissions, environment, directory traversal (`os.listdir`), existence checks, etc."
   ]
  },
  {
   "cell_type": "markdown",
   "id": "e4833a8a",
   "metadata": {},
   "source": [
    "### 23) What are the challenges associated with memory management in Python?\n",
    "\n",
    "Hidden object allocation, fragmentation, overhead of many small objects, GIL interactions, handling cycles, and memory held by long-lived caches or global references."
   ]
  },
  {
   "cell_type": "markdown",
   "id": "22a40b99",
   "metadata": {},
   "source": [
    "### 24) How do you raise an exception manually in Python?"
   ]
  },
  {
   "cell_type": "code",
   "execution_count": 10,
   "id": "a0252ca5",
   "metadata": {},
   "outputs": [],
   "source": [
    "def withdraw(balance, amt):\n",
    "    if amt > balance:\n",
    "        raise ValueError(\"Insufficient funds\")"
   ]
  },
  {
   "cell_type": "markdown",
   "id": "8ff8d47d",
   "metadata": {},
   "source": [
    "### 25) Why is it important to use multithreading in certain applications?\n",
    "\n",
    "Multithreading is important because it keeps programs responsive, makes better use of resources, and allows handling of many tasks concurrently, especially in I/O-heavy applications."
   ]
  },
  {
   "cell_type": "markdown",
   "id": "0ddf8e13",
   "metadata": {},
   "source": [
    "## Practical Questions\n"
   ]
  },
  {
   "cell_type": "markdown",
   "id": "6ecb3ddc",
   "metadata": {},
   "source": [
    "### 1) How can you open a file for writing in Python and write a string to it?"
   ]
  },
  {
   "cell_type": "code",
   "execution_count": 11,
   "id": "c60d76a3",
   "metadata": {},
   "outputs": [
    {
     "name": "stdout",
     "output_type": "stream",
     "text": [
      "Wrote to: C:\\Users\\atkco\\Documents\\PW\\demo_write.txt | Exists: True\n"
     ]
    }
   ],
   "source": [
    "from pathlib import Path\n",
    "p = Path(r'C:\\Users\\atkco\\Documents\\PW\\demo_write.txt')\n",
    "with p.open('w', encoding='utf-8') as f:\n",
    "    f.write('Hello, file!\\nThis is a test.')\n",
    "print('Wrote to:', p, '| Exists:', p.exists())"
   ]
  },
  {
   "cell_type": "markdown",
   "id": "cadcbd94",
   "metadata": {},
   "source": [
    "### 2)  Write a Python program to read the contents of a file and print each line"
   ]
  },
  {
   "cell_type": "code",
   "execution_count": 12,
   "id": "d6781682",
   "metadata": {},
   "outputs": [
    {
     "name": "stdout",
     "output_type": "stream",
     "text": [
      "Hello, file!\n",
      "This is a test.\n"
     ]
    }
   ],
   "source": [
    "p = Path(r'C:\\Users\\atkco\\Documents\\PW\\demo_write.txt')\n",
    "with p.open('r', encoding='utf-8') as f:\n",
    "    for line in f:\n",
    "        print(line.rstrip('\\n'))"
   ]
  },
  {
   "cell_type": "markdown",
   "id": "dffadea8",
   "metadata": {},
   "source": [
    "### 3) How would you handle a case where the file doesn't exist while trying to open it for reading"
   ]
  },
  {
   "cell_type": "code",
   "execution_count": 13,
   "id": "729c0d40",
   "metadata": {},
   "outputs": [
    {
     "name": "stdout",
     "output_type": "stream",
     "text": [
      "Handled FileNotFoundError: [Errno 2] No such file or directory: 'C:\\\\Users\\\\atkco\\\\Documents\\\\PW/does_not_exist.txt'\n"
     ]
    }
   ],
   "source": [
    "try:\n",
    "    with open(r'C:\\Users\\atkco\\Documents\\PW/does_not_exist.txt', 'r', encoding='utf-8') as f:\n",
    "        print(f.read())\n",
    "except FileNotFoundError as e:\n",
    "    print('Handled FileNotFoundError:', e)"
   ]
  },
  {
   "cell_type": "markdown",
   "id": "e140ba03",
   "metadata": {},
   "source": [
    "### 4) Write a Python script that reads from one file and writes its content to another file"
   ]
  },
  {
   "cell_type": "code",
   "execution_count": 14,
   "id": "5d5a53af",
   "metadata": {},
   "outputs": [
    {
     "name": "stdout",
     "output_type": "stream",
     "text": [
      "Copied from C:\\Users\\atkco\\Documents\\PW\\demo_write.txt to C:\\Users\\atkco\\Documents\\PW\\demo1_write.txt\n"
     ]
    }
   ],
   "source": [
    "src = Path(r'C:\\Users\\atkco\\Documents\\PW\\demo_write.txt')\n",
    "dst = Path(r'C:\\Users\\atkco\\Documents\\PW\\demo1_write.txt')\n",
    "src.write_text('Copy me!\\nAnother line.', encoding='utf-8')\n",
    "\n",
    "with src.open('r', encoding='utf-8') as s, dst.open('w', encoding='utf-8') as d:\n",
    "    for chunk in s:\n",
    "        d.write(chunk)\n",
    "\n",
    "print('Copied from', src, 'to', dst)"
   ]
  },
  {
   "cell_type": "markdown",
   "id": "3aca9552",
   "metadata": {},
   "source": [
    "### 5) How would you catch and handle division by zero error in Python"
   ]
  },
  {
   "cell_type": "code",
   "execution_count": 15,
   "id": "01d6c303",
   "metadata": {},
   "outputs": [
    {
     "name": "stdout",
     "output_type": "stream",
     "text": [
      "Cannot divide by zero\n"
     ]
    }
   ],
   "source": [
    "def safe_div(a, b):\n",
    "    try:\n",
    "        return a / b\n",
    "    except ZeroDivisionError:\n",
    "        return 'Cannot divide by zero'\n",
    "print(safe_div(10, 0))"
   ]
  },
  {
   "cell_type": "markdown",
   "id": "bfdbadf0",
   "metadata": {},
   "source": [
    "### 6) Write a Python program that logs an error message to a log file when a division by zero exception occurs"
   ]
  },
  {
   "cell_type": "code",
   "execution_count": 16,
   "id": "c681555d",
   "metadata": {},
   "outputs": [
    {
     "name": "stdout",
     "output_type": "stream",
     "text": [
      "Result: None | Log at: C:\\Users\\atkco\\Documents\\PW\\division.log\n"
     ]
    }
   ],
   "source": [
    "import logging, sys\n",
    "from pathlib import Path\n",
    "\n",
    "log_path = Path(r'C:\\Users\\atkco\\Documents\\PW\\division.log')\n",
    "logging.basicConfig(filename=log_path, level=logging.INFO,\n",
    "                    format='%(asctime)s %(levelname)s %(message)s')\n",
    "\n",
    "def divide_and_log(a, b):\n",
    "    try:\n",
    "        return a / b\n",
    "    except ZeroDivisionError:\n",
    "        logging.error('Division by zero attempted: a=%s b=%s', a, b)\n",
    "        return None\n",
    "\n",
    "print('Result:', divide_and_log(3, 0), '| Log at:', log_path)"
   ]
  },
  {
   "cell_type": "markdown",
   "id": "d983d246",
   "metadata": {},
   "source": [
    "### 7) How do you log information at different levels (INFO, ERROR, WARNING) in Python using the logging module"
   ]
  },
  {
   "cell_type": "code",
   "execution_count": 17,
   "id": "fc867164",
   "metadata": {},
   "outputs": [
    {
     "name": "stdout",
     "output_type": "stream",
     "text": [
      "Wrote logs to C:\\Users\\atkco\\Documents\\PW\\multi_level.log\n"
     ]
    }
   ],
   "source": [
    "import logging\n",
    "from pathlib import Path\n",
    "\n",
    "log_path = Path(r'C:\\Users\\atkco\\Documents\\PW\\multi_level.log')\n",
    "logging.basicConfig(filename=log_path, level=logging.DEBUG,\n",
    "                    format='%(asctime)s %(levelname)s %(message)s')\n",
    "\n",
    "logging.info('This is an INFO message')\n",
    "logging.warning('This is a WARNING message')\n",
    "logging.error('This is an ERROR message')\n",
    "\n",
    "print('Wrote logs to', log_path)"
   ]
  },
  {
   "cell_type": "markdown",
   "id": "5bb29382",
   "metadata": {},
   "source": [
    "### 8) Write a program to handle a file opening error using exception handling"
   ]
  },
  {
   "cell_type": "code",
   "execution_count": 18,
   "id": "e1618bbe",
   "metadata": {},
   "outputs": [
    {
     "name": "stdout",
     "output_type": "stream",
     "text": [
      "Could not open file: [Errno 2] No such file or directory: 'C:\\\\Users\\\\atkco\\\\Documents\\\\PW\\\\never.txt'\n"
     ]
    }
   ],
   "source": [
    "try:\n",
    "    with open(r'C:\\Users\\atkco\\Documents\\PW\\never.txt', 'r') as f:\n",
    "        pass\n",
    "except FileNotFoundError as e:\n",
    "    print('Could not open file:', e)"
   ]
  },
  {
   "cell_type": "markdown",
   "id": "2d8e52d5",
   "metadata": {},
   "source": [
    "### 9) How can you read a file line by line and store its content in a list in Python"
   ]
  },
  {
   "cell_type": "code",
   "execution_count": 19,
   "id": "28efbeec",
   "metadata": {},
   "outputs": [
    {
     "name": "stdout",
     "output_type": "stream",
     "text": [
      "['Copy me!', 'Another line.']\n"
     ]
    }
   ],
   "source": [
    "p = Path(r'C:\\Users\\atkco\\Documents\\PW\\demo_write.txt')\n",
    "lines = []\n",
    "with p.open('r', encoding='utf-8') as f:\n",
    "    for line in f:\n",
    "        lines.append(line.rstrip('\\n'))\n",
    "print(lines)"
   ]
  },
  {
   "cell_type": "markdown",
   "id": "52cef408",
   "metadata": {},
   "source": [
    "### 10) How can you append data to an existing file in Python"
   ]
  },
  {
   "cell_type": "code",
   "execution_count": 20,
   "id": "8eb50dca",
   "metadata": {},
   "outputs": [
    {
     "name": "stdout",
     "output_type": "stream",
     "text": [
      "Copy me!\n",
      "Another line.Appended line\n",
      "\n"
     ]
    }
   ],
   "source": [
    "p = Path(r'C:\\Users\\atkco\\Documents\\PW\\demo_write.txt')\n",
    "with p.open('a', encoding='utf-8') as f:\n",
    "    f.write('Appended line\\n')\n",
    "print(p.read_text(encoding='utf-8'))"
   ]
  },
  {
   "cell_type": "markdown",
   "id": "a2f74af1",
   "metadata": {},
   "source": [
    "### 11) Write a Python program that uses a try-except block to handle an error when attempting to access a dictionary key that doesn't exist"
   ]
  },
  {
   "cell_type": "code",
   "execution_count": 21,
   "id": "810edb34",
   "metadata": {},
   "outputs": [
    {
     "name": "stdout",
     "output_type": "stream",
     "text": [
      "Key not found: age\n"
     ]
    }
   ],
   "source": [
    "d = {'name': 'Ada'}\n",
    "try:\n",
    "    print(d['age'])\n",
    "except KeyError:\n",
    "    print('Key not found: age')"
   ]
  },
  {
   "cell_type": "markdown",
   "id": "bb39f7b2",
   "metadata": {},
   "source": [
    "### 12) Write a program that demonstrates using multiple except blocks to handle different types of exceptions"
   ]
  },
  {
   "cell_type": "code",
   "execution_count": 22,
   "id": "23046323",
   "metadata": {},
   "outputs": [],
   "source": [
    "def demo(value):\n",
    "    try:\n",
    "        x = int(value)       \n",
    "        return 10 / x       \n",
    "    except ValueError:\n",
    "        return 'Not a number'\n",
    "    except ZeroDivisionError:\n",
    "        return 'Division by zero'\n"
   ]
  },
  {
   "cell_type": "code",
   "execution_count": 23,
   "id": "e8667f05",
   "metadata": {},
   "outputs": [
    {
     "name": "stdout",
     "output_type": "stream",
     "text": [
      "Not a number\n"
     ]
    }
   ],
   "source": [
    "print(demo('abc'))"
   ]
  },
  {
   "cell_type": "code",
   "execution_count": 24,
   "id": "ca95045d",
   "metadata": {},
   "outputs": [
    {
     "name": "stdout",
     "output_type": "stream",
     "text": [
      "Division by zero\n"
     ]
    }
   ],
   "source": [
    "print(demo('0'))"
   ]
  },
  {
   "cell_type": "code",
   "execution_count": 25,
   "id": "bc0c4d7a",
   "metadata": {},
   "outputs": [
    {
     "name": "stdout",
     "output_type": "stream",
     "text": [
      "2.0\n"
     ]
    }
   ],
   "source": [
    "print(demo('5'))"
   ]
  },
  {
   "cell_type": "markdown",
   "id": "67bd2323",
   "metadata": {},
   "source": [
    "### 13) How would you check if a file exists before attempting to read it in Python"
   ]
  },
  {
   "cell_type": "code",
   "execution_count": 26,
   "id": "7efa17dc",
   "metadata": {},
   "outputs": [
    {
     "name": "stdout",
     "output_type": "stream",
     "text": [
      "File contents: exists!\n"
     ]
    }
   ],
   "source": [
    "p = Path(r'C:\\Users\\atkco\\Documents\\PW\\demo_write.txt')\n",
    "# Create it for demo\n",
    "p.write_text('exists!', encoding='utf-8')\n",
    "if p.exists():\n",
    "    print('File contents:', p.read_text(encoding='utf-8'))\n",
    "else:\n",
    "    print('File does not exist')"
   ]
  },
  {
   "cell_type": "markdown",
   "id": "ff9d1e20",
   "metadata": {},
   "source": [
    "### 14) Write a program that uses the logging module to log both informational and error messages"
   ]
  },
  {
   "cell_type": "code",
   "execution_count": 27,
   "id": "60f8f0df",
   "metadata": {},
   "outputs": [
    {
     "name": "stdout",
     "output_type": "stream",
     "text": [
      "See C:\\Users\\atkco\\Documents\\PW\\info_error.log\n"
     ]
    }
   ],
   "source": [
    "import logging\n",
    "from pathlib import Path\n",
    "log_path = Path(r'C:\\Users\\atkco\\Documents\\PW\\info_error.log') \n",
    "logging.basicConfig(filename=log_path, level=logging.INFO,\n",
    "                    format='%(asctime)s %(levelname)s %(message)s')\n",
    "logging.info('Job started')\n",
    "try:\n",
    "    1/0\n",
    "except ZeroDivisionError:\n",
    "    logging.error('Failure: division by zero', exc_info=True)\n",
    "logging.info('Job finished (with errors)')\n",
    "print('See', log_path)"
   ]
  },
  {
   "cell_type": "markdown",
   "id": "92ee7efc",
   "metadata": {},
   "source": [
    "### 15) Write a Python program that prints the content of a file and handles the case when the file is empty"
   ]
  },
  {
   "cell_type": "code",
   "execution_count": 28,
   "id": "56f8de6f",
   "metadata": {},
   "outputs": [
    {
     "name": "stdout",
     "output_type": "stream",
     "text": [
      "exists!\n"
     ]
    }
   ],
   "source": [
    "p = Path(r'C:\\Users\\atkco\\Documents\\PW\\demo_write.txt')\n",
    "data = p.read_text(encoding='utf-8')\n",
    "if not data:\n",
    "    print('File is empty')\n",
    "else:\n",
    "    print(data)"
   ]
  },
  {
   "cell_type": "markdown",
   "id": "2129030e",
   "metadata": {},
   "source": [
    "### 16) Demonstrate how to use memory profiling to check the memory usage of a small program"
   ]
  },
  {
   "cell_type": "code",
   "execution_count": 29,
   "id": "b1f71a87",
   "metadata": {},
   "outputs": [
    {
     "name": "stdout",
     "output_type": "stream",
     "text": [
      "Current: 8017525 bytes | Peak: 8035706 bytes\n"
     ]
    }
   ],
   "source": [
    "import tracemalloc\n",
    "\n",
    "def build_list(n=100000):\n",
    "    return [i for i in range(n)]\n",
    "\n",
    "tracemalloc.start()\n",
    "lst = build_list(200000)\n",
    "current, peak = tracemalloc.get_traced_memory()\n",
    "print('Current:', current, 'bytes | Peak:', peak, 'bytes')\n",
    "tracemalloc.stop()"
   ]
  },
  {
   "cell_type": "markdown",
   "id": "b3c3e2f5",
   "metadata": {},
   "source": [
    "### 17) Write a Python program to create and write a list of numbers to a file, one number per line."
   ]
  },
  {
   "cell_type": "code",
   "execution_count": 30,
   "id": "d55d6605",
   "metadata": {},
   "outputs": [
    {
     "name": "stdout",
     "output_type": "stream",
     "text": [
      "Wrote: C:\\Users\\atkco\\Documents\\PW\\numbers.txt\n"
     ]
    }
   ],
   "source": [
    "nums = list(range(1, 11))\n",
    "p = Path(r'C:\\Users\\atkco\\Documents\\PW\\numbers.txt')\n",
    "with p.open('w', encoding='utf-8') as f:\n",
    "    for n in nums:\n",
    "        f.write(f'{n}\\n')\n",
    "print('Wrote:', p)"
   ]
  },
  {
   "cell_type": "code",
   "execution_count": 31,
   "id": "9377427e",
   "metadata": {},
   "outputs": [
    {
     "name": "stdout",
     "output_type": "stream",
     "text": [
      "1\n",
      "2\n",
      "3\n",
      "4\n",
      "5\n",
      "6\n",
      "7\n",
      "8\n",
      "9\n",
      "10\n",
      "\n"
     ]
    }
   ],
   "source": [
    "with open(\"numbers.txt\", \"r\", encoding=\"utf-8\") as f:\n",
    "    content = f.read()\n",
    "\n",
    "print(content)"
   ]
  },
  {
   "cell_type": "markdown",
   "id": "1dd0ca50",
   "metadata": {},
   "source": [
    "### 18) How would you implement a basic logging setup that logs to a file with rotation after 1MB?"
   ]
  },
  {
   "cell_type": "code",
   "execution_count": 32,
   "id": "e6081d4b",
   "metadata": {},
   "outputs": [
    {
     "name": "stdout",
     "output_type": "stream",
     "text": [
      "Logging with rotation to C:\\Users\\atkco\\Documents\\PW\\rotating.log\n"
     ]
    }
   ],
   "source": [
    "import logging\n",
    "from logging.handlers import RotatingFileHandler\n",
    "from pathlib import Path\n",
    "\n",
    "log_path = Path(r\"C:\\Users\\atkco\\Documents\\PW\\rotating.log\")\n",
    "log_path.parent.mkdir(parents=True, exist_ok=True)\n",
    "\n",
    "handler = RotatingFileHandler(\n",
    "    log_path,\n",
    "    maxBytes=100_000,         # smaller for demo; use 1_000_000 in real use\n",
    "    backupCount=3,\n",
    "    encoding=\"utf-8\"\n",
    ")\n",
    "formatter = logging.Formatter(\"%(asctime)s %(levelname)s %(message)s\")\n",
    "handler.setFormatter(formatter)\n",
    "\n",
    "logger = logging.getLogger(\"rotate_demo\")\n",
    "logger.setLevel(logging.INFO)\n",
    "logger.propagate = False\n",
    "\n",
    "if not logger.handlers:\n",
    "    logger.addHandler(handler)\n",
    "\n",
    "# Generate enough data to trigger rotation\n",
    "for i in range(20_000):\n",
    "    logger.info(\"Event %d - %s\", i, \"x\"*50)\n",
    "\n",
    "print(\"Logging with rotation to\", log_path)\n"
   ]
  },
  {
   "cell_type": "markdown",
   "id": "438fb335",
   "metadata": {},
   "source": [
    "### 19) Write a program that handles both IndexError and KeyError using a try-except block"
   ]
  },
  {
   "cell_type": "code",
   "execution_count": 33,
   "id": "d1bfd6a8",
   "metadata": {},
   "outputs": [],
   "source": [
    "def safe_access(func, *args, **kwargs):\n",
    "    try:\n",
    "        return func(*args, **kwargs)\n",
    "    except (IndexError, KeyError) as e:\n",
    "        print(\"Handled:\", type(e).__name__)\n",
    "        return None"
   ]
  },
  {
   "cell_type": "code",
   "execution_count": 34,
   "id": "e808c828",
   "metadata": {},
   "outputs": [
    {
     "name": "stdout",
     "output_type": "stream",
     "text": [
      "Handled: IndexError\n",
      "Result (list index): None\n"
     ]
    }
   ],
   "source": [
    "\n",
    "data_list = [10, 20]\n",
    "print(\"Result (list index):\", safe_access(lambda: data_list[5]))"
   ]
  },
  {
   "cell_type": "code",
   "execution_count": 35,
   "id": "a70e8600",
   "metadata": {},
   "outputs": [
    {
     "name": "stdout",
     "output_type": "stream",
     "text": [
      "Handled: KeyError\n",
      "Result (dict key): None\n"
     ]
    }
   ],
   "source": [
    "data_dict = {\"a\": 1}\n",
    "print(\"Result (dict key):\", safe_access(lambda: data_dict[\"b\"]))"
   ]
  },
  {
   "cell_type": "markdown",
   "id": "7d11e025",
   "metadata": {},
   "source": [
    "### 20) How would you open a file and read its contents using a context manager in Python"
   ]
  },
  {
   "cell_type": "code",
   "execution_count": 36,
   "id": "70351ff6",
   "metadata": {},
   "outputs": [
    {
     "name": "stdout",
     "output_type": "stream",
     "text": [
      "context manager demo\n"
     ]
    }
   ],
   "source": [
    "p = Path(\"ctx_read.txt\")\n",
    "p.write_text('context manager demo', encoding='utf-8')\n",
    "with p.open('r', encoding='utf-8') as f:\n",
    "    print(f.read())"
   ]
  },
  {
   "cell_type": "markdown",
   "id": "1786d4bf",
   "metadata": {},
   "source": [
    "### 21) Write a Python program that reads a file and prints the number of occurrences of a specific word"
   ]
  },
  {
   "cell_type": "code",
   "execution_count": 37,
   "id": "1ef053ff",
   "metadata": {},
   "outputs": [
    {
     "name": "stdout",
     "output_type": "stream",
     "text": [
      "Occurrences of 'cat': 3\n"
     ]
    }
   ],
   "source": [
    "p = Path(\"word_count.txt\")\n",
    "p.write_text('cat dog cat bird cat', encoding='utf-8')\n",
    "\n",
    "word = 'cat'\n",
    "count = 0\n",
    "with p.open('r', encoding='utf-8') as f:\n",
    "    for token in f.read().split():\n",
    "        if token == word:\n",
    "            count += 1\n",
    "print(f\"Occurrences of '{word}':\", count)"
   ]
  },
  {
   "cell_type": "markdown",
   "id": "387a5e88",
   "metadata": {},
   "source": [
    "### 22) How can you check if a file is empty before attempting to read its contents?"
   ]
  },
  {
   "cell_type": "code",
   "execution_count": 38,
   "id": "2bad65ba",
   "metadata": {},
   "outputs": [
    {
     "name": "stdout",
     "output_type": "stream",
     "text": [
      "Size: 9 bytes; reading:\n",
      "not empty\n"
     ]
    }
   ],
   "source": [
    "p = Path(\"check_empty.txt\")\n",
    "p.write_text('not empty', encoding='utf-8')\n",
    "if p.stat().st_size == 0:\n",
    "    print('File is empty')\n",
    "else:\n",
    "    print('Size:', p.stat().st_size, 'bytes; reading:')\n",
    "    print(p.read_text(encoding='utf-8'))"
   ]
  },
  {
   "cell_type": "markdown",
   "id": "20b56e7c",
   "metadata": {},
   "source": [
    "### 23)  Write a Python program that writes to a log file when an error occurs during file handling."
   ]
  },
  {
   "cell_type": "code",
   "execution_count": 39,
   "id": "4131963e",
   "metadata": {},
   "outputs": [
    {
     "name": "stdout",
     "output_type": "stream",
     "text": [
      "Logged the error to file_errors.log\n"
     ]
    }
   ],
   "source": [
    "import logging\n",
    "from pathlib import Path\n",
    "\n",
    "log_path = Path(\"file_errors.log\")\n",
    "logging.basicConfig(filename=log_path, level=logging.INFO,\n",
    "                    format='%(asctime)s %(levelname)s %(message)s')\n",
    "\n",
    "try:\n",
    "    with open('/mnt/data/missing_folder/data.txt', 'r') as f:\n",
    "        print(f.read())\n",
    "except Exception as e:\n",
    "    logging.error('File handling error: %s', e)\n",
    "    print('Logged the error to', log_path)"
   ]
  }
 ],
 "metadata": {
  "kernelspec": {
   "display_name": "base",
   "language": "python",
   "name": "python3"
  },
  "language_info": {
   "codemirror_mode": {
    "name": "ipython",
    "version": 3
   },
   "file_extension": ".py",
   "mimetype": "text/x-python",
   "name": "python",
   "nbconvert_exporter": "python",
   "pygments_lexer": "ipython3",
   "version": "3.12.4"
  }
 },
 "nbformat": 4,
 "nbformat_minor": 5
}
