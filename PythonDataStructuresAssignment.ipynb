{
 "cells": [
  {
   "cell_type": "markdown",
   "id": "89270335",
   "metadata": {},
   "source": [
    "## Data Types and Strucutres Questions"
   ]
  },
  {
   "cell_type": "markdown",
   "id": "ad8d962e",
   "metadata": {},
   "source": [
    "### 1. What are data structures, and why are they important?"
   ]
  },
  {
   "cell_type": "markdown",
   "id": "25cf4860",
   "metadata": {},
   "source": [
    "In programming, Data structures are organized ways of storing, managing, and organizing data in a computer so that it can be used efficiently. They define the relationship between the data and the operations that can be performed on it. Common data structures include lists, tuples, dictionaries, sets, stacks, queues, trees, and graphs. Using the right data structure ensures that the solution is not only correct but also optimized in terms of time and memory."
   ]
  },
  {
   "cell_type": "markdown",
   "id": "38c3cf15",
   "metadata": {},
   "source": [
    "### 2. Explain the difference between mutable and immutable data types with examples."
   ]
  },
  {
   "cell_type": "markdown",
   "id": "a1718af9",
   "metadata": {},
   "source": [
    "In Python, mutable data types are those that can be changed after they are created. This means their content can be modified, added, or removed. In contrast, immutable data types cannot be changed once they are created , immutable types require the creation of a new object for any change."
   ]
  },
  {
   "cell_type": "markdown",
   "id": "eda28e17",
   "metadata": {},
   "source": [
    "### 3. What are the main differences between lists and tuples in Python?"
   ]
  },
  {
   "cell_type": "markdown",
   "id": "2678e269",
   "metadata": {},
   "source": [
    "Lists are mutable, their elements can be changed, added, or removed after creation. They are defined using square brackets [ ] and has methods like append() and remove(). Tuples are immutable and cannot be modified once created. They are defined using parentheses ( ) and support fewer methods. Due to their immutability, tuples are faster and more memory-efficient compared to lists. Additionally, tuples can be used as keys in dictionaries if all their elements are hashable, while lists cannot."
   ]
  },
  {
   "cell_type": "markdown",
   "id": "2864e55c",
   "metadata": {},
   "source": [
    "### 4. Describe how dictionaries store data."
   ]
  },
  {
   "cell_type": "markdown",
   "id": "a8931fbc",
   "metadata": {},
   "source": [
    " A dictionary is a built-in data structure that stores data in the form of key-value pairs. Each key is unique and is used to access its corresponding value. Dictionaries are enclosed in curly braces {} and use a colon : to separate keys and values. When a key is added to the dictionary, Python calculates a hash value for that key using a hash function. This hash value determines where the value will be stored in memory. "
   ]
  },
  {
   "cell_type": "markdown",
   "id": "23c39ced",
   "metadata": {},
   "source": [
    "### 5. Why might you use a set instead of a list in Python?"
   ]
  },
  {
   "cell_type": "markdown",
   "id": "8c49bbdc",
   "metadata": {},
   "source": [
    "You might use a set instead of a list in Python when you need to store unique items and don't care about the order of elements. A set automatically removes duplicate values, which is useful when you want to eliminate repetition from your data. Also to perform set operations like union, intersection, and difference efficiently\n",
    "\n"
   ]
  },
  {
   "cell_type": "markdown",
   "id": "93a60ff8",
   "metadata": {},
   "source": [
    "### 6. What is a string in Python, and how is it different from a list?"
   ]
  },
  {
   "cell_type": "markdown",
   "id": "e46301eb",
   "metadata": {},
   "source": [
    "A string is a sequence of characters used to represent text. It is written inside single quotes ' ' or double quotes \" \". A list, on the other hand, is a collection of items that can include numbers, strings, or other data types. Lists are written inside square brackets."
   ]
  },
  {
   "cell_type": "markdown",
   "id": "4129aca9",
   "metadata": {},
   "source": [
    "### 7. How do tuples ensure data integrity in Python?"
   ]
  },
  {
   "cell_type": "markdown",
   "id": "62e1f835",
   "metadata": {},
   "source": [
    "Tuples ensure data integrity in Python by being immutable, which means their values cannot be changed after they are created. Once a tuple is defined, you cannot add, remove, or modify its elements. This prevents accidental changes in the data and makes it safer to use when the information must remain constant."
   ]
  },
  {
   "cell_type": "markdown",
   "id": "f390df61",
   "metadata": {},
   "source": [
    "### 8 .What is a hash table, and how does it relate to dictionaries in Python?"
   ]
  },
  {
   "cell_type": "markdown",
   "id": "f3d55550",
   "metadata": {},
   "source": [
    "A hash table is a data structure that stores data in key-value pairs and allows for fast access to values using their keys. It works by using a hash function to convert a key into a unique index in memory, where the corresponding value is stored. In Python, the dictionary is implemented using a hash table. When you create a dictionary and store values with keys, Python internally uses a hash table to manage and retrieve those values quickly."
   ]
  },
  {
   "cell_type": "markdown",
   "id": "16ceaad2",
   "metadata": {},
   "source": [
    "### 9. Can lists contain different data types in Python?"
   ]
  },
  {
   "cell_type": "markdown",
   "id": "6d9cbfc3",
   "metadata": {},
   "source": [
    "Python lists are very flexible and can store a mix of data types in a single list. This means a list can include integers, strings, floats, booleans, even other lists or objects — all in one."
   ]
  },
  {
   "cell_type": "code",
   "execution_count": 31,
   "id": "b3ddd059",
   "metadata": {},
   "outputs": [
    {
     "data": {
      "text/plain": [
       "[10, 'hello', 3.14, True, [1, 2, 3]]"
      ]
     },
     "execution_count": 31,
     "metadata": {},
     "output_type": "execute_result"
    }
   ],
   "source": [
    "my_list = [10, \"hello\", 3.14, True, [1, 2, 3]]\n",
    "my_list"
   ]
  },
  {
   "cell_type": "markdown",
   "id": "c3706b55",
   "metadata": {},
   "source": [
    "### 10 .Explain why strings are immutable in Python."
   ]
  },
  {
   "cell_type": "markdown",
   "id": "13149a56",
   "metadata": {},
   "source": [
    "In Python, strings are immutable, which means once a string is created, its characters cannot be changed, added, or removed. In Python, if you try to change a character in a string directly, it will throw an error because strings cannot be modified after creation."
   ]
  },
  {
   "cell_type": "markdown",
   "id": "2a5f4009",
   "metadata": {},
   "source": [
    "### 11. What advantages do dictionaries offer over lists for certain tasks?"
   ]
  },
  {
   "cell_type": "markdown",
   "id": "30a89b39",
   "metadata": {},
   "source": [
    "Dictionaries allow you to access data quickly using keys, while lists require indexing by position, which is slower for searching. Unlike lists that store data by position, dictionaries store data as key-value pairs, making the code more readable and organized.For large amounts of data, dictionaries are more efficient when you frequently need to search, update, or check if a key exists."
   ]
  },
  {
   "cell_type": "markdown",
   "id": "1d177b68",
   "metadata": {},
   "source": [
    "### 12. Describe a scenario where using a tuple would be preferable over a list."
   ]
  },
  {
   "cell_type": "markdown",
   "id": "aa3b67d4",
   "metadata": {},
   "source": [
    "A tuple is preferable over a list when you want to store a fixed set of values that should not change throughout the program. Since tuples are immutable, they help ensure data integrity and protect the data from accidental modification."
   ]
  },
  {
   "cell_type": "markdown",
   "id": "9c2fed58",
   "metadata": {},
   "source": [
    "### 13. How do sets handle duplicate values in Python?"
   ]
  },
  {
   "cell_type": "markdown",
   "id": "afeef56d",
   "metadata": {},
   "source": [
    "In Python, sets automatically remove duplicate values. A set is a collection of unordered, unindexed, and unique elements. When you create a set, Python checks for duplicates and keeps only one copy of each unique value. Perform set operations like union or intersection."
   ]
  },
  {
   "cell_type": "markdown",
   "id": "3fec4292",
   "metadata": {},
   "source": [
    "### 14. How does the “in” keyword work differently for lists and dictionaries?"
   ]
  },
  {
   "cell_type": "markdown",
   "id": "8439ee1d",
   "metadata": {},
   "source": [
    "The in keyword is used in Python to check if a value exists in a list or a dictionary. For List, the in keyword checks if a specific value is present in the list. For dictionary, the in keyword checks if a key is present in the dictionary — not the value."
   ]
  },
  {
   "cell_type": "markdown",
   "id": "0a16cdf3",
   "metadata": {},
   "source": [
    "### 15. Can you modify the elements of a tuple? Explain why or why not."
   ]
  },
  {
   "cell_type": "markdown",
   "id": "ad4dddc4",
   "metadata": {},
   "source": [
    "No, you cannot modify the elements of a tuple in Python because tuples are immutable. This means that once a tuple is created, its elements cannot be changed, added, or removed. Tuples are designed to protect data from accidental changes and ensure that the data remains constant. This makes them useful for storing fixed values, such as dates, coordinates, or configuration settings."
   ]
  },
  {
   "cell_type": "markdown",
   "id": "e8b7fee0",
   "metadata": {},
   "source": [
    "### 16. What is a nested dictionary, and give an example of its use case."
   ]
  },
  {
   "cell_type": "markdown",
   "id": "13aa7662",
   "metadata": {},
   "source": [
    "A nested dictionary in Python is a dictionary inside another dictionary. It allows you to store related data in a structured way, using one key to access another dictionary, which can then hold more key-value pairs. For example, in a student management system, a nested dictionary can be used to store each student's details under their unique ID or name.\n",
    "\n"
   ]
  },
  {
   "cell_type": "markdown",
   "id": "bea5a964",
   "metadata": {},
   "source": [
    "### 17. Describe the time complexity of accessing elements in a dictionary."
   ]
  },
  {
   "cell_type": "markdown",
   "id": "a95be454",
   "metadata": {},
   "source": [
    "In Python, accessing an element in a dictionary using a key has an average time complexity of O(1), which means it takes constant time regardless of the dictionary's size.This fast access is possible because dictionaries are implemented using hash tables. When a key is used, Python computes its hash value to directly find the location of the value in memory."
   ]
  },
  {
   "cell_type": "markdown",
   "id": "0121e46e",
   "metadata": {},
   "source": [
    "### 18. In what situations are lists preferred over dictionaries?"
   ]
  },
  {
   "cell_type": "markdown",
   "id": "0e7d9e1a",
   "metadata": {},
   "source": [
    "Lists maintain the order of elements, making them ideal when the sequence or position of data is important.When you need to access elements using their position lists are a better choice. When you need to loop through elements in the order they were added, lists are more suitable. If you're storing a simple group of values without any associated labels, a list is easier and more natural to use."
   ]
  },
  {
   "cell_type": "markdown",
   "id": "9fa76398",
   "metadata": {},
   "source": [
    "### 19. Why are dictionaries considered unordered, and how does that affect data retrieval?"
   ]
  },
  {
   "cell_type": "markdown",
   "id": "2d05e5ef",
   "metadata": {},
   "source": [
    "Dictionaries were considered unordered because you don't access values by position or index, like you do with lists. You retrieve values using keys, not by their position in the dictionary."
   ]
  },
  {
   "cell_type": "markdown",
   "id": "dee24784",
   "metadata": {},
   "source": [
    "### 20 .Explain the difference between a list and a dictionary in terms of data retrieval."
   ]
  },
  {
   "cell_type": "markdown",
   "id": "028e3352",
   "metadata": {},
   "source": [
    "In List Data is retrieved using index positions,you must know the position of the item you want. In Dictionary Data is retrieved using keys, you access the value directly by its key, not position."
   ]
  },
  {
   "cell_type": "markdown",
   "id": "8562ac20",
   "metadata": {},
   "source": [
    "## Practical Questions"
   ]
  },
  {
   "cell_type": "markdown",
   "id": "5422719c",
   "metadata": {},
   "source": [
    "### 1. Write a code to create a string with your name and print it."
   ]
  },
  {
   "cell_type": "code",
   "execution_count": 1,
   "id": "7e1aef52",
   "metadata": {},
   "outputs": [
    {
     "name": "stdout",
     "output_type": "stream",
     "text": [
      "My name is: Aswini\n"
     ]
    }
   ],
   "source": [
    "my_name = \"Aswini\"\n",
    "print(\"My name is:\", my_name)"
   ]
  },
  {
   "cell_type": "markdown",
   "id": "e8404aa7",
   "metadata": {},
   "source": [
    "### 2. Write a code to find the length of the string \"Hello World\"."
   ]
  },
  {
   "cell_type": "code",
   "execution_count": 2,
   "id": "def30409",
   "metadata": {},
   "outputs": [
    {
     "name": "stdout",
     "output_type": "stream",
     "text": [
      "Length of the string: 11\n"
     ]
    }
   ],
   "source": [
    "text = \"Hello World\"\n",
    "print(\"Length of the string:\", len(text))"
   ]
  },
  {
   "cell_type": "markdown",
   "id": "4fdc41f4",
   "metadata": {},
   "source": [
    "### 3. Write a code to slice the first 3 characters from the string \"Python Programming\"."
   ]
  },
  {
   "cell_type": "code",
   "execution_count": 3,
   "id": "8f1428fd",
   "metadata": {},
   "outputs": [
    {
     "name": "stdout",
     "output_type": "stream",
     "text": [
      "First 3 characters: Pyt\n"
     ]
    }
   ],
   "source": [
    "text = \"Python Programming\"\n",
    "sliced_text = text[:3]\n",
    "print(\"First 3 characters:\", sliced_text)"
   ]
  },
  {
   "cell_type": "markdown",
   "id": "1eaacd8e",
   "metadata": {},
   "source": [
    "### 4. Write a code to convert the string \"hello\" to uppercase."
   ]
  },
  {
   "cell_type": "code",
   "execution_count": 4,
   "id": "21f53dab",
   "metadata": {},
   "outputs": [
    {
     "name": "stdout",
     "output_type": "stream",
     "text": [
      "Uppercase: HELLO\n"
     ]
    }
   ],
   "source": [
    "text = \"hello\"\n",
    "uppercase_text = text.upper()\n",
    "print(\"Uppercase:\", uppercase_text)"
   ]
  },
  {
   "cell_type": "markdown",
   "id": "1900607a",
   "metadata": {},
   "source": [
    "### 5. Write a code to replace the word \"apple\" with \"orange\" in the string \"I like apple\"."
   ]
  },
  {
   "cell_type": "code",
   "execution_count": 5,
   "id": "5aa5699a",
   "metadata": {},
   "outputs": [
    {
     "name": "stdout",
     "output_type": "stream",
     "text": [
      "I like orange\n"
     ]
    }
   ],
   "source": [
    "text = \"I like apple\"\n",
    "new_text = text.replace(\"apple\", \"orange\")\n",
    "\n",
    "print(new_text)"
   ]
  },
  {
   "cell_type": "markdown",
   "id": "01789aac",
   "metadata": {},
   "source": [
    "### 6. Write a code to create a list with numbers 1 to 5 and print it."
   ]
  },
  {
   "cell_type": "code",
   "execution_count": 6,
   "id": "cc4ef98c",
   "metadata": {},
   "outputs": [
    {
     "name": "stdout",
     "output_type": "stream",
     "text": [
      "List of numbers: [1, 2, 3, 4, 5]\n"
     ]
    }
   ],
   "source": [
    "numbers = [1, 2, 3, 4, 5]\n",
    "print(\"List of numbers:\", numbers)"
   ]
  },
  {
   "cell_type": "markdown",
   "id": "e2ca8fae",
   "metadata": {},
   "source": [
    "### 7. Write a code to append the number 10 to the list [1, 2, 3, 4]."
   ]
  },
  {
   "cell_type": "code",
   "execution_count": 7,
   "id": "6a573247",
   "metadata": {},
   "outputs": [
    {
     "name": "stdout",
     "output_type": "stream",
     "text": [
      "Updated list: [1, 2, 3, 4, 10]\n"
     ]
    }
   ],
   "source": [
    "my_list = [1, 2, 3, 4]\n",
    "my_list.append(10)\n",
    "\n",
    "print(\"Updated list:\", my_list)"
   ]
  },
  {
   "cell_type": "markdown",
   "id": "0109ddd2",
   "metadata": {},
   "source": [
    "### 8. Write a code to remove the number 3 from the list [1, 2, 3, 4, 5]."
   ]
  },
  {
   "cell_type": "code",
   "execution_count": 8,
   "id": "6087645e",
   "metadata": {},
   "outputs": [
    {
     "name": "stdout",
     "output_type": "stream",
     "text": [
      "Updated list: [1, 2, 4, 5]\n"
     ]
    }
   ],
   "source": [
    "my_list = [1, 2, 3, 4, 5]\n",
    "my_list.remove(3)\n",
    "print(\"Updated list:\", my_list)"
   ]
  },
  {
   "cell_type": "markdown",
   "id": "e8ba8b69",
   "metadata": {},
   "source": [
    "### 9. Write a code to access the second element in the list ['a', 'b', 'c', 'd']."
   ]
  },
  {
   "cell_type": "code",
   "execution_count": 9,
   "id": "70999636",
   "metadata": {},
   "outputs": [
    {
     "name": "stdout",
     "output_type": "stream",
     "text": [
      "Second element: b\n"
     ]
    }
   ],
   "source": [
    "my_list = ['a', 'b', 'c', 'd']\n",
    "second_element = my_list[1]\n",
    "print(\"Second element:\", second_element)"
   ]
  },
  {
   "cell_type": "markdown",
   "id": "2ece0a04",
   "metadata": {},
   "source": [
    "### 10 .Write a code to reverse the list [10, 20, 30, 40, 50]."
   ]
  },
  {
   "cell_type": "code",
   "execution_count": 10,
   "id": "2d6af87d",
   "metadata": {},
   "outputs": [
    {
     "name": "stdout",
     "output_type": "stream",
     "text": [
      "Reversed list: [50, 40, 30, 20, 10]\n"
     ]
    }
   ],
   "source": [
    "my_list = [10, 20, 30, 40, 50]\n",
    "my_list.reverse()\n",
    "print(\"Reversed list:\", my_list)"
   ]
  },
  {
   "cell_type": "markdown",
   "id": "d56b8e23",
   "metadata": {},
   "source": [
    "### 11. Write a code to create a tuple with the elements 100, 200, 300 and print it."
   ]
  },
  {
   "cell_type": "code",
   "execution_count": 11,
   "id": "8dc8a648",
   "metadata": {},
   "outputs": [
    {
     "name": "stdout",
     "output_type": "stream",
     "text": [
      "Tuple: (100, 200, 300)\n"
     ]
    }
   ],
   "source": [
    "my_tuple = (100, 200, 300)\n",
    "print(\"Tuple:\", my_tuple)"
   ]
  },
  {
   "cell_type": "markdown",
   "id": "2073403c",
   "metadata": {},
   "source": [
    "### 12. Write a code to access the second-to-last element of the tuple ('red', 'green', 'blue', 'yellow')."
   ]
  },
  {
   "cell_type": "code",
   "execution_count": 12,
   "id": "f68d50eb",
   "metadata": {},
   "outputs": [
    {
     "name": "stdout",
     "output_type": "stream",
     "text": [
      "Second-to-last element: blue\n"
     ]
    }
   ],
   "source": [
    "colors = ('red', 'green', 'blue', 'yellow')\n",
    "second_last = colors[-2]\n",
    "print(\"Second-to-last element:\", second_last)"
   ]
  },
  {
   "cell_type": "markdown",
   "id": "c63c013a",
   "metadata": {},
   "source": [
    "### 13. Write a code to find the minimum number in the tuple (10, 20, 5, 15)."
   ]
  },
  {
   "cell_type": "code",
   "execution_count": 13,
   "id": "ea8493b1",
   "metadata": {},
   "outputs": [
    {
     "name": "stdout",
     "output_type": "stream",
     "text": [
      "Minimum number: 5\n"
     ]
    }
   ],
   "source": [
    "numbers = (10, 20, 5, 15)\n",
    "min_number = min(numbers)\n",
    "print(\"Minimum number:\", min_number)"
   ]
  },
  {
   "cell_type": "markdown",
   "id": "a610c767",
   "metadata": {},
   "source": [
    "### 14. Write a code to find the index of the element \"cat\" in the tuple ('dog', 'cat', 'rabbit')."
   ]
  },
  {
   "cell_type": "code",
   "execution_count": 14,
   "id": "2bb4f67c",
   "metadata": {},
   "outputs": [
    {
     "name": "stdout",
     "output_type": "stream",
     "text": [
      "Index of 'cat': 1\n"
     ]
    }
   ],
   "source": [
    "animals = ('dog', 'cat', 'rabbit')\n",
    "index_of_cat = animals.index('cat')\n",
    "print(\"Index of 'cat':\", index_of_cat)"
   ]
  },
  {
   "cell_type": "markdown",
   "id": "f1f48008",
   "metadata": {},
   "source": [
    "### 15. Write a code to create a tuple containing three different fruits and check if \"kiwi\" is in it."
   ]
  },
  {
   "cell_type": "code",
   "execution_count": 15,
   "id": "03146cf2",
   "metadata": {},
   "outputs": [
    {
     "name": "stdout",
     "output_type": "stream",
     "text": [
      "Kiwi is not in the tuple.\n"
     ]
    }
   ],
   "source": [
    "fruits = ('apple', 'banana', 'orange')\n",
    "if 'kiwi' in fruits:\n",
    "    print(\"Kiwi is in the tuple.\")\n",
    "else:\n",
    "    print(\"Kiwi is not in the tuple.\")"
   ]
  },
  {
   "cell_type": "markdown",
   "id": "74d28f51",
   "metadata": {},
   "source": [
    "### 16. Write a code to create a set with the elements 'a', 'b', 'c' and print it."
   ]
  },
  {
   "cell_type": "code",
   "execution_count": 16,
   "id": "86a0f7bd",
   "metadata": {},
   "outputs": [
    {
     "name": "stdout",
     "output_type": "stream",
     "text": [
      "Set: {'a', 'c', 'b'}\n"
     ]
    }
   ],
   "source": [
    "my_set = {'a', 'b', 'c'}\n",
    "print(\"Set:\", my_set)"
   ]
  },
  {
   "cell_type": "markdown",
   "id": "ee049a8e",
   "metadata": {},
   "source": [
    "### 17. Write a code to clear all elements from the set {1, 2, 3, 4, 5}."
   ]
  },
  {
   "cell_type": "code",
   "execution_count": 17,
   "id": "879275f8",
   "metadata": {},
   "outputs": [
    {
     "name": "stdout",
     "output_type": "stream",
     "text": [
      "Cleared set: set()\n"
     ]
    }
   ],
   "source": [
    "my_set = {1, 2, 3, 4, 5}\n",
    "my_set.clear()\n",
    "print(\"Cleared set:\", my_set)"
   ]
  },
  {
   "cell_type": "markdown",
   "id": "1ef819b4",
   "metadata": {},
   "source": [
    "### 18. Write a code to remove the element 4 from the set {1, 2, 3, 4}."
   ]
  },
  {
   "cell_type": "code",
   "execution_count": 18,
   "id": "678b5db4",
   "metadata": {},
   "outputs": [
    {
     "name": "stdout",
     "output_type": "stream",
     "text": [
      "Updated set: {1, 2, 3}\n"
     ]
    }
   ],
   "source": [
    "my_set = {1, 2, 3, 4}\n",
    "my_set.remove(4)\n",
    "print(\"Updated set:\", my_set)"
   ]
  },
  {
   "cell_type": "markdown",
   "id": "62a1e585",
   "metadata": {},
   "source": [
    "### 19. Write a code to find the union of two sets {1, 2, 3} and {3, 4, 5}."
   ]
  },
  {
   "cell_type": "code",
   "execution_count": 19,
   "id": "435efe7f",
   "metadata": {},
   "outputs": [
    {
     "name": "stdout",
     "output_type": "stream",
     "text": [
      "Union of sets: {1, 2, 3, 4, 5}\n"
     ]
    }
   ],
   "source": [
    "set1 = {1, 2, 3}\n",
    "set2 = {3, 4, 5}\n",
    "\n",
    "union_set = set1.union(set2)\n",
    "print(\"Union of sets:\", union_set)"
   ]
  },
  {
   "cell_type": "markdown",
   "id": "60f63cc8",
   "metadata": {},
   "source": [
    "### 20. Write a code to find the intersection of two sets {1, 2, 3} and {2, 3, 4}."
   ]
  },
  {
   "cell_type": "code",
   "execution_count": 20,
   "id": "96a7e1f6",
   "metadata": {},
   "outputs": [
    {
     "name": "stdout",
     "output_type": "stream",
     "text": [
      "Intersection of sets: {2, 3}\n"
     ]
    }
   ],
   "source": [
    "set1 = {1, 2, 3}\n",
    "set2 = {2, 3, 4}\n",
    "\n",
    "intersection_set = set1.intersection(set2)\n",
    "print(\"Intersection of sets:\", intersection_set)"
   ]
  },
  {
   "cell_type": "markdown",
   "id": "19eb21b3",
   "metadata": {},
   "source": [
    "### 21. Write a code to create a dictionary with the keys \"name\", \"age\", and \"city\", and print it."
   ]
  },
  {
   "cell_type": "code",
   "execution_count": 21,
   "id": "70f7eb52",
   "metadata": {},
   "outputs": [
    {
     "name": "stdout",
     "output_type": "stream",
     "text": [
      "Dictionary: {'name': 'Alice', 'age': 25, 'city': 'Delhi'}\n"
     ]
    }
   ],
   "source": [
    "person = {\n",
    "    \"name\": \"Alice\",\n",
    "    \"age\": 25,\n",
    "    \"city\": \"Delhi\"\n",
    "}\n",
    "\n",
    "print(\"Dictionary:\", person)"
   ]
  },
  {
   "cell_type": "markdown",
   "id": "9b01058f",
   "metadata": {},
   "source": [
    "### 22. Write a code to add a new key-value pair \"country\": \"USA\" to the dictionary {'name': 'John', 'age': 25}."
   ]
  },
  {
   "cell_type": "code",
   "execution_count": 22,
   "id": "a6bc60d8",
   "metadata": {},
   "outputs": [
    {
     "name": "stdout",
     "output_type": "stream",
     "text": [
      "Updated dictionary: {'name': 'John', 'age': 25, 'country': 'USA'}\n"
     ]
    }
   ],
   "source": [
    "person = {'name': 'John', 'age': 25}\n",
    "person['country'] = 'USA'\n",
    "print(\"Updated dictionary:\", person)"
   ]
  },
  {
   "cell_type": "markdown",
   "id": "95442d0d",
   "metadata": {},
   "source": [
    "### 23. Write a code to access the value associated with the key \"name\" in the dictionary {'name': 'Alice', 'age': 30}."
   ]
  },
  {
   "cell_type": "code",
   "execution_count": 23,
   "id": "d48a3979",
   "metadata": {},
   "outputs": [
    {
     "name": "stdout",
     "output_type": "stream",
     "text": [
      "Value of 'name': Alice\n"
     ]
    }
   ],
   "source": [
    "person = {'name': 'Alice', 'age': 30}\n",
    "name_value = person['name']\n",
    "print(\"Value of 'name':\", name_value)"
   ]
  },
  {
   "cell_type": "markdown",
   "id": "4fc5b4c4",
   "metadata": {},
   "source": [
    "### 24. Write a code to remove the key \"age\" from the dictionary {'name': 'Bob', 'age': 22, 'city': 'New York'}."
   ]
  },
  {
   "cell_type": "code",
   "execution_count": 24,
   "id": "e63803eb",
   "metadata": {},
   "outputs": [
    {
     "name": "stdout",
     "output_type": "stream",
     "text": [
      "Updated dictionary: {'name': 'Bob', 'city': 'New York'}\n"
     ]
    }
   ],
   "source": [
    "person = {'name': 'Bob', 'age': 22, 'city': 'New York'}\n",
    "person.pop('age')\n",
    "print(\"Updated dictionary:\", person)"
   ]
  },
  {
   "cell_type": "markdown",
   "id": "f1491057",
   "metadata": {},
   "source": [
    "### 25. Write a code to check if the key \"city\" exists in the dictionary {'name': 'Alice', 'city': 'Paris'}."
   ]
  },
  {
   "cell_type": "code",
   "execution_count": 25,
   "id": "c8eb5b92",
   "metadata": {},
   "outputs": [
    {
     "name": "stdout",
     "output_type": "stream",
     "text": [
      "Key 'city' exists in the dictionary.\n"
     ]
    }
   ],
   "source": [
    "person = {'name': 'Alice', 'city': 'Paris'}\n",
    "if 'city' in person:\n",
    "    print(\"Key 'city' exists in the dictionary.\")\n",
    "else:\n",
    "    print(\"Key 'city' does not exist in the dictionary.\")"
   ]
  },
  {
   "cell_type": "markdown",
   "id": "4c94a425",
   "metadata": {},
   "source": [
    "### 26. Write a code to create a list, a tuple, and a dictionary, and print them all."
   ]
  },
  {
   "cell_type": "code",
   "execution_count": 26,
   "id": "e2937f07",
   "metadata": {},
   "outputs": [
    {
     "name": "stdout",
     "output_type": "stream",
     "text": [
      "List: [1, 2, 3, 4, 5]\n",
      "Tuple: ('apple', 'banana', 'cherry')\n",
      "Dictionary: {'name': 'John', 'age': 30, 'city': 'New York'}\n"
     ]
    }
   ],
   "source": [
    "my_list = [1, 2, 3, 4, 5]\n",
    "my_tuple = ('apple', 'banana', 'cherry')\n",
    "my_dict = {'name': 'John', 'age': 30, 'city': 'New York'}\n",
    "\n",
    "print(\"List:\", my_list)\n",
    "print(\"Tuple:\", my_tuple)\n",
    "print(\"Dictionary:\", my_dict)"
   ]
  },
  {
   "cell_type": "markdown",
   "id": "736b4d0a",
   "metadata": {},
   "source": [
    "### 27. Write a code to create a list of 5 random numbers between 1 and 100, sort it in ascending order, and print the result."
   ]
  },
  {
   "cell_type": "code",
   "execution_count": 27,
   "id": "47ca97c4",
   "metadata": {},
   "outputs": [
    {
     "name": "stdout",
     "output_type": "stream",
     "text": [
      "Sorted random numbers: [10, 57, 70, 85, 92]\n"
     ]
    }
   ],
   "source": [
    "import random\n",
    "\n",
    "random_numbers = random.sample(range(1, 101), 5)\n",
    "random_numbers.sort()\n",
    "\n",
    "print(\"Sorted random numbers:\", random_numbers)"
   ]
  },
  {
   "cell_type": "markdown",
   "id": "4c2ba11d",
   "metadata": {},
   "source": [
    "### 28. Write a code to create a list with strings and print the element at the third index."
   ]
  },
  {
   "cell_type": "code",
   "execution_count": 28,
   "id": "335ead76",
   "metadata": {},
   "outputs": [
    {
     "name": "stdout",
     "output_type": "stream",
     "text": [
      "Element at index 3: date\n"
     ]
    }
   ],
   "source": [
    "my_list = [\"apple\", \"banana\", \"cherry\", \"date\", \"elderberry\"]\n",
    "\n",
    "print(\"Element at index 3:\", my_list[3])"
   ]
  },
  {
   "cell_type": "markdown",
   "id": "c002cf54",
   "metadata": {},
   "source": [
    "### 29. Write a code to combine two dictionaries into one and print the result."
   ]
  },
  {
   "cell_type": "code",
   "execution_count": 29,
   "id": "08b48b2b",
   "metadata": {},
   "outputs": [
    {
     "name": "stdout",
     "output_type": "stream",
     "text": [
      "Combined dictionary: {'a': 1, 'b': 2, 'c': 3, 'd': 4}\n"
     ]
    }
   ],
   "source": [
    "dict1 = {'a': 1, 'b': 2}\n",
    "dict2 = {'c': 3, 'd': 4}\n",
    "\n",
    "combined_dict = {**dict1, **dict2}\n",
    "\n",
    "print(\"Combined dictionary:\", combined_dict)"
   ]
  },
  {
   "cell_type": "markdown",
   "id": "bb411ecd",
   "metadata": {},
   "source": [
    "### 30. Write a code to convert a list of strings into a set."
   ]
  },
  {
   "cell_type": "code",
   "execution_count": 30,
   "id": "e8ffde71",
   "metadata": {},
   "outputs": [
    {
     "name": "stdout",
     "output_type": "stream",
     "text": [
      "Set: {'cherry', 'apple', 'banana'}\n"
     ]
    }
   ],
   "source": [
    "string_list = [\"apple\", \"banana\", \"cherry\", \"apple\"]\n",
    "string_set = set(string_list)\n",
    "\n",
    "print(\"Set:\", string_set)"
   ]
  }
 ],
 "metadata": {
  "kernelspec": {
   "display_name": "base",
   "language": "python",
   "name": "python3"
  },
  "language_info": {
   "codemirror_mode": {
    "name": "ipython",
    "version": 3
   },
   "file_extension": ".py",
   "mimetype": "text/x-python",
   "name": "python",
   "nbconvert_exporter": "python",
   "pygments_lexer": "ipython3",
   "version": "3.12.4"
  }
 },
 "nbformat": 4,
 "nbformat_minor": 5
}
