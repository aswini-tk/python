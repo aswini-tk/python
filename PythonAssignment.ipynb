{
 "cells": [
  {
   "cell_type": "markdown",
   "id": "5c026630",
   "metadata": {},
   "source": [
    "# Python Basics "
   ]
  },
  {
   "cell_type": "markdown",
   "id": "041f1cd4",
   "metadata": {},
   "source": [
    "### 1. What is Python, and why is it popular?"
   ]
  },
  {
   "cell_type": "markdown",
   "id": "90d0d9ce-84f3-44ed-8296-82abaa8a5f20",
   "metadata": {},
   "source": [
    "Python is a high-level, interpreted programming language known for its clear syntax and readability.Python supports multiple programming paradigms, including procedural, object-oriented, and functional programming.\n",
    "\n",
    "Python's syntax is simple and close to natural language, making it beginner-friendly.It is used in various fields like web development, data science, artificial intelligence, automation, scripting, game development, and more.Includes powerful libraries like NumPy, Pandas, Matplotlib, Scikit-learn for Data Science, Django, Flask for Web development,  TensorFlow, PyTorch for AI/ML.Huge community of developers contributes to Python's continuous development and provides support via forums, tutorials, and documentation. Companies like Google, Facebook, Netflix, NASA, and Dropbox use Python for various applications."
   ]
  },
  {
   "cell_type": "markdown",
   "id": "5ff7ad59",
   "metadata": {},
   "source": [
    "### 2. What is an interpreter in Python?"
   ]
  },
  {
   "cell_type": "markdown",
   "id": "b1a7f84f-6c31-4d0e-b679-e22c1d83272e",
   "metadata": {},
   "source": [
    "An interpreter in Python is a program that reads and executes Python code line by line rather than compiling the entire program before running it.The Python interpreter reads your code, parses it, and executes it line by line. Unlike compiled languages like C or Java, you don’t need to compile Python code into machine code beforehand.You can use the interpreter directly by typing python or python3 in your terminal. This opens an interactive prompt (>>>) to run Python code live."
   ]
  },
  {
   "cell_type": "markdown",
   "id": "abcd4f34",
   "metadata": {},
   "source": [
    "### 3. What are pre-defined keywords in Python?"
   ]
  },
  {
   "cell_type": "markdown",
   "id": "7ba40d89-cbae-49cb-bc4a-7f95b91a81df",
   "metadata": {},
   "source": [
    "Pre-defined keywords in Python are special words that are reserved by the language. You cannot use them as variable names, function names, or identifiers, because they already have a specific meaning in Python's syntax."
   ]
  },
  {
   "cell_type": "markdown",
   "id": "24ed4d0b",
   "metadata": {},
   "source": [
    "### 4. Can keywords be used as variable names?"
   ]
  },
  {
   "cell_type": "markdown",
   "id": "a94088fc-311c-4f28-8439-ba4266b96c0a",
   "metadata": {},
   "source": [
    "Keywords are reserved words that have special meaning in Python syntax — using them as variable names would confuse the interpreter and cause a syntax error."
   ]
  },
  {
   "cell_type": "markdown",
   "id": "943a9b91",
   "metadata": {},
   "source": [
    "### 5. What is mutability in Python?"
   ]
  },
  {
   "cell_type": "markdown",
   "id": "7ca032c5-b4e7-432e-8539-646777e4cc31",
   "metadata": {},
   "source": [
    "Mutability in Python refers to whether or not an object’s value can be changed after it is created.Mutable Objects can be changed after creation for example list, dict, set, bytearray. Immutable Objects cannot be changed after creation for example int, float, str, tuple, bool, frozenset."
   ]
  },
  {
   "cell_type": "markdown",
   "id": "ce3fd72c",
   "metadata": {},
   "source": [
    "### 6. Why are lists mutable, but tuples are immutable?"
   ]
  },
  {
   "cell_type": "markdown",
   "id": "6c68c220-c985-41d4-9633-b1e9b40932aa",
   "metadata": {},
   "source": [
    "You can change, add, or remove elements after the list is created. Lists are designed for flexibility and frequent modification. You cannot modify a tuple once it’s created — no add, delete, or change.Tuples are designed for data integrity, performance, and safety. Useful when data should remain constant.This distinction helps Python programmers choose the right type depending on how the data will be used."
   ]
  },
  {
   "cell_type": "markdown",
   "id": "ab905391",
   "metadata": {},
   "source": [
    "### 7. What is the difference between `==` and `is` operators in Python?"
   ]
  },
  {
   "cell_type": "markdown",
   "id": "fad9f88f-7a09-4864-8f9a-1b2df57c1084",
   "metadata": {},
   "source": [
    "Both == and is are comparison operators, but they check for different things. Both == and is are comparison operators, but they check for different things.Works even if the objects are stored in different memory locations.Checks if two variables refer to the same object in memory. Returns True only if both variables point to the same memory address."
   ]
  },
  {
   "cell_type": "markdown",
   "id": "49212d32",
   "metadata": {},
   "source": [
    "### 8. What are logical operators in Python?"
   ]
  },
  {
   "cell_type": "markdown",
   "id": "c675629a-5342-4fa8-b1d7-c32a0d0dd6d6",
   "metadata": {},
   "source": [
    "Logical operators in Python are used to combine conditional statements (expressions that evaluate to True or False). Examples are and, or, not."
   ]
  },
  {
   "cell_type": "markdown",
   "id": "91bd3a19",
   "metadata": {},
   "source": [
    "### 9. What is type casting in Python?"
   ]
  },
  {
   "cell_type": "markdown",
   "id": "c302bc9b-9893-4738-a03a-d9d2e2f47fc0",
   "metadata": {},
   "source": [
    "Type casting in Python means converting one data type into another, either manually (explicitly) or automatically (implicitly)."
   ]
  },
  {
   "cell_type": "markdown",
   "id": "d83adb31",
   "metadata": {},
   "source": [
    "### 10. What is the difference between implicit and explicit type casting?"
   ]
  },
  {
   "cell_type": "markdown",
   "id": "c5cf3eeb-3009-4dd7-874d-e49a1fa435bc",
   "metadata": {},
   "source": [
    "As part of Explicit typecasting you manually convert one type to another using built-in functions: int(), float(), str(), bool(), list(), tuple(), set(). For Implicit typecasting Python automatically converts one type to another during an operation when needed. Type casting lets you convert values between different data types."
   ]
  },
  {
   "cell_type": "markdown",
   "id": "bb6a7f9e",
   "metadata": {},
   "source": [
    "### 11. What is the purpose of conditional statements in Python?"
   ]
  },
  {
   "cell_type": "markdown",
   "id": "c4101419-0d6b-4418-856c-a868f4a87478",
   "metadata": {},
   "source": [
    "Conditional statements in Python are used to make decisions in your program based on whether a condition is True or False.It is to control the flow of execution by choosing which block of code to run, depending on specific conditions. In python we have If, else, elif."
   ]
  },
  {
   "cell_type": "markdown",
   "id": "9aeeb456",
   "metadata": {},
   "source": [
    "### 12. How does the `elif` statement work?"
   ]
  },
  {
   "cell_type": "markdown",
   "id": "6f5af30f-f7a8-43ab-8d51-3a2ae0d005b4",
   "metadata": {},
   "source": [
    "elif – (Else If) Checks another condition if the previous if was False.It runs only if the if condition is False and its own condition is True. If that elif is False, checks the next elif, and so on.If none are True, the else block (if present) runs."
   ]
  },
  {
   "cell_type": "markdown",
   "id": "b4914232",
   "metadata": {},
   "source": [
    "### 13. What is the difference between `for` and `while` loops?"
   ]
  },
  {
   "cell_type": "markdown",
   "id": "b90681fd-5ed4-4454-ad14-b81d2d4f4e02",
   "metadata": {},
   "source": [
    "Both for and while loops are used to repeat a block of code, but they are used in different situations based on the type of repetition needed. for loop is used when you know in advance how many times you want to loop and commonly used to iterate over a sequence . while loop is used when you don’t know beforehand how many times to loop and repeats as long as a condition is True."
   ]
  },
  {
   "cell_type": "markdown",
   "id": "0556332c",
   "metadata": {},
   "source": [
    "### 14. Describe a scenario where a `while` loop is more suitable than a `for` loop."
   ]
  },
  {
   "cell_type": "markdown",
   "id": "3e238806-9600-4504-aafe-b8340b71aa64",
   "metadata": {},
   "source": [
    "Imagine you are building a program that asks the user to enter the correct password. You don’t know how many attempts they’ll need — so the loop must run until the correct input is given.\n",
    "\n",
    "In this case, a while loop is more suitable because the number of iterations is not fixed and depends on user input."
   ]
  },
  {
   "cell_type": "markdown",
   "id": "ebfa5fbf",
   "metadata": {},
   "source": [
    "# Practical Questions"
   ]
  },
  {
   "cell_type": "markdown",
   "id": "ceb0c5a7",
   "metadata": {},
   "source": [
    "### 1. Write a Python program to print `\"Hello, World!\"`."
   ]
  },
  {
   "cell_type": "code",
   "execution_count": 24,
   "id": "cd448c90",
   "metadata": {},
   "outputs": [
    {
     "name": "stdout",
     "output_type": "stream",
     "text": [
      "Hello, World!\n"
     ]
    }
   ],
   "source": [
    "print(\"Hello, World!\")"
   ]
  },
  {
   "cell_type": "markdown",
   "id": "2cb45280",
   "metadata": {},
   "source": [
    "### 2. Write a Python program that displays your name and age."
   ]
  },
  {
   "cell_type": "code",
   "execution_count": 26,
   "id": "9a96bd78",
   "metadata": {},
   "outputs": [
    {
     "name": "stdout",
     "output_type": "stream",
     "text": [
      "My name is Aswini\n",
      "I am 30 years old\n"
     ]
    }
   ],
   "source": [
    "name = \"Aswini\"\n",
    "age = 30\n",
    "\n",
    "print(\"My name is\", name)\n",
    "print(\"I am\", age, \"years old\")"
   ]
  },
  {
   "cell_type": "markdown",
   "id": "1d44f236",
   "metadata": {},
   "source": [
    "### 3. Write code to print all the pre-defined keywords in Python using the `keyword` library."
   ]
  },
  {
   "cell_type": "code",
   "execution_count": 28,
   "id": "a4fdb637",
   "metadata": {},
   "outputs": [
    {
     "name": "stdout",
     "output_type": "stream",
     "text": [
      "List of Python keywords:\n",
      "False\n",
      "None\n",
      "True\n",
      "and\n",
      "as\n",
      "assert\n",
      "async\n",
      "await\n",
      "break\n",
      "class\n",
      "continue\n",
      "def\n",
      "del\n",
      "elif\n",
      "else\n",
      "except\n",
      "finally\n",
      "for\n",
      "from\n",
      "global\n",
      "if\n",
      "import\n",
      "in\n",
      "is\n",
      "lambda\n",
      "nonlocal\n",
      "not\n",
      "or\n",
      "pass\n",
      "raise\n",
      "return\n",
      "try\n",
      "while\n",
      "with\n",
      "yield\n"
     ]
    }
   ],
   "source": [
    "import keyword\n",
    "\n",
    "keywords = keyword.kwlist\n",
    "\n",
    "print(\"List of Python keywords:\")\n",
    "for kw in keywords:\n",
    "    print(kw)"
   ]
  },
  {
   "cell_type": "markdown",
   "id": "94283dc6",
   "metadata": {},
   "source": [
    "### 4. Write a program that checks if a given word is a Python keyword."
   ]
  },
  {
   "cell_type": "code",
   "execution_count": 30,
   "id": "4c84bffa",
   "metadata": {},
   "outputs": [
    {
     "name": "stdout",
     "output_type": "stream",
     "text": [
      "Enter a word to check if it's a Python keyword:  while\n"
     ]
    },
    {
     "name": "stdout",
     "output_type": "stream",
     "text": [
      "'while' is a Python keyword.\n"
     ]
    }
   ],
   "source": [
    "import keyword\n",
    "\n",
    "word = input(\"Enter a word to check if it's a Python keyword: \")\n",
    "\n",
    "if keyword.iskeyword(word):\n",
    "    print(f\"'{word}' is a Python keyword.\")\n",
    "else:\n",
    "    print(f\"'{word}' is NOT a Python keyword.\")"
   ]
  },
  {
   "cell_type": "markdown",
   "id": "26c314af",
   "metadata": {},
   "source": [
    "### 5. Create a list and tuple in Python, and demonstrate how attempting to change an element works differently for each."
   ]
  },
  {
   "cell_type": "code",
   "execution_count": 34,
   "id": "cc6e5845",
   "metadata": {},
   "outputs": [
    {
     "name": "stdout",
     "output_type": "stream",
     "text": [
      "Original list: [10, 20, 30]\n",
      "Modified list: [10, 99, 30]\n",
      "\n",
      "Original tuple: (10, 20, 30)\n",
      "Error while modifying tuple: 'tuple' object does not support item assignment\n"
     ]
    }
   ],
   "source": [
    "my_list = [10, 20, 30]\n",
    "my_tuple = (10, 20, 30)\n",
    "\n",
    "print(\"Original list:\", my_list)\n",
    "my_list[1] = 99\n",
    "print(\"Modified list:\", my_list)\n",
    "\n",
    "print(\"\\nOriginal tuple:\", my_tuple)\n",
    "try:\n",
    "    my_tuple[1] = 99\n",
    "except TypeError as e:\n",
    "    print(\"Error while modifying tuple:\", e)"
   ]
  },
  {
   "cell_type": "markdown",
   "id": "e6853a15",
   "metadata": {},
   "source": [
    "### 6. Write a function to demonstrate the behavior of mutable and immutable arguments."
   ]
  },
  {
   "cell_type": "code",
   "execution_count": 36,
   "id": "a3a71c9d",
   "metadata": {},
   "outputs": [
    {
     "name": "stdout",
     "output_type": "stream",
     "text": [
      "Before function call:\n",
      "number: 5\n",
      "my_list: [1, 2, 3]\n",
      "\n",
      "Inside the function:\n",
      "num (modified): 15\n",
      "items (modified): [1, 2, 3, 4]\n",
      "\n",
      "After function call:\n",
      "number: 5\n",
      "my_list: [1, 2, 3, 4]\n"
     ]
    }
   ],
   "source": [
    "def modify_arguments(num, items):\n",
    "    print(\"\\nInside the function:\")\n",
    "    num += 10              # Attempt to modify immutable (int)\n",
    "    items.append(4)        # Modify mutable (list)\n",
    "    print(\"num (modified):\", num)\n",
    "    print(\"items (modified):\", items)\n",
    "\n",
    "# Immutable argument\n",
    "number = 5\n",
    "\n",
    "# Mutable argument\n",
    "my_list = [1, 2, 3]\n",
    "\n",
    "print(\"Before function call:\")\n",
    "print(\"number:\", number)\n",
    "print(\"my_list:\", my_list)\n",
    "\n",
    "modify_arguments(number, my_list)\n",
    "\n",
    "print(\"\\nAfter function call:\")\n",
    "print(\"number:\", number)      # Unchanged (immutable)\n",
    "print(\"my_list:\", my_list)    # Changed (mutable)\n"
   ]
  },
  {
   "cell_type": "markdown",
   "id": "0cbae8dd",
   "metadata": {},
   "source": [
    "### 7 .Write a program that performs basic arithmetic operations on two user-input numbers."
   ]
  },
  {
   "cell_type": "code",
   "execution_count": 38,
   "id": "81c63383",
   "metadata": {},
   "outputs": [
    {
     "name": "stdout",
     "output_type": "stream",
     "text": [
      "Enter the first number:  20\n",
      "Enter the second number:  35\n"
     ]
    },
    {
     "name": "stdout",
     "output_type": "stream",
     "text": [
      "\n",
      "Results:\n",
      "Addition: 55.0\n",
      "Subtraction: -15.0\n",
      "Multiplication: 700.0\n",
      "Division: 0.5714285714285714\n"
     ]
    }
   ],
   "source": [
    "# Get user input\n",
    "num1 = float(input(\"Enter the first number: \"))\n",
    "num2 = float(input(\"Enter the second number: \"))\n",
    "\n",
    "# Perform arithmetic operations\n",
    "addition = num1 + num2\n",
    "subtraction = num1 - num2\n",
    "multiplication = num1 * num2\n",
    "\n",
    "# Handle division by zero\n",
    "if num2 != 0:\n",
    "    division = num1 / num2\n",
    "else:\n",
    "    division = \"Undefined (cannot divide by zero)\"\n",
    "\n",
    "# Display results\n",
    "print(\"\\nResults:\")\n",
    "print(\"Addition:\", addition)\n",
    "print(\"Subtraction:\", subtraction)\n",
    "print(\"Multiplication:\", multiplication)\n",
    "print(\"Division:\", division)\n"
   ]
  },
  {
   "cell_type": "markdown",
   "id": "4f87906e",
   "metadata": {},
   "source": [
    "### 8. Write a program to demonstrate the use of logical operators."
   ]
  },
  {
   "cell_type": "code",
   "execution_count": 40,
   "id": "65f690b6",
   "metadata": {},
   "outputs": [
    {
     "name": "stdout",
     "output_type": "stream",
     "text": [
      "Enter your age:  30\n",
      "Do you have a voter ID? (yes/no):  yes\n"
     ]
    },
    {
     "name": "stdout",
     "output_type": "stream",
     "text": [
      "You are eligible to vote.\n"
     ]
    }
   ],
   "source": [
    "# Get user input\n",
    "age = int(input(\"Enter your age: \"))\n",
    "has_voter_id = input(\"Do you have a voter ID? (yes/no): \").lower()\n",
    "\n",
    "# Using logical operators\n",
    "\n",
    "# AND: both conditions must be true\n",
    "if age >= 18 and has_voter_id == \"yes\":\n",
    "    print(\"You are eligible to vote.\")\n",
    "\n",
    "# OR: at least one condition must be true\n",
    "elif age >= 18 or has_voter_id == \"yes\":\n",
    "    print(\"You may be eligible, but check documentation.\")\n",
    "\n",
    "# NOT: reverses the boolean value\n",
    "else:\n",
    "    if not (age >= 18):\n",
    "        print(\"You are not eligible to vote due to age.\")\n",
    "    if not (has_voter_id == \"yes\"):\n",
    "        print(\"You are not eligible to vote due to missing voter ID.\")\n"
   ]
  },
  {
   "cell_type": "markdown",
   "id": "bd3af29c",
   "metadata": {},
   "source": [
    "### 9. Write a Python program to convert user input from string to integer, float, and boolean types."
   ]
  },
  {
   "cell_type": "code",
   "execution_count": 42,
   "id": "58c63cf8",
   "metadata": {},
   "outputs": [
    {
     "name": "stdout",
     "output_type": "stream",
     "text": [
      "Enter a value:  abc\n"
     ]
    },
    {
     "name": "stdout",
     "output_type": "stream",
     "text": [
      "Cannot convert to integer.\n",
      "Cannot convert to float.\n",
      "Boolean value: True\n"
     ]
    }
   ],
   "source": [
    "# Get input from the user\n",
    "user_input = input(\"Enter a value: \")\n",
    "\n",
    "# Convert to integer\n",
    "try:\n",
    "    int_value = int(user_input)\n",
    "    print(\"Integer value:\", int_value)\n",
    "except ValueError:\n",
    "    print(\"Cannot convert to integer.\")\n",
    "\n",
    "# Convert to float\n",
    "try:\n",
    "    float_value = float(user_input)\n",
    "    print(\"Float value:\", float_value)\n",
    "except ValueError:\n",
    "    print(\"Cannot convert to float.\")\n",
    "\n",
    "# Convert to boolean\n",
    "# Non-empty string and anything other than '0', 'false', 'no' (case-insensitive) is considered True\n",
    "bool_value = user_input.strip().lower() not in (\"\", \"0\", \"false\", \"no\")\n",
    "print(\"Boolean value:\", bool_value)\n"
   ]
  },
  {
   "cell_type": "markdown",
   "id": "410d7bd9",
   "metadata": {},
   "source": [
    "### 10. Write code to demonstrate type casting with list elements."
   ]
  },
  {
   "cell_type": "code",
   "execution_count": 44,
   "id": "3a228548",
   "metadata": {},
   "outputs": [
    {
     "name": "stdout",
     "output_type": "stream",
     "text": [
      "Original string list: ['10', '20', '30', '40.5']\n",
      "Converted to integers: [10, 20, 30]\n",
      "Converted to floats: [10.0, 20.0, 30.0, 40.5]\n",
      "Converted back to strings: ['10.0', '20.0', '30.0', '40.5']\n"
     ]
    }
   ],
   "source": [
    "# Original list with string elements\n",
    "str_list = [\"10\", \"20\", \"30\", \"40.5\"]\n",
    "\n",
    "# Convert string elements to integers (where possible)\n",
    "int_list = []\n",
    "for item in str_list[:-1]:  # Skip the last one because it's a float string\n",
    "    int_list.append(int(item))\n",
    "\n",
    "# Convert all string elements to floats\n",
    "float_list = [float(item) for item in str_list]\n",
    "\n",
    "# Convert all elements to strings again\n",
    "str_again_list = [str(item) for item in float_list]\n",
    "\n",
    "# Print results\n",
    "print(\"Original string list:\", str_list)\n",
    "print(\"Converted to integers:\", int_list)\n",
    "print(\"Converted to floats:\", float_list)\n",
    "print(\"Converted back to strings:\", str_again_list)\n"
   ]
  },
  {
   "cell_type": "markdown",
   "id": "b53d98e6",
   "metadata": {},
   "source": [
    "### 11. Write a program that checks if a number is positive, negative, or zero."
   ]
  },
  {
   "cell_type": "code",
   "execution_count": 46,
   "id": "4751c7a1",
   "metadata": {},
   "outputs": [
    {
     "name": "stdout",
     "output_type": "stream",
     "text": [
      "Enter a number:  -5\n"
     ]
    },
    {
     "name": "stdout",
     "output_type": "stream",
     "text": [
      "The number is negative.\n"
     ]
    }
   ],
   "source": [
    "# Get input from the user\n",
    "num = float(input(\"Enter a number: \"))\n",
    "\n",
    "# Check if the number is positive, negative, or zero\n",
    "if num > 0:\n",
    "    print(\"The number is positive.\")\n",
    "elif num < 0:\n",
    "    print(\"The number is negative.\")\n",
    "else:\n",
    "    print(\"The number is zero.\")\n"
   ]
  },
  {
   "cell_type": "markdown",
   "id": "63f21805",
   "metadata": {},
   "source": [
    "### 12. Write a `for` loop to print numbers from 1 to 10."
   ]
  },
  {
   "cell_type": "code",
   "execution_count": 48,
   "id": "195c6dd2",
   "metadata": {},
   "outputs": [
    {
     "name": "stdout",
     "output_type": "stream",
     "text": [
      "1\n",
      "2\n",
      "3\n",
      "4\n",
      "5\n",
      "6\n",
      "7\n",
      "8\n",
      "9\n",
      "10\n"
     ]
    }
   ],
   "source": [
    "# Print numbers from 1 to 10 using a for loop\n",
    "for i in range(1, 11):\n",
    "    print(i)"
   ]
  },
  {
   "cell_type": "markdown",
   "id": "ba644eed",
   "metadata": {},
   "source": [
    "### 13. Write a Python program to find the sum of all even numbers between 1 and 50."
   ]
  },
  {
   "cell_type": "code",
   "execution_count": 50,
   "id": "2bcbac70",
   "metadata": {},
   "outputs": [
    {
     "name": "stdout",
     "output_type": "stream",
     "text": [
      "Sum of all even numbers from 1 to 50 is: 650\n"
     ]
    }
   ],
   "source": [
    "# Initialize sum\n",
    "even_sum = 0\n",
    "\n",
    "# Loop through numbers from 1 to 50\n",
    "for num in range(1, 51):\n",
    "    if num % 2 == 0:\n",
    "        even_sum += num\n",
    "\n",
    "# Print the result\n",
    "print(\"Sum of all even numbers from 1 to 50 is:\", even_sum)\n"
   ]
  },
  {
   "cell_type": "markdown",
   "id": "32fea6fe",
   "metadata": {},
   "source": [
    "### 14. Write a program to reverse a string using a `while` loop."
   ]
  },
  {
   "cell_type": "code",
   "execution_count": 52,
   "id": "d7896198",
   "metadata": {},
   "outputs": [
    {
     "name": "stdout",
     "output_type": "stream",
     "text": [
      "Enter a string:  mother\n"
     ]
    },
    {
     "name": "stdout",
     "output_type": "stream",
     "text": [
      "Reversed string: rehtom\n"
     ]
    }
   ],
   "source": [
    "# Get input from the user\n",
    "text = input(\"Enter a string: \")\n",
    "\n",
    "# Initialize variables\n",
    "reversed_text = \"\"\n",
    "index = len(text) - 1\n",
    "\n",
    "# Reverse using while loop\n",
    "while index >= 0:\n",
    "    reversed_text += text[index]\n",
    "    index -= 1\n",
    "\n",
    "# Print the reversed string\n",
    "print(\"Reversed string:\", reversed_text)\n"
   ]
  },
  {
   "cell_type": "markdown",
   "id": "7a59c9ef",
   "metadata": {},
   "source": [
    "### 15. Write a Python program to calculate the factorial of a number provided by the user using a `while` loop."
   ]
  },
  {
   "cell_type": "code",
   "execution_count": 54,
   "id": "6546a828",
   "metadata": {},
   "outputs": [
    {
     "name": "stdout",
     "output_type": "stream",
     "text": [
      "Enter a non-negative integer:  6\n"
     ]
    },
    {
     "name": "stdout",
     "output_type": "stream",
     "text": [
      "Factorial of 6 is: 720\n"
     ]
    }
   ],
   "source": [
    "# Get input from the user\n",
    "num = int(input(\"Enter a non-negative integer: \"))\n",
    "\n",
    "# Validate input\n",
    "if num < 0:\n",
    "    print(\"Factorial is not defined for negative numbers.\")\n",
    "else:\n",
    "    factorial = 1\n",
    "    i = 1\n",
    "\n",
    "    # Calculate factorial using while loop\n",
    "    while i <= num:\n",
    "        factorial *= i\n",
    "        i += 1\n",
    "\n",
    "    # Display the result\n",
    "    print(f\"Factorial of {num} is: {factorial}\")\n"
   ]
  },
  {
   "cell_type": "code",
   "execution_count": null,
   "id": "b9ebbb38-6d0a-45dc-9532-7e1a8003756c",
   "metadata": {},
   "outputs": [],
   "source": []
  }
 ],
 "metadata": {
  "kernelspec": {
   "display_name": "Python 3 (ipykernel)",
   "language": "python",
   "name": "python3"
  },
  "language_info": {
   "codemirror_mode": {
    "name": "ipython",
    "version": 3
   },
   "file_extension": ".py",
   "mimetype": "text/x-python",
   "name": "python",
   "nbconvert_exporter": "python",
   "pygments_lexer": "ipython3",
   "version": "3.12.4"
  }
 },
 "nbformat": 4,
 "nbformat_minor": 5
}
